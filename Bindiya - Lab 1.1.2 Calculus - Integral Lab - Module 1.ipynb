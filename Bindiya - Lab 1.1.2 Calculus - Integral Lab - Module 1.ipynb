{
 "cells": [
  {
   "cell_type": "markdown",
   "metadata": {
    "colab_type": "text",
    "id": "YPFbgplmKcYp"
   },
   "source": [
    "<div>\n",
    "<img src=https://www.institutedata.com/wp-content/uploads/2019/10/iod_h_tp_primary_c.svg width=\"300\">\n",
    "</div>\n",
    "\n",
    "# Calculus - Integral"
   ]
  },
  {
   "cell_type": "code",
   "execution_count": 38,
   "metadata": {
    "colab": {},
    "colab_type": "code",
    "id": "NxkLjNxUKcYr"
   },
   "outputs": [],
   "source": [
    "import numpy as np\n",
    "import matplotlib.pyplot as plt\n",
    "# get matplot to show charts inline\n",
    "%matplotlib inline"
   ]
  },
  {
   "cell_type": "code",
   "execution_count": 75,
   "metadata": {
    "colab": {},
    "colab_type": "code",
    "id": "49k4u8lCKcYy"
   },
   "outputs": [],
   "source": [
    "# define a function such as f(x) = x**2\n",
    "def f(x):\n",
    "  '''\n",
    "  Return x**2\n",
    "  '''\n",
    "  return x**2"
   ]
  },
  {
   "cell_type": "code",
   "execution_count": 76,
   "metadata": {
    "colab": {},
    "colab_type": "code",
    "id": "lrcZ0mY6KcZD"
   },
   "outputs": [
    {
     "data": {
      "image/png": "[encoded data removed]",
      "text/plain": [
       "<Figure size 432x288 with 1 Axes>"
      ]
     },
     "metadata": {
      "needs_background": "light"
     },
     "output_type": "display_data"
    }
   ],
   "source": [
    "# plot f(x)\n",
    "x = np.arange(-10, 11, 1)\n",
    "y = f(x)\n",
    "\n",
    "plt.plot(x,y)\n",
    "plt.xlabel('x')\n",
    "plt.ylabel('y')\n",
    "plt.show();"
   ]
  },
  {
   "cell_type": "code",
   "execution_count": 77,
   "metadata": {
    "colab": {},
    "colab_type": "code",
    "id": "VBkIo2EpKcY3",
    "scrolled": true
   },
   "outputs": [
    {
     "name": "stdout",
     "output_type": "stream",
     "text": [
      "f(2) =  100\n",
      "f(5) =  16\n",
      "f(-3) =  49\n"
     ]
    }
   ],
   "source": [
    "# test the function you defined above by simply print its value for some numbers\n",
    "print('f(2) = ', f(10))\n",
    "print('f(5) = ', f(4))\n",
    "print('f(-3) = ', f(-7))"
   ]
  },
  {
   "cell_type": "code",
   "execution_count": 78,
   "metadata": {},
   "outputs": [],
   "source": [
    "# define integral of f(x)\n",
    "# integral of a function is the area under the curve of this function\n",
    "# it can be approximated by plotting lots of retangles and add their areas\n",
    "# the more reactangles you draw, the better is the approximation\n",
    "# but why do it by hand where python can do a much better job?!\n",
    "def integral(startX, endX, numberOfRectangles):\n",
    "    \n",
    "    width = (float(endX) - float(startX)/ numberOfRectangles)\n",
    "    totalArea = 0\n",
    "    for i in range(numberOfRectangles):    \n",
    "        height = f(startX + i*width)\n",
    "        area = width * height\n",
    "        totalArea += area \n",
    "    return totalArea"
   ]
  },
  {
   "cell_type": "code",
   "execution_count": null,
   "metadata": {
    "colab": {},
    "colab_type": "code",
    "id": "4sX3AWgcKcZM"
   },
   "outputs": [],
   "source": []
  },
  {
   "cell_type": "code",
   "execution_count": 79,
   "metadata": {
    "colab": {},
    "colab_type": "code",
    "id": "oS70agDbKcZR"
   },
   "outputs": [
    {
     "name": "stdout",
     "output_type": "stream",
     "text": [
      "integral(2.0,4.0,10) =  25998174.855000008\n",
      "integral(2.0,4.0,1000) =  21301359989.337345\n",
      "-----\n",
      "integral(-1.0,2.0,10) =  2263.4850000000006\n",
      "integral(-1.0,2.0,1000) =  2662666003.3348346\n"
     ]
    }
   ],
   "source": [
    "# calculate integral of f(x) for some startX, endX and a number of rectangles\n",
    "print('integral(2.0,4.0,10) = ',integral(3.0,45.0,10))\n",
    "print('integral(2.0,4.0,1000) = ',integral(2.0,4.0,1000))\n",
    "print('-----')\n",
    "print('integral(-1.0,2.0,10) = ',integral(-1.0,2.0,10))\n",
    "print('integral(-1.0,2.0,1000) = ',integral(-1.0,2.0,1000))"
   ]
  },
  {
   "cell_type": "markdown",
   "metadata": {
    "colab_type": "text",
    "id": "JJ0gDK-OpoqJ"
   },
   "source": [
    "\n",
    "\n",
    "---\n",
    "\n",
    "\n",
    "\n",
    "---\n",
    "\n",
    "\n",
    "\n",
    "> > > > > > > > > © 2019 Institute of Data\n",
    "\n",
    "\n",
    "---\n",
    "\n",
    "\n",
    "\n",
    "---\n",
    "\n",
    "\n",
    "\n"
   ]
  }
 ],
 "metadata": {
  "colab": {
   "collapsed_sections": [],
   "name": "Lab 1.1.2 Calculus - Integral Lab.ipynb",
   "provenance": [
    {
     "file_id": "https://github.com/ikfaisal/dsia/blob/master/Calculus_Integral.ipynb",
     "timestamp": 1552459796323
    }
   ]
  },
  "kernelspec": {
   "display_name": "Python 3",
   "language": "python",
   "name": "python3"
  },
  "language_info": {
   "codemirror_mode": {
    "name": "ipython",
    "version": 3
   },
   "file_extension": ".py",
   "mimetype": "text/x-python",
   "name": "python",
   "nbconvert_exporter": "python",
   "pygments_lexer": "ipython3",
   "version": "3.8.3"
  }
 },
 "nbformat": 4,
 "nbformat_minor": 1
}
