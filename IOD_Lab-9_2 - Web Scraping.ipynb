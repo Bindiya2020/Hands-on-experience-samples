{
 "cells": [
  {
   "cell_type": "markdown",
   "metadata": {
    "colab_type": "text",
    "id": "zYPZ2MKXMk4U"
   },
   "source": [
    "<div>\n",
    "<img src=https://www.institutedata.com/wp-content/uploads/2019/10/iod_h_tp_primary_c.svg width=\"300\">\n",
    "</div>"
   ]
  },
  {
   "cell_type": "markdown",
   "metadata": {
    "colab_type": "text",
    "id": "8j6-MfKHMk4Y"
   },
   "source": [
    "# Lab 9.2: Web Scraping\n",
    "INSTRUCTIONS:\n",
    "- Read the guides and hints then create the necessary analysis and code to find an answer and conclusion for the task below."
   ]
  },
  {
   "cell_type": "markdown",
   "metadata": {
    "colab_type": "text",
    "id": "HImUFlzCMk4c"
   },
   "source": [
    "# Web Scraping in Python (using BeautifulSoup)\n",
    "\n",
    "## Scraping Rules\n",
    "1. **Always** check a website’s **Terms and Conditions** before you scrape it. Be careful to read the statements about legal use of data. Usually, the retrieved data should not be used for commercial purposes.\n",
    "2. **Do not** request data from the website too aggressively with a program (also known as spamming), as this may break the website. Make sure the program behaves in a reasonable manner (i.e. acts like a human). One request for one webpage per second is good practice.\n",
    "3. The layout of a website may change from time to time, so make sure to revisit the site and rewrite the code as needed"
   ]
  },
  {
   "cell_type": "markdown",
   "metadata": {
    "colab_type": "text",
    "id": "l6UcvsYfMk4f"
   },
   "source": [
    "## Find a Page\n",
    "Visit the [Fandom](http://fandom.wikia.com) website, find a wikia of your interest and pick a page to work with."
   ]
  },
  {
   "cell_type": "markdown",
   "metadata": {
    "colab_type": "text",
    "id": "-NXv6z-6Mk4i"
   },
   "source": [
    "Open a web page with the browser and inspect it.\n",
    "\n",
    "Hover the cursor on the text and follow the shaded box surrounding the main text.\n",
    "\n",
    "From the result, check the main text inside a few levels of HTML tags."
   ]
  },
  {
   "cell_type": "raw",
   "metadata": {
    "colab": {},
    "colab_type": "code",
    "id": "nYkrA5JuMk4m"
   },
   "source": [
    "## Import Libraries\n",
    "import requests\n",
    "from bs4 import BeautifulSoup"
   ]
  },
  {
   "cell_type": "raw",
   "metadata": {},
   "source": [
    "def extract(page):\n",
    "    headers = {'User-Agent':'Mozilla/5.0 (Macintosh; Intel Mac OS X 10_15_7) AppleWebKit/605.1.15 (KHTML, like Gecko) Version/14.0.2 Safari/605.1.15'}\n",
    "    url=f'https://www.fandom.com/topics/movies'\n",
    "    r=requests.get(url,headers)\n",
    "    soup =BeautifulSoup(r.content,'html.parser')\n",
    "    return soup\n",
    "    c=extract(0)\n",
    "    def transform(soup)\n",
    "divs= soup.findall() # incomplete code"
   ]
  },
  {
   "cell_type": "code",
   "execution_count": 9,
   "metadata": {},
   "outputs": [],
   "source": [
    "## Import Libraries\n",
    "import regex as re\n",
    "\n",
    "from urllib.parse import unquote\n",
    "import urllib3\n",
    "from bs4 import BeautifulSoup\n",
    "\n",
    "import warnings\n",
    "warnings.filterwarnings('ignore')"
   ]
  },
  {
   "cell_type": "markdown",
   "metadata": {
    "colab_type": "text",
    "id": "hb3_djX0Mk4s"
   },
   "source": [
    "### Define the content to retrieve (webpage's URL)"
   ]
  },
  {
   "cell_type": "code",
   "execution_count": 11,
   "metadata": {},
   "outputs": [],
   "source": [
    "url=f'https://americanidol.fandom.com/wiki/American_Idol_Wiki'"
   ]
  },
  {
   "cell_type": "markdown",
   "metadata": {
    "colab_type": "text",
    "id": "pKYTTGA1Mk4t"
   },
   "source": [
    "### Retrieve the page\n",
    "- Require Internet connection"
   ]
  },
  {
   "cell_type": "code",
   "execution_count": 12,
   "metadata": {},
   "outputs": [
    {
     "name": "stdout",
     "output_type": "stream",
     "text": [
      "Type of the variable 'page': bytes\n",
      "Page Retrieved. Request Status: 200, Page Size: 206276\n"
     ]
    }
   ],
   "source": [
    "# query the website and return the html to the variable ‘page’\n",
    "http = urllib3.PoolManager()\n",
    "r = http.request('GET', url)\n",
    "if r.status == 200:\n",
    "    page = r.data\n",
    "    print('Type of the variable \\'page\\':', page.__class__.__name__)\n",
    "    print('Page Retrieved. Request Status: %d, Page Size: %d' % (r.status, len(page)))\n",
    "else:\n",
    "    print('Some problem occurred. Request Status: %s' % r.status)"
   ]
  },
  {
   "cell_type": "markdown",
   "metadata": {
    "colab_type": "text",
    "id": "w7HYoOoDMk4v"
   },
   "source": [
    "### Convert the stream of bytes into a BeautifulSoup representation"
   ]
  },
  {
   "cell_type": "code",
   "execution_count": 13,
   "metadata": {},
   "outputs": [
    {
     "name": "stdout",
     "output_type": "stream",
     "text": [
      "Type of the variable 'soup': BeautifulSoup\n"
     ]
    }
   ],
   "source": [
    "# parse the html using beautiful soup and store in variable `soup`\n",
    "soup = BeautifulSoup(page, 'html.parser')\n",
    "print('Type of the variable \\'soup\\':', soup.__class__.__name__)"
   ]
  },
  {
   "cell_type": "markdown",
   "metadata": {
    "colab_type": "text",
    "id": "Zb0yHBblMk4w"
   },
   "source": [
    "### Check the content\n",
    "- The HTML source\n",
    "- Includes all tags and scripts\n",
    "- Can be long!"
   ]
  },
  {
   "cell_type": "code",
   "execution_count": 14,
   "metadata": {},
   "outputs": [
    {
     "name": "stdout",
     "output_type": "stream",
     "text": [
      "<!DOCTYPE html>\n",
      "<html class=\"client-nojs\" dir=\"ltr\" lang=\"en\">\n",
      " <head>\n",
      "  <meta charset=\"utf-8\"/>\n",
      "  <title>\n",
      "   American Idol Wiki | Fandom\n",
      "  </title>\n",
      "  <script>\n",
      "   document.documentElement.className = document.documentElement.className.replace( /(^|\\s)client-nojs(\\s|$)/, \"$1client-js$2\" );\n",
      "  </script>\n",
      "  <script>\n",
      "   (window.RLQ=window.RLQ||[]).push(function(){mw.config.set({\"wgCanonicalNamespace\":\"\",\"wgCanonicalSpecialPageName\":false,\"wgNamespaceNumber\":0,\"wgPageName\":\"American_Idol_Wiki\",\"wgTitle\":\"American Idol Wiki\",\"wgCurRevisionId\":49213,\"wgRevisionId\":49213,\"wgArticleId\":1461,\"wgIsArticle\":true,\"wgIsRedirect\":false,\"wgAction\":\"view\",\"wgUserName\":null,\"wgUserGroups\":[\"*\"],\"wgCategories\":[\"American Idol Wiki\"],\"wgBreakFrames\":false,\"wgPageContentLanguage\":\"en\",\"wgPageContentModel\":\"wikitext\",\"wgSeparatorTransformTable\":[\"\",\"\"],\"wgDigitTransformTable\":[\"\",\"\"],\"wgDefaultDateFormat\":\"dmy\",\"wgMonthNames\":[\"\",\"January\",\"February\",\"March\",\"April\",\"May\",\"June\",\"July\",\"August\",\"September\",\"O\n"
     ]
    }
   ],
   "source": [
    "print(soup.prettify()[:1000])"
   ]
  },
  {
   "cell_type": "markdown",
   "metadata": {
    "colab_type": "text",
    "id": "Hy2z1218Mk4x"
   },
   "source": [
    "### Check the HTML's Title"
   ]
  },
  {
   "cell_type": "code",
   "execution_count": 15,
   "metadata": {},
   "outputs": [
    {
     "name": "stdout",
     "output_type": "stream",
     "text": [
      "Title tag :<title>American Idol Wiki | Fandom</title>:\n",
      "Title text:American Idol Wiki | Fandom:\n"
     ]
    }
   ],
   "source": [
    "print('Title tag :%s:' % soup.title)\n",
    "print('Title text:%s:' % soup.title.string)"
   ]
  },
  {
   "cell_type": "markdown",
   "metadata": {
    "colab_type": "text",
    "id": "NV3IJlHQMk4z"
   },
   "source": [
    "### Find the main content\n",
    "- Check if it is possible to use only the relevant data"
   ]
  },
  {
   "cell_type": "code",
   "execution_count": 16,
   "metadata": {},
   "outputs": [
    {
     "name": "stdout",
     "output_type": "stream",
     "text": [
      "Type of the variable 'article': Tag\n"
     ]
    }
   ],
   "source": [
    "article_tag = 'article'\n",
    "article = soup.find_all(article_tag)[0]\n",
    "print('Type of the variable \\'article\\':', article.__class__.__name__)"
   ]
  },
  {
   "cell_type": "code",
   "execution_count": 17,
   "metadata": {},
   "outputs": [
    {
     "data": {
      "text/plain": [
       "'\\n\\n\\n\\n\\n\\n\\nCongratulations, Sam!\\n      \\nThe journey continued as judges Luke Bryan, Katy Perry and Lionel Richie set out to discover the next American Idol.\\nAfter an exciting season, shortened by COVID-19 and concluded with at-home performances by the contestants, the fans have chosen Just Sam as the newest American Idol!\\nSeason 18 of American Idol premiered February 16, 2020, airing Sunday evenings on ABC, and concluded March 17.\\n\\n\\nSeason 18AuditionsGallery\\nThe Judges\\nKaty PerryLionel RichieLuke Bryan\\n\\n\\nFeatured Video\\n      \\n\\n\\nAmerican Idol Winners\\nTBASeason 19Just Sam Season 18Laine HardySeason 17Maddie PoppeSeason 16\\nTrent HarmonSeason 15Nick FradianiSeason 14Caleb JohnsonSeason 13Candice GloverSeason 12Phillip PhillipsSeason 11Scotty McCreerySeason 10Lee DeWyzeSeason 9Kris AllenSeason 8David CookSeason 7Jordin SparksSeason 6Taylor HicksSeason 5Carrie UnderwoodSeason 4Fantasia BarrinoSeason 3Ruben StuddardSeason 2Kelly ClarksonSeason 1\\n\\n\\nAmerican Idol Wiki\\nWe\\'re a wiki by fans — and most importantly for fans — of ABC\\'s hit show American Idol. Wanna celebrate the singers and document their amazing journey? Sign up for a free account and start editing today!\\n\\n\\n\\nTwitter\\nTwitter\\n\\n\\n\\n\\n\\n Retrieved from \"https://americanidol.fandom.com/wiki/American_Idol_Wiki?oldid=49213\"\\n\\n\\n\\nCategories:\\n\\n\\nAmerican Idol Wiki\\n\\n\\n\\n\\n\\n\\n\\t\\tCommunity content is available under CC-BY-SA unless otherwise noted.\\t\\n\\n\\n\\n'"
      ]
     },
     "execution_count": 17,
     "metadata": {},
     "output_type": "execute_result"
    }
   ],
   "source": [
    "article.text"
   ]
  },
  {
   "cell_type": "markdown",
   "metadata": {
    "colab_type": "text",
    "id": "sEioc2exMk40"
   },
   "source": [
    "### Get some of the text\n",
    "- Plain text without HTML tags"
   ]
  },
  {
   "cell_type": "code",
   "execution_count": 20,
   "metadata": {},
   "outputs": [
    {
     "name": "stdout",
     "output_type": "stream",
     "text": [
      "\n",
      "Congratulations, Sam!\n",
      "      \n",
      "The journey continued as judges Luke Bryan, Katy Perry and Lionel Richie set out to discover the next American Idol.\n",
      "After an exciting season, shortened by COVID-19 and concluded with at-home performances by the contestants, the fans have chosen Just Sam as the newest American Idol!\n",
      "Season 18 of American Idol premiered February 16, 2020, airing Sunday evenings on ABC, and concluded March 17.\n",
      "Season 18AuditionsGallery\n",
      "The Judges\n",
      "Katy PerryLionel RichieLuke Bryan\n",
      "Featured Video\n",
      "      \n",
      "American Idol Winners\n",
      "TBASeason 19Just Sam Season 18Laine HardySeason 17Maddie PoppeSeason 16\n",
      "Trent HarmonSeason 15Nick FradianiSeason 14Caleb JohnsonSeason 13Candice GloverSeason 12Phillip PhillipsSeason 11Scotty McCreerySeason 10Lee DeWyzeSeason 9Kris AllenSeason 8David CookSeason 7Jordin SparksSeason 6Taylor HicksSeason 5Carrie UnderwoodSeason 4Fantasia BarrinoSeason 3Ruben StuddardSeason 2Kelly ClarksonSeason 1\n",
      "American Idol Wiki\n",
      "We're a wiki by fans — and most importantly \n"
     ]
    }
   ],
   "source": [
    "# show the first 500 characters after removing redundant newlines\n",
    "print(re.sub(r'\\n\\n+', '\\n', article.text)[:1000])"
   ]
  },
  {
   "cell_type": "markdown",
   "metadata": {
    "colab_type": "text",
    "id": "Gdf3no5jMk41"
   },
   "source": [
    "### Find the links in the text"
   ]
  },
  {
   "cell_type": "code",
   "execution_count": 21,
   "metadata": {},
   "outputs": [
    {
     "name": "stdout",
     "output_type": "stream",
     "text": [
      "<a href=\"/wiki/Season_18\" title=\"Season 18\"><img alt=\"Season 18.jpg\" class=\"thumbimage lazyload\" data-image-key=\"Season_18.jpg\" data-image-name=\"Season 18.jpg\" data-src=\"https://static.wikia.nocookie.net/american-idol/images/6/60/Season_18.jpg/revision/latest/scale-to-width-down/200?cb=20200212165324\" decoding=\"async\" height=\"296\" src=\"data:image/gif;base64,R0lGODlhAQABAIABAAAAAP///yH5BAEAAAEALAAAAAABAAEAQAICTAEAOw%3D%3D\" width=\"200\"/></a>\n",
      "<a href=\"/wiki/Season_18\" title=\"Season 18\"><img alt=\"Season 18.jpg\" class=\"thumbimage\" data-image-key=\"Season_18.jpg\" data-image-name=\"Season 18.jpg\" data-src=\"https://static.wikia.nocookie.net/american-idol/images/6/60/Season_18.jpg/revision/latest/scale-to-width-down/200?cb=20200212165324\" decoding=\"async\" height=\"296\" src=\"https://static.wikia.nocookie.net/american-idol/images/6/60/Season_18.jpg/revision/latest/scale-to-width-down/200?cb=20200212165324\" width=\"200\"/></a>\n",
      "<a class=\"info-icon\" href=\"/wiki/File:Season_18.jpg\"><svg><use xlink:href=\"#wds-icons-info-small\"></use></svg></a>\n",
      "<a href=\"/wiki/Just_Sam\" title=\"Just Sam\">Just Sam</a>\n",
      "<a href=\"/wiki/Season_18\" title=\"Season 18\">Season 18</a>\n",
      "<a href=\"/wiki/American_Idol\" title=\"American Idol\">American Idol</a>\n",
      "<a class=\"image lightbox\" href=\"/wiki/File:Season_18.jpg\" style=\"height:150px; width:200px;\" title=\"Season 18.jpg (650 KB)\"><noscript><img alt=\"Season 18\" class=\"thumbimage\" data-caption=\"\" data-image-key=\"Season_18.jpg\" data-image-name=\"Season 18.jpg\" src=\"https://static.wikia.nocookie.net/american-idol/images/6/60/Season_18.jpg/revision/latest/scale-to-width-down/200?cb=20200212165324\" style=\"\" title=\"Season 18.jpg (650 KB)\"/></noscript><img alt=\"Season 18\" class=\"thumbimage lazyload\" data-caption=\"\" data-image-key=\"Season_18.jpg\" data-image-name=\"Season 18.jpg\" data-src=\"https://static.wikia.nocookie.net/american-idol/images/6/60/Season_18.jpg/revision/latest/scale-to-width-down/200?cb=20200212165324\" src=\"data:image/gif;base64,R0lGODlhAQABAIABAAAAAP///yH5BAEAAAEALAAAAAABAAEAQAICTAEAOw%3D%3D\" style=\"\" title=\"Season 18.jpg (650 KB)\"/></a>\n",
      "<a href=\"/wiki/Season_18\" title=\"Season 18\">Season 18</a>\n",
      "<a class=\"image link-internal\" href=\"/wiki/Season_18_Auditions\" style=\"height:150px; width:200px;\" title=\"Season 18 Auditions (226 KB)\"><noscript><img alt=\"Season 18 Auditions\" class=\"thumbimage\" data-caption=\"\" data-image-key=\"Katy_Perry_and_Luke_Bryan_s18_auditions.jpg\" data-image-name=\"Katy Perry and Luke Bryan s18 auditions.jpg\" src=\"https://static.wikia.nocookie.net/american-idol/images/5/56/Katy_Perry_and_Luke_Bryan_s18_auditions.jpg/revision/latest/scale-to-width-down/225?cb=20200212230436\" style=\"\" title=\"Season 18 Auditions (226 KB)\"/></noscript><img alt=\"Season 18 Auditions\" class=\"thumbimage lazyload\" data-caption=\"\" data-image-key=\"Katy_Perry_and_Luke_Bryan_s18_auditions.jpg\" data-image-name=\"Katy Perry and Luke Bryan s18 auditions.jpg\" data-src=\"https://static.wikia.nocookie.net/american-idol/images/5/56/Katy_Perry_and_Luke_Bryan_s18_auditions.jpg/revision/latest/scale-to-width-down/225?cb=20200212230436\" src=\"data:image/gif;base64,R0lGODlhAQABAIABAAAAAP///yH5BAEAAAEALAAAAAABAAEAQAICTAEAOw%3D%3D\" style=\"\" title=\"Season 18 Auditions (226 KB)\"/></a>\n",
      "<a href=\"/wiki/Season_18_Auditions\" title=\"Season 18 Auditions\">Auditions</a>\n",
      "<a class=\"image link-internal\" href=\"/wiki/Season_18_Auditions/Gallery\" style=\"height:150px; width:200px;\" title=\"Season 18 Auditions/Gallery (320 KB)\"><noscript><img alt=\"Season 18 Auditions/Gallery\" class=\"thumbimage\" data-caption=\"\" data-image-key=\"S18_judges_host_mentor.jpg\" data-image-name=\"S18 judges host mentor.jpg\" src=\"https://static.wikia.nocookie.net/american-idol/images/e/ef/S18_judges_host_mentor.jpg/revision/latest/scale-to-width-down/225?cb=20200212231440\" style=\"\" title=\"Season 18 Auditions/Gallery (320 KB)\"/></noscript><img alt=\"Season 18 Auditions/Gallery\" class=\"thumbimage lazyload\" data-caption=\"\" data-image-key=\"S18_judges_host_mentor.jpg\" data-image-name=\"S18 judges host mentor.jpg\" data-src=\"https://static.wikia.nocookie.net/american-idol/images/e/ef/S18_judges_host_mentor.jpg/revision/latest/scale-to-width-down/225?cb=20200212231440\" src=\"data:image/gif;base64,R0lGODlhAQABAIABAAAAAP///yH5BAEAAAEALAAAAAABAAEAQAICTAEAOw%3D%3D\" style=\"\" title=\"Season 18 Auditions/Gallery (320 KB)\"/></a>\n",
      "<a href=\"/wiki/Season_18/Gallery\" title=\"Season 18/Gallery\">Gallery</a>\n",
      "<a class=\"image link-internal\" href=\"/wiki/Katy_Perry\" style=\"height:267px; width:200px;\" title=\"Katy Perry (161 KB)\"><noscript><img alt=\"Katy Perry\" class=\"thumbimage\" data-caption=\"&lt;big&gt;&lt;big&gt;&lt;/big&gt;&lt;/big&gt;\" data-image-key=\"Katy_Perry_s18_promo.jpg\" data-image-name=\"Katy Perry s18 promo.jpg\" src=\"https://static.wikia.nocookie.net/american-idol/images/d/da/Katy_Perry_s18_promo.jpg/revision/latest/scale-to-width-down/213?cb=20200212231437\" style=\"\" title=\"Katy Perry (161 KB)\"/></noscript><img alt=\"Katy Perry\" class=\"thumbimage lazyload\" data-caption=\"&lt;big&gt;&lt;big&gt;&lt;/big&gt;&lt;/big&gt;\" data-image-key=\"Katy_Perry_s18_promo.jpg\" data-image-name=\"Katy Perry s18 promo.jpg\" data-src=\"https://static.wikia.nocookie.net/american-idol/images/d/da/Katy_Perry_s18_promo.jpg/revision/latest/scale-to-width-down/213?cb=20200212231437\" src=\"data:image/gif;base64,R0lGODlhAQABAIABAAAAAP///yH5BAEAAAEALAAAAAABAAEAQAICTAEAOw%3D%3D\" style=\"\" title=\"Katy Perry (161 KB)\"/></a>\n",
      "<a href=\"/wiki/Katy_Perry\" title=\"Katy Perry\">Katy Perry</a>\n",
      "<a class=\"image link-internal\" href=\"/wiki/Lionel_Richie\" style=\"height:267px; width:200px;\" title=\"Lionel Richie (256 KB)\"><noscript><img alt=\"Lionel Richie\" class=\"thumbimage\" data-caption=\"&lt;big&gt;&lt;big&gt;&lt;/big&gt;&lt;/big&gt;\" data-image-key=\"Lionel_Richie_s18_promo.jpg\" data-image-name=\"Lionel Richie s18 promo.jpg\" src=\"https://static.wikia.nocookie.net/american-idol/images/c/c2/Lionel_Richie_s18_promo.jpg/revision/latest/scale-to-width-down/280?cb=20200212231438\" style=\"\" title=\"Lionel Richie (256 KB)\"/></noscript><img alt=\"Lionel Richie\" class=\"thumbimage lazyload\" data-caption=\"&lt;big&gt;&lt;big&gt;&lt;/big&gt;&lt;/big&gt;\" data-image-key=\"Lionel_Richie_s18_promo.jpg\" data-image-name=\"Lionel Richie s18 promo.jpg\" data-src=\"https://static.wikia.nocookie.net/american-idol/images/c/c2/Lionel_Richie_s18_promo.jpg/revision/latest/scale-to-width-down/280?cb=20200212231438\" src=\"data:image/gif;base64,R0lGODlhAQABAIABAAAAAP///yH5BAEAAAEALAAAAAABAAEAQAICTAEAOw%3D%3D\" style=\"\" title=\"Lionel Richie (256 KB)\"/></a>\n",
      "<a href=\"/wiki/Lionel_Richie\" title=\"Lionel Richie\">Lionel Richie</a>\n",
      "<a class=\"image link-internal\" href=\"/wiki/Luke_Bryan\" style=\"height:267px; width:200px;\" title=\"Luke Bryan (127 KB)\"><noscript><img alt=\"Luke Bryan\" class=\"thumbimage\" data-caption=\"&lt;big&gt;&lt;big&gt;&lt;/big&gt;&lt;/big&gt;\" data-image-key=\"Luke_Bryan_s18_promo.jpg\" data-image-name=\"Luke Bryan s18 promo.jpg\" src=\"https://static.wikia.nocookie.net/american-idol/images/2/25/Luke_Bryan_s18_promo.jpg/revision/latest/scale-to-width-down/223?cb=20200212231439\" style=\"\" title=\"Luke Bryan (127 KB)\"/></noscript><img alt=\"Luke Bryan\" class=\"thumbimage lazyload\" data-caption=\"&lt;big&gt;&lt;big&gt;&lt;/big&gt;&lt;/big&gt;\" data-image-key=\"Luke_Bryan_s18_promo.jpg\" data-image-name=\"Luke Bryan s18 promo.jpg\" data-src=\"https://static.wikia.nocookie.net/american-idol/images/2/25/Luke_Bryan_s18_promo.jpg/revision/latest/scale-to-width-down/223?cb=20200212231439\" src=\"data:image/gif;base64,R0lGODlhAQABAIABAAAAAP///yH5BAEAAAEALAAAAAABAAEAQAICTAEAOw%3D%3D\" style=\"\" title=\"Luke Bryan (127 KB)\"/></a>\n",
      "<a href=\"/wiki/Luke_Bryan\" title=\"Luke Bryan\">Luke Bryan</a>\n",
      "<a class=\"video video-thumbnail large\" href=\"https://americanidol.fandom.com/wiki/File:American_Idol_Returns_for_a_New_Season_-_Sun._Feb._16_on_ABC\"> <img alt=\"American_Idol_Returns_for_a_New_Season_-_Sun._Feb._16_on_ABC\" class=\"lazyload\" data-src=\"https://static.wikia.nocookie.net/american-idol/images/a/a5/American_Idol_Returns_for_a_New_Season_-_Sun._Feb._16_on_ABC/revision/latest/scale-to-width-down/600?cb=20200111034258\" data-video-key=\"American_Idol_Returns_for_a_New_Season_-_Sun._Feb._16_on_ABC\" data-video-name=\"American Idol Returns for a New Season - Sun. Feb. 16 on ABC\" height=\"336\" src=\"data:image/gif;base64,R0lGODlhAQABAIABAAAAAP///yH5BAEAAAEALAAAAAABAAEAQAICTAEAOw%3D%3D\" width=\"600\"/> <span class=\"thumbnail-play-icon-container\"> <svg class=\"thumbnail-play-icon wds-icon\"><use xlink:href=\"#wds-player-icon-play\"></use></svg> </span> </a>\n",
      "<a class=\"image link-internal\" href=\"/wiki/Season_19\" style=\"height:128px; width:130px;\" title=\"Season 19 (49 KB)\"><noscript><img alt=\"Season 19\" class=\"thumbimage\" data-caption=\"&lt;i&gt;TBA&lt;/i&gt;&lt;br/&gt;\" data-image-key=\"Wiki.png\" data-image-name=\"Wiki.png\" src=\"https://static.wikia.nocookie.net/american-idol/images/b/bc/Wiki.png/revision/latest/scale-to-width-down/195?cb=20100701005348\" style=\"\" title=\"Season 19 (49 KB)\"/></noscript><img alt=\"Season 19\" class=\"thumbimage lazyload\" data-caption=\"&lt;i&gt;TBA&lt;/i&gt;&lt;br/&gt;\" data-image-key=\"Wiki.png\" data-image-name=\"Wiki.png\" data-src=\"https://static.wikia.nocookie.net/american-idol/images/b/bc/Wiki.png/revision/latest/scale-to-width-down/195?cb=20100701005348\" src=\"data:image/gif;base64,R0lGODlhAQABAIABAAAAAP///yH5BAEAAAEALAAAAAABAAEAQAICTAEAOw%3D%3D\" style=\"\" title=\"Season 19 (49 KB)\"/></a>\n",
      "<a href=\"/wiki/Season_19\" title=\"Season 19\">Season 19</a>\n",
      "<a class=\"image link-internal\" href=\"/wiki/Just_Sam\" style=\"height:173px; width:130px;\" title=\"Just Sam (1.6 MB)\"><noscript><img alt=\"Just Sam\" class=\"thumbimage\" data-caption=\" &lt;br&gt;\" data-image-key=\"JustSam.png\" data-image-name=\"JustSam.png\" src=\"https://static.wikia.nocookie.net/american-idol/images/4/47/JustSam.png/revision/latest/scale-to-width-down/308?cb=20200217192533\" style=\"\" title=\"Just Sam (1.6 MB)\"/></noscript><img alt=\"Just Sam\" class=\"thumbimage lazyload\" data-caption=\" &lt;br&gt;\" data-image-key=\"JustSam.png\" data-image-name=\"JustSam.png\" data-src=\"https://static.wikia.nocookie.net/american-idol/images/4/47/JustSam.png/revision/latest/scale-to-width-down/308?cb=20200217192533\" src=\"data:image/gif;base64,R0lGODlhAQABAIABAAAAAP///yH5BAEAAAEALAAAAAABAAEAQAICTAEAOw%3D%3D\" style=\"\" title=\"Just Sam (1.6 MB)\"/></a>\n",
      "<a href=\"/wiki/Just_Sam\" title=\"Just Sam\">Just Sam</a>\n",
      "<a href=\"/wiki/Season_18\" title=\"Season 18\">Season 18</a>\n",
      "<a class=\"image link-internal\" href=\"/wiki/Laine_Hardy\" style=\"height:173px; width:130px;\" title=\"Laine Hardy (176 KB)\"><noscript><img alt=\"Laine Hardy\" class=\"thumbimage\" data-caption=\"&lt;br/&gt;\" data-image-key=\"S17W.jpg\" data-image-name=\"S17W.jpg\" src=\"https://static.wikia.nocookie.net/american-idol/images/4/42/S17W.jpg/revision/latest/scale-to-width-down/130?cb=20190628213657\" style=\"\" title=\"Laine Hardy (176 KB)\"/></noscript><img alt=\"Laine Hardy\" class=\"thumbimage lazyload\" data-caption=\"&lt;br/&gt;\" data-image-key=\"S17W.jpg\" data-image-name=\"S17W.jpg\" data-src=\"https://static.wikia.nocookie.net/american-idol/images/4/42/S17W.jpg/revision/latest/scale-to-width-down/130?cb=20190628213657\" src=\"data:image/gif;base64,R0lGODlhAQABAIABAAAAAP///yH5BAEAAAEALAAAAAABAAEAQAICTAEAOw%3D%3D\" style=\"\" title=\"Laine Hardy (176 KB)\"/></a>\n",
      "<a href=\"/wiki/Laine_Hardy\" title=\"Laine Hardy\">Laine Hardy</a>\n",
      "<a href=\"/wiki/Season_17\" title=\"Season 17\">Season 17</a>\n",
      "<a class=\"image link-internal\" href=\"/wiki/Maddie_Poppe\" style=\"height:173px; width:130px;\" title=\"Maddie Poppe (47 KB)\"><noscript><img alt=\"Maddie Poppe\" class=\"thumbimage\" data-caption=\"&lt;br/&gt;\" data-image-key=\"Maddie-poppe-20032864.jpeg\" data-image-name=\"Maddie-poppe-20032864.jpeg\" src=\"https://static.wikia.nocookie.net/american-idol/images/4/49/Maddie-poppe-20032864.jpeg/revision/latest/scale-to-width-down/201?cb=20181207132630\" style=\"\" title=\"Maddie Poppe (47 KB)\"/></noscript><img alt=\"Maddie Poppe\" class=\"thumbimage lazyload\" data-caption=\"&lt;br/&gt;\" data-image-key=\"Maddie-poppe-20032864.jpeg\" data-image-name=\"Maddie-poppe-20032864.jpeg\" data-src=\"https://static.wikia.nocookie.net/american-idol/images/4/49/Maddie-poppe-20032864.jpeg/revision/latest/scale-to-width-down/201?cb=20181207132630\" src=\"data:image/gif;base64,R0lGODlhAQABAIABAAAAAP///yH5BAEAAAEALAAAAAABAAEAQAICTAEAOw%3D%3D\" style=\"\" title=\"Maddie Poppe (47 KB)\"/></a>\n",
      "<a href=\"/wiki/Maddie_Poppe\" title=\"Maddie Poppe\">Maddie Poppe</a>\n",
      "<a href=\"/wiki/Season_16\" title=\"Season 16\">Season 16</a>\n",
      "<a class=\"image link-internal\" href=\"/wiki/Trent_Harmon\" style=\"height:93px; width:70px;\" title=\"Trent Harmon (377 KB)\"><noscript><img alt=\"Trent Harmon\" class=\"thumbimage\" data-caption=\"&lt;br/&gt;\" data-image-key=\"Trent_Harmon_Pic.png\" data-image-name=\"Trent Harmon Pic.png\" src=\"https://static.wikia.nocookie.net/american-idol/images/4/47/Trent_Harmon_Pic.png/revision/latest/scale-to-width-down/70?cb=20160408032355\" style=\"\" title=\"Trent Harmon (377 KB)\"/></noscript><img alt=\"Trent Harmon\" class=\"thumbimage lazyload\" data-caption=\"&lt;br/&gt;\" data-image-key=\"Trent_Harmon_Pic.png\" data-image-name=\"Trent Harmon Pic.png\" data-src=\"https://static.wikia.nocookie.net/american-idol/images/4/47/Trent_Harmon_Pic.png/revision/latest/scale-to-width-down/70?cb=20160408032355\" src=\"data:image/gif;base64,R0lGODlhAQABAIABAAAAAP///yH5BAEAAAEALAAAAAABAAEAQAICTAEAOw%3D%3D\" style=\"\" title=\"Trent Harmon (377 KB)\"/></a>\n",
      "<a href=\"/wiki/Trent_Harmon\" title=\"Trent Harmon\">Trent Harmon</a>\n",
      "<a href=\"/wiki/Season_15\" title=\"Season 15\">Season 15</a>\n",
      "<a class=\"image link-internal\" href=\"/wiki/Nick_Fradiani\" style=\"height:93px; width:70px;\" title=\"Nick Fradiani (228 KB)\"><noscript><img alt=\"Nick Fradiani\" class=\"thumbimage\" data-caption=\"&lt;br/&gt;\" data-image-key=\"Nick_Fradiani.png\" data-image-name=\"Nick Fradiani.png\" src=\"https://static.wikia.nocookie.net/american-idol/images/d/df/Nick_Fradiani.png/revision/latest/scale-to-width-down/70?cb=20150514033432\" style=\"\" title=\"Nick Fradiani (228 KB)\"/></noscript><img alt=\"Nick Fradiani\" class=\"thumbimage lazyload\" data-caption=\"&lt;br/&gt;\" data-image-key=\"Nick_Fradiani.png\" data-image-name=\"Nick Fradiani.png\" data-src=\"https://static.wikia.nocookie.net/american-idol/images/d/df/Nick_Fradiani.png/revision/latest/scale-to-width-down/70?cb=20150514033432\" src=\"data:image/gif;base64,R0lGODlhAQABAIABAAAAAP///yH5BAEAAAEALAAAAAABAAEAQAICTAEAOw%3D%3D\" style=\"\" title=\"Nick Fradiani (228 KB)\"/></a>\n",
      "<a href=\"/wiki/Nick_Fradiani\" title=\"Nick Fradiani\">Nick Fradiani</a>\n",
      "<a href=\"/wiki/Season_14\" title=\"Season 14\">Season 14</a>\n",
      "<a class=\"image link-internal\" href=\"/wiki/Caleb_Johnson\" style=\"height:93px; width:70px;\" title=\"Caleb Johnson (190 KB)\"><noscript><img alt=\"Caleb Johnson\" class=\"thumbimage\" data-caption=\"&lt;br/&gt;\" data-image-key=\"Caleb_Johnson_Pic.png\" data-image-name=\"Caleb Johnson Pic.png\" src=\"https://static.wikia.nocookie.net/american-idol/images/9/98/Caleb_Johnson_Pic.png/revision/latest/scale-to-width-down/70?cb=20140522033046\" style=\"\" title=\"Caleb Johnson (190 KB)\"/></noscript><img alt=\"Caleb Johnson\" class=\"thumbimage lazyload\" data-caption=\"&lt;br/&gt;\" data-image-key=\"Caleb_Johnson_Pic.png\" data-image-name=\"Caleb Johnson Pic.png\" data-src=\"https://static.wikia.nocookie.net/american-idol/images/9/98/Caleb_Johnson_Pic.png/revision/latest/scale-to-width-down/70?cb=20140522033046\" src=\"data:image/gif;base64,R0lGODlhAQABAIABAAAAAP///yH5BAEAAAEALAAAAAABAAEAQAICTAEAOw%3D%3D\" style=\"\" title=\"Caleb Johnson (190 KB)\"/></a>\n",
      "<a href=\"/wiki/Caleb_Johnson\" title=\"Caleb Johnson\">Caleb Johnson</a>\n",
      "<a href=\"/wiki/Season_13\" title=\"Season 13\">Season 13</a>\n",
      "<a class=\"image link-internal\" href=\"/wiki/Candice_Glover\" style=\"height:93px; width:70px;\" title=\"Candice Glover (17 KB)\"><noscript><img alt=\"Candice Glover\" class=\"thumbimage\" data-caption=\"&lt;br/&gt;\" data-image-key=\"Candice_Glover_performing_picture.jpg\" data-image-name=\"Candice Glover performing picture.jpg\" src=\"https://static.wikia.nocookie.net/american-idol/images/c/cf/Candice_Glover_performing_picture.jpg/revision/latest/scale-to-width-down/70?cb=20130517032632\" style=\"\" title=\"Candice Glover (17 KB)\"/></noscript><img alt=\"Candice Glover\" class=\"thumbimage lazyload\" data-caption=\"&lt;br/&gt;\" data-image-key=\"Candice_Glover_performing_picture.jpg\" data-image-name=\"Candice Glover performing picture.jpg\" data-src=\"https://static.wikia.nocookie.net/american-idol/images/c/cf/Candice_Glover_performing_picture.jpg/revision/latest/scale-to-width-down/70?cb=20130517032632\" src=\"data:image/gif;base64,R0lGODlhAQABAIABAAAAAP///yH5BAEAAAEALAAAAAABAAEAQAICTAEAOw%3D%3D\" style=\"\" title=\"Candice Glover (17 KB)\"/></a>\n",
      "<a href=\"/wiki/Candice_Glover\" title=\"Candice Glover\">Candice Glover</a>\n",
      "<a href=\"/wiki/Season_12\" title=\"Season 12\">Season 12</a>\n",
      "<a class=\"image link-internal\" href=\"/wiki/Phillip_Phillips\" style=\"height:93px; width:70px;\" title=\"Phillip Phillips (123 KB)\"><noscript><img alt=\"Phillip Phillips\" class=\"thumbimage\" data-caption=\"&lt;br/&gt;\" data-image-key=\"Phillip_Phillips_article_picture.png\" data-image-name=\"Phillip Phillips article picture.png\" src=\"https://static.wikia.nocookie.net/american-idol/images/8/8d/Phillip_Phillips_article_picture.png/revision/latest/scale-to-width-down/70?cb=20130427151916\" style=\"\" title=\"Phillip Phillips (123 KB)\"/></noscript><img alt=\"Phillip Phillips\" class=\"thumbimage lazyload\" data-caption=\"&lt;br/&gt;\" data-image-key=\"Phillip_Phillips_article_picture.png\" data-image-name=\"Phillip Phillips article picture.png\" data-src=\"https://static.wikia.nocookie.net/american-idol/images/8/8d/Phillip_Phillips_article_picture.png/revision/latest/scale-to-width-down/70?cb=20130427151916\" src=\"data:image/gif;base64,R0lGODlhAQABAIABAAAAAP///yH5BAEAAAEALAAAAAABAAEAQAICTAEAOw%3D%3D\" style=\"\" title=\"Phillip Phillips (123 KB)\"/></a>\n",
      "<a href=\"/wiki/Phillip_Phillips\" title=\"Phillip Phillips\">Phillip Phillips</a>\n",
      "<a href=\"/wiki/Season_11\" title=\"Season 11\">Season 11</a>\n",
      "<a class=\"image link-internal\" href=\"/wiki/Scotty_McCreery\" style=\"height:93px; width:70px;\" title=\"Scotty McCreery (136 KB)\"><noscript><img alt=\"Scotty McCreery\" class=\"thumbimage\" data-caption=\"&lt;br/&gt;\" data-image-key=\"Scotty%2BMcCreery%2B48th%2BAnnual%2BAcademy%2BCountry%2B_IASzwqQrDAx.jpg\" data-image-name=\"Scotty+McCreery+48th+Annual+Academy+Country+ IASzwqQrDAx.jpg\" src=\"https://static.wikia.nocookie.net/american-idol/images/9/9b/Scotty%2BMcCreery%2B48th%2BAnnual%2BAcademy%2BCountry%2B_IASzwqQrDAx.jpg/revision/latest/scale-to-width-down/70?cb=20130502052046\" style=\"\" title=\"Scotty McCreery (136 KB)\"/></noscript><img alt=\"Scotty McCreery\" class=\"thumbimage lazyload\" data-caption=\"&lt;br/&gt;\" data-image-key=\"Scotty%2BMcCreery%2B48th%2BAnnual%2BAcademy%2BCountry%2B_IASzwqQrDAx.jpg\" data-image-name=\"Scotty+McCreery+48th+Annual+Academy+Country+ IASzwqQrDAx.jpg\" data-src=\"https://static.wikia.nocookie.net/american-idol/images/9/9b/Scotty%2BMcCreery%2B48th%2BAnnual%2BAcademy%2BCountry%2B_IASzwqQrDAx.jpg/revision/latest/scale-to-width-down/70?cb=20130502052046\" src=\"data:image/gif;base64,R0lGODlhAQABAIABAAAAAP///yH5BAEAAAEALAAAAAABAAEAQAICTAEAOw%3D%3D\" style=\"\" title=\"Scotty McCreery (136 KB)\"/></a>\n",
      "<a href=\"/wiki/Scotty_McCreery\" title=\"Scotty McCreery\">Scotty McCreery</a>\n",
      "<a href=\"/wiki/Season_10\" title=\"Season 10\">Season 10</a>\n",
      "<a class=\"image link-internal\" href=\"/wiki/Lee_DeWyze\" style=\"height:93px; width:70px;\" title=\"Lee DeWyze (35 KB)\"><noscript><img alt=\"Lee DeWyze\" class=\"thumbimage\" data-caption=\"&lt;br/&gt;\" data-image-key=\"Lee_DeWyze_Main_Picture.jpg\" data-image-name=\"Lee DeWyze Main Picture.jpg\" src=\"https://static.wikia.nocookie.net/american-idol/images/8/83/Lee_DeWyze_Main_Picture.jpg/revision/latest/scale-to-width-down/78?cb=20130512202144\" style=\"\" title=\"Lee DeWyze (35 KB)\"/></noscript><img alt=\"Lee DeWyze\" class=\"thumbimage lazyload\" data-caption=\"&lt;br/&gt;\" data-image-key=\"Lee_DeWyze_Main_Picture.jpg\" data-image-name=\"Lee DeWyze Main Picture.jpg\" data-src=\"https://static.wikia.nocookie.net/american-idol/images/8/83/Lee_DeWyze_Main_Picture.jpg/revision/latest/scale-to-width-down/78?cb=20130512202144\" src=\"data:image/gif;base64,R0lGODlhAQABAIABAAAAAP///yH5BAEAAAEALAAAAAABAAEAQAICTAEAOw%3D%3D\" style=\"\" title=\"Lee DeWyze (35 KB)\"/></a>\n",
      "<a href=\"/wiki/Lee_DeWyze\" title=\"Lee DeWyze\">Lee DeWyze</a>\n",
      "<a href=\"/wiki/Season_9\" title=\"Season 9\">Season 9</a>\n",
      "<a class=\"image link-internal\" href=\"/wiki/Kris_Allen\" style=\"height:93px; width:70px;\" title=\"Kris Allen (51 KB)\"><noscript><img alt=\"Kris Allen\" class=\"thumbimage\" data-caption=\"&lt;br/&gt;\" data-image-key=\"Kris_Allen_American_Idol.jpg\" data-image-name=\"Kris Allen American Idol.jpg\" src=\"https://static.wikia.nocookie.net/american-idol/images/6/6d/Kris_Allen_American_Idol.jpg/revision/latest/scale-to-width-down/70?cb=20130516030233\" style=\"\" title=\"Kris Allen (51 KB)\"/></noscript><img alt=\"Kris Allen\" class=\"thumbimage lazyload\" data-caption=\"&lt;br/&gt;\" data-image-key=\"Kris_Allen_American_Idol.jpg\" data-image-name=\"Kris Allen American Idol.jpg\" data-src=\"https://static.wikia.nocookie.net/american-idol/images/6/6d/Kris_Allen_American_Idol.jpg/revision/latest/scale-to-width-down/70?cb=20130516030233\" src=\"data:image/gif;base64,R0lGODlhAQABAIABAAAAAP///yH5BAEAAAEALAAAAAABAAEAQAICTAEAOw%3D%3D\" style=\"\" title=\"Kris Allen (51 KB)\"/></a>\n",
      "<a href=\"/wiki/Kris_Allen\" title=\"Kris Allen\">Kris Allen</a>\n",
      "<a href=\"/wiki/Season_8\" title=\"Season 8\">Season 8</a>\n",
      "<a class=\"image link-internal\" href=\"/wiki/David_Cook\" style=\"height:93px; width:70px;\" title=\"David Cook (40 KB)\"><noscript><img alt=\"David Cook\" class=\"thumbimage\" data-caption=\"&lt;br/&gt;\" data-image-key=\"David_Cook.jpg\" data-image-name=\"David Cook.jpg\" src=\"https://static.wikia.nocookie.net/american-idol/images/3/39/David_Cook.jpg/revision/latest/scale-to-width-down/70?cb=20130516030135\" style=\"\" title=\"David Cook (40 KB)\"/></noscript><img alt=\"David Cook\" class=\"thumbimage lazyload\" data-caption=\"&lt;br/&gt;\" data-image-key=\"David_Cook.jpg\" data-image-name=\"David Cook.jpg\" data-src=\"https://static.wikia.nocookie.net/american-idol/images/3/39/David_Cook.jpg/revision/latest/scale-to-width-down/70?cb=20130516030135\" src=\"data:image/gif;base64,R0lGODlhAQABAIABAAAAAP///yH5BAEAAAEALAAAAAABAAEAQAICTAEAOw%3D%3D\" style=\"\" title=\"David Cook (40 KB)\"/></a>\n",
      "<a href=\"/wiki/David_Cook\" title=\"David Cook\">David Cook</a>\n",
      "<a href=\"/wiki/Season_7\" title=\"Season 7\">Season 7</a>\n",
      "<a class=\"image link-internal\" href=\"/wiki/Jordin_Sparks\" style=\"height:93px; width:70px;\" title=\"Jordin Sparks (25 KB)\"><noscript><img alt=\"Jordin Sparks\" class=\"thumbimage\" data-caption=\"&lt;br/&gt;\" data-image-key=\"Jordin-sparks.jpeg\" data-image-name=\"Jordin-sparks.jpeg\" src=\"https://static.wikia.nocookie.net/american-idol/images/3/3d/Jordin-sparks.jpeg/revision/latest/scale-to-width-down/70?cb=20120120011420\" style=\"\" title=\"Jordin Sparks (25 KB)\"/></noscript><img alt=\"Jordin Sparks\" class=\"thumbimage lazyload\" data-caption=\"&lt;br/&gt;\" data-image-key=\"Jordin-sparks.jpeg\" data-image-name=\"Jordin-sparks.jpeg\" data-src=\"https://static.wikia.nocookie.net/american-idol/images/3/3d/Jordin-sparks.jpeg/revision/latest/scale-to-width-down/70?cb=20120120011420\" src=\"data:image/gif;base64,R0lGODlhAQABAIABAAAAAP///yH5BAEAAAEALAAAAAABAAEAQAICTAEAOw%3D%3D\" style=\"\" title=\"Jordin Sparks (25 KB)\"/></a>\n",
      "<a href=\"/wiki/Jordin_Sparks\" title=\"Jordin Sparks\">Jordin Sparks</a>\n",
      "<a href=\"/wiki/Season_6\" title=\"Season 6\">Season 6</a>\n",
      "<a class=\"image link-internal\" href=\"/wiki/Taylor_Hicks\" style=\"height:93px; width:70px;\" title=\"Taylor Hicks (23 KB)\"><noscript><img alt=\"Taylor Hicks\" class=\"thumbimage\" data-caption=\"&lt;br/&gt;\" data-image-key=\"Taylor_hicks1_300_400.jpeg\" data-image-name=\"Taylor hicks1 300 400.jpeg\" src=\"https://static.wikia.nocookie.net/american-idol/images/8/8a/Taylor_hicks1_300_400.jpeg/revision/latest/scale-to-width-down/70?cb=20120120011308\" style=\"\" title=\"Taylor Hicks (23 KB)\"/></noscript><img alt=\"Taylor Hicks\" class=\"thumbimage lazyload\" data-caption=\"&lt;br/&gt;\" data-image-key=\"Taylor_hicks1_300_400.jpeg\" data-image-name=\"Taylor hicks1 300 400.jpeg\" data-src=\"https://static.wikia.nocookie.net/american-idol/images/8/8a/Taylor_hicks1_300_400.jpeg/revision/latest/scale-to-width-down/70?cb=20120120011308\" src=\"data:image/gif;base64,R0lGODlhAQABAIABAAAAAP///yH5BAEAAAEALAAAAAABAAEAQAICTAEAOw%3D%3D\" style=\"\" title=\"Taylor Hicks (23 KB)\"/></a>\n",
      "<a href=\"/wiki/Taylor_Hicks\" title=\"Taylor Hicks\">Taylor Hicks</a>\n",
      "<a href=\"/wiki/Season_5\" title=\"Season 5\">Season 5</a>\n",
      "<a class=\"image link-internal\" href=\"/wiki/Carrie_Underwood\" style=\"height:93px; width:70px;\" title=\"Carrie Underwood (244 KB)\"><noscript><img alt=\"Carrie Underwood\" class=\"thumbimage\" data-caption=\"&lt;br/&gt;\" data-image-key=\"Carrie%2BUnderwood%2B2012%2BAmerican%2BCountry%2BAwards%2B1bN23ZFEDkOx.jpg\" data-image-name=\"Carrie+Underwood+2012+American+Country+Awards+1bN23ZFEDkOx.jpg\" src=\"https://static.wikia.nocookie.net/american-idol/images/0/09/Carrie%2BUnderwood%2B2012%2BAmerican%2BCountry%2BAwards%2B1bN23ZFEDkOx.jpg/revision/latest/scale-to-width-down/70?cb=20130502052220\" style=\"\" title=\"Carrie Underwood (244 KB)\"/></noscript><img alt=\"Carrie Underwood\" class=\"thumbimage lazyload\" data-caption=\"&lt;br/&gt;\" data-image-key=\"Carrie%2BUnderwood%2B2012%2BAmerican%2BCountry%2BAwards%2B1bN23ZFEDkOx.jpg\" data-image-name=\"Carrie+Underwood+2012+American+Country+Awards+1bN23ZFEDkOx.jpg\" data-src=\"https://static.wikia.nocookie.net/american-idol/images/0/09/Carrie%2BUnderwood%2B2012%2BAmerican%2BCountry%2BAwards%2B1bN23ZFEDkOx.jpg/revision/latest/scale-to-width-down/70?cb=20130502052220\" src=\"data:image/gif;base64,R0lGODlhAQABAIABAAAAAP///yH5BAEAAAEALAAAAAABAAEAQAICTAEAOw%3D%3D\" style=\"\" title=\"Carrie Underwood (244 KB)\"/></a>\n",
      "<a href=\"/wiki/Carrie_Underwood\" title=\"Carrie Underwood\">Carrie Underwood</a>\n",
      "<a href=\"/wiki/Season_4\" title=\"Season 4\">Season 4</a>\n",
      "<a class=\"image link-internal\" href=\"/wiki/Fantasia_Barrino\" style=\"height:93px; width:70px;\" title=\"Fantasia Barrino (229 KB)\"><noscript><img alt=\"Fantasia Barrino\" class=\"thumbimage\" data-caption=\"&lt;br/&gt;\" data-image-key=\"Fantasia%2BBarrino%2BFox%2BAmerican%2BIdol%2B2012%2BFinale%2B8tVAsJgIT1Xx.jpg\" data-image-name=\"Fantasia+Barrino+Fox+American+Idol+2012+Finale+8tVAsJgIT1Xx.jpg\" src=\"https://static.wikia.nocookie.net/american-idol/images/8/8d/Fantasia%2BBarrino%2BFox%2BAmerican%2BIdol%2B2012%2BFinale%2B8tVAsJgIT1Xx.jpg/revision/latest/scale-to-width-down/70?cb=20130502052234\" style=\"\" title=\"Fantasia Barrino (229 KB)\"/></noscript><img alt=\"Fantasia Barrino\" class=\"thumbimage lazyload\" data-caption=\"&lt;br/&gt;\" data-image-key=\"Fantasia%2BBarrino%2BFox%2BAmerican%2BIdol%2B2012%2BFinale%2B8tVAsJgIT1Xx.jpg\" data-image-name=\"Fantasia+Barrino+Fox+American+Idol+2012+Finale+8tVAsJgIT1Xx.jpg\" data-src=\"https://static.wikia.nocookie.net/american-idol/images/8/8d/Fantasia%2BBarrino%2BFox%2BAmerican%2BIdol%2B2012%2BFinale%2B8tVAsJgIT1Xx.jpg/revision/latest/scale-to-width-down/70?cb=20130502052234\" src=\"data:image/gif;base64,R0lGODlhAQABAIABAAAAAP///yH5BAEAAAEALAAAAAABAAEAQAICTAEAOw%3D%3D\" style=\"\" title=\"Fantasia Barrino (229 KB)\"/></a>\n",
      "<a href=\"/wiki/Fantasia_Barrino\" title=\"Fantasia Barrino\">Fantasia Barrino</a>\n",
      "<a href=\"/wiki/Season_3\" title=\"Season 3\">Season 3</a>\n",
      "<a class=\"image link-internal\" href=\"/wiki/Ruben_Studdard\" style=\"height:93px; width:70px;\" title=\"Ruben Studdard (11 KB)\"><noscript><img alt=\"Ruben Studdard\" class=\"thumbimage\" data-caption=\"&lt;br/&gt;\" data-image-key=\"Ruben_Studdard.jpg\" data-image-name=\"Ruben Studdard.jpg\" src=\"https://static.wikia.nocookie.net/american-idol/images/c/cf/Ruben_Studdard.jpg/revision/latest/scale-to-width-down/70?cb=20130516030012\" style=\"\" title=\"Ruben Studdard (11 KB)\"/></noscript><img alt=\"Ruben Studdard\" class=\"thumbimage lazyload\" data-caption=\"&lt;br/&gt;\" data-image-key=\"Ruben_Studdard.jpg\" data-image-name=\"Ruben Studdard.jpg\" data-src=\"https://static.wikia.nocookie.net/american-idol/images/c/cf/Ruben_Studdard.jpg/revision/latest/scale-to-width-down/70?cb=20130516030012\" src=\"data:image/gif;base64,R0lGODlhAQABAIABAAAAAP///yH5BAEAAAEALAAAAAABAAEAQAICTAEAOw%3D%3D\" style=\"\" title=\"Ruben Studdard (11 KB)\"/></a>\n",
      "<a href=\"/wiki/Ruben_Studdard\" title=\"Ruben Studdard\">Ruben Studdard</a>\n",
      "<a href=\"/wiki/Season_2\" title=\"Season 2\">Season 2</a>\n",
      "<a class=\"image link-internal\" href=\"/wiki/Kelly_Clarkson\" style=\"height:93px; width:70px;\" title=\"Kelly Clarkson (170 KB)\"><noscript><img alt=\"Kelly Clarkson\" class=\"thumbimage\" data-caption=\"&lt;br/&gt;\" data-image-key=\"Kelly%2BClarkson%2BVH1%2BDivas%2B2012%2BShow%2BhhOpZ4FnpQxx.jpg\" data-image-name=\"Kelly+Clarkson+VH1+Divas+2012+Show+hhOpZ4FnpQxx.jpg\" src=\"https://static.wikia.nocookie.net/american-idol/images/0/01/Kelly%2BClarkson%2BVH1%2BDivas%2B2012%2BShow%2BhhOpZ4FnpQxx.jpg/revision/latest/scale-to-width-down/70?cb=20130502052304\" style=\"\" title=\"Kelly Clarkson (170 KB)\"/></noscript><img alt=\"Kelly Clarkson\" class=\"thumbimage lazyload\" data-caption=\"&lt;br/&gt;\" data-image-key=\"Kelly%2BClarkson%2BVH1%2BDivas%2B2012%2BShow%2BhhOpZ4FnpQxx.jpg\" data-image-name=\"Kelly+Clarkson+VH1+Divas+2012+Show+hhOpZ4FnpQxx.jpg\" data-src=\"https://static.wikia.nocookie.net/american-idol/images/0/01/Kelly%2BClarkson%2BVH1%2BDivas%2B2012%2BShow%2BhhOpZ4FnpQxx.jpg/revision/latest/scale-to-width-down/70?cb=20130502052304\" src=\"data:image/gif;base64,R0lGODlhAQABAIABAAAAAP///yH5BAEAAAEALAAAAAABAAEAQAICTAEAOw%3D%3D\" style=\"\" title=\"Kelly Clarkson (170 KB)\"/></a>\n",
      "<a href=\"/wiki/Kelly_Clarkson\" title=\"Kelly Clarkson\">Kelly Clarkson</a>\n",
      "<a href=\"/wiki/Season_1\" title=\"Season 1\">Season 1</a>\n",
      "<a href=\"/wiki/American_Idol\" title=\"American Idol\">American Idol</a>\n",
      "<a href=\"/wiki/Special:Signup\" title=\"Special:Signup\">Sign up</a>\n",
      "<a href=\"https://community.fandom.com/wiki/Help:Editing\" title=\"Help:Editing (page does not exist)\">editing</a>\n",
      "<a class=\"twitter-timeline\" data-height=\"500\" data-screen-name=\"AmericanIdol\" data-wikia-widget=\"twitter\" href=\"https://twitter.com/AmericanIdol\">Twitter</a>\n",
      "<a dir=\"ltr\" href=\"https://americanidol.fandom.com/wiki/American_Idol_Wiki?oldid=49213\">https://americanidol.fandom.com/wiki/American_Idol_Wiki?oldid=49213</a>\n",
      "<a class=\"categoriesLink\" href=\"/wiki/Special:Categories\" title=\"Special:Categories\">Categories</a>\n",
      "<a href=\"/wiki/Category:American_Idol_Wiki\" title=\"Category:American Idol Wiki\">American Idol Wiki</a>\n",
      "<a href=\"https://www.fandom.com/licensing\">CC-BY-SA</a>\n"
     ]
    }
   ],
   "source": [
    "for t in article.find_all('a'):\n",
    "    print(t)"
   ]
  },
  {
   "cell_type": "code",
   "execution_count": 38,
   "metadata": {},
   "outputs": [
    {
     "name": "stdout",
     "output_type": "stream",
     "text": [
      "Size of 'tag_list': 83\n"
     ]
    },
    {
     "data": {
      "text/plain": [
       "['/wiki/Season_18',\n",
       " '/wiki/Season_18',\n",
       " '/wiki/File:Season_18.jpg',\n",
       " '/wiki/Just_Sam',\n",
       " '/wiki/Season_18',\n",
       " '/wiki/American_Idol',\n",
       " '/wiki/File:Season_18.jpg',\n",
       " '/wiki/Season_18',\n",
       " '/wiki/Season_18_Auditions',\n",
       " '/wiki/Season_18_Auditions',\n",
       " '/wiki/Season_18_Auditions/Gallery',\n",
       " '/wiki/Season_18/Gallery',\n",
       " '/wiki/Katy_Perry',\n",
       " '/wiki/Katy_Perry',\n",
       " '/wiki/Lionel_Richie',\n",
       " '/wiki/Lionel_Richie',\n",
       " '/wiki/Luke_Bryan',\n",
       " '/wiki/Luke_Bryan',\n",
       " 'https://americanidol.fandom.com/wiki/File:American_Idol_Returns_for_a_New_Season_-_Sun._Feb._16_on_ABC',\n",
       " '/wiki/Season_19',\n",
       " '/wiki/Season_19',\n",
       " '/wiki/Just_Sam',\n",
       " '/wiki/Just_Sam',\n",
       " '/wiki/Season_18',\n",
       " '/wiki/Laine_Hardy',\n",
       " '/wiki/Laine_Hardy',\n",
       " '/wiki/Season_17',\n",
       " '/wiki/Maddie_Poppe',\n",
       " '/wiki/Maddie_Poppe',\n",
       " '/wiki/Season_16',\n",
       " '/wiki/Trent_Harmon',\n",
       " '/wiki/Trent_Harmon',\n",
       " '/wiki/Season_15',\n",
       " '/wiki/Nick_Fradiani',\n",
       " '/wiki/Nick_Fradiani',\n",
       " '/wiki/Season_14',\n",
       " '/wiki/Caleb_Johnson',\n",
       " '/wiki/Caleb_Johnson',\n",
       " '/wiki/Season_13',\n",
       " '/wiki/Candice_Glover',\n",
       " '/wiki/Candice_Glover',\n",
       " '/wiki/Season_12',\n",
       " '/wiki/Phillip_Phillips',\n",
       " '/wiki/Phillip_Phillips',\n",
       " '/wiki/Season_11',\n",
       " '/wiki/Scotty_McCreery',\n",
       " '/wiki/Scotty_McCreery',\n",
       " '/wiki/Season_10',\n",
       " '/wiki/Lee_DeWyze',\n",
       " '/wiki/Lee_DeWyze',\n",
       " '/wiki/Season_9',\n",
       " '/wiki/Kris_Allen',\n",
       " '/wiki/Kris_Allen',\n",
       " '/wiki/Season_8',\n",
       " '/wiki/David_Cook',\n",
       " '/wiki/David_Cook',\n",
       " '/wiki/Season_7',\n",
       " '/wiki/Jordin_Sparks',\n",
       " '/wiki/Jordin_Sparks',\n",
       " '/wiki/Season_6',\n",
       " '/wiki/Taylor_Hicks',\n",
       " '/wiki/Taylor_Hicks',\n",
       " '/wiki/Season_5',\n",
       " '/wiki/Carrie_Underwood',\n",
       " '/wiki/Carrie_Underwood',\n",
       " '/wiki/Season_4',\n",
       " '/wiki/Fantasia_Barrino',\n",
       " '/wiki/Fantasia_Barrino',\n",
       " '/wiki/Season_3',\n",
       " '/wiki/Ruben_Studdard',\n",
       " '/wiki/Ruben_Studdard',\n",
       " '/wiki/Season_2',\n",
       " '/wiki/Kelly_Clarkson',\n",
       " '/wiki/Kelly_Clarkson',\n",
       " '/wiki/Season_1',\n",
       " '/wiki/American_Idol',\n",
       " '/wiki/Special:Signup',\n",
       " 'https://community.fandom.com/wiki/Help:Editing',\n",
       " 'https://twitter.com/AmericanIdol',\n",
       " 'https://americanidol.fandom.com/wiki/American_Idol_Wiki?oldid=49213',\n",
       " '/wiki/Special:Categories',\n",
       " '/wiki/Category:American_Idol_Wiki',\n",
       " 'https://www.fandom.com/licensing']"
      ]
     },
     "execution_count": 38,
     "metadata": {},
     "output_type": "execute_result"
    }
   ],
   "source": [
    "# identify the type of tag to retrieve\n",
    "link_tag = 'a'\n",
    "\n",
    "# create a list with the links from the `<a>` tag\n",
    "tag_list = []\n",
    "for t in article.find_all(link_tag):\n",
    "    tag_list.append(t.get('href'))\n",
    "\n",
    "# List comprehension version:\n",
    "# tag_list = [t.get('href') for t in article.find_all(link_tag)]\n",
    "\n",
    "print('Size of \\'tag_list\\':', len(tag_list))\n",
    "tag_list"
   ]
  },
  {
   "cell_type": "code",
   "execution_count": 24,
   "metadata": {},
   "outputs": [
    {
     "name": "stdout",
     "output_type": "stream",
     "text": [
      "Size of 'wiki_tag_list': 78\n"
     ]
    },
    {
     "data": {
      "text/plain": [
       "['Season_18',\n",
       " 'Season_18',\n",
       " 'File:Season_18.jpg',\n",
       " 'Just_Sam',\n",
       " 'Season_18',\n",
       " 'American_Idol',\n",
       " 'File:Season_18.jpg',\n",
       " 'Season_18',\n",
       " 'Season_18_Auditions',\n",
       " 'Season_18_Auditions',\n",
       " 'Season_18_Auditions/Gallery',\n",
       " 'Season_18/Gallery',\n",
       " 'Katy_Perry',\n",
       " 'Katy_Perry',\n",
       " 'Lionel_Richie',\n",
       " 'Lionel_Richie',\n",
       " 'Luke_Bryan',\n",
       " 'Luke_Bryan',\n",
       " 'Season_19',\n",
       " 'Season_19',\n",
       " 'Just_Sam',\n",
       " 'Just_Sam',\n",
       " 'Season_18',\n",
       " 'Laine_Hardy',\n",
       " 'Laine_Hardy',\n",
       " 'Season_17',\n",
       " 'Maddie_Poppe',\n",
       " 'Maddie_Poppe',\n",
       " 'Season_16',\n",
       " 'Trent_Harmon',\n",
       " 'Trent_Harmon',\n",
       " 'Season_15',\n",
       " 'Nick_Fradiani',\n",
       " 'Nick_Fradiani',\n",
       " 'Season_14',\n",
       " 'Caleb_Johnson',\n",
       " 'Caleb_Johnson',\n",
       " 'Season_13',\n",
       " 'Candice_Glover',\n",
       " 'Candice_Glover',\n",
       " 'Season_12',\n",
       " 'Phillip_Phillips',\n",
       " 'Phillip_Phillips',\n",
       " 'Season_11',\n",
       " 'Scotty_McCreery',\n",
       " 'Scotty_McCreery',\n",
       " 'Season_10',\n",
       " 'Lee_DeWyze',\n",
       " 'Lee_DeWyze',\n",
       " 'Season_9',\n",
       " 'Kris_Allen',\n",
       " 'Kris_Allen',\n",
       " 'Season_8',\n",
       " 'David_Cook',\n",
       " 'David_Cook',\n",
       " 'Season_7',\n",
       " 'Jordin_Sparks',\n",
       " 'Jordin_Sparks',\n",
       " 'Season_6',\n",
       " 'Taylor_Hicks',\n",
       " 'Taylor_Hicks',\n",
       " 'Season_5',\n",
       " 'Carrie_Underwood',\n",
       " 'Carrie_Underwood',\n",
       " 'Season_4',\n",
       " 'Fantasia_Barrino',\n",
       " 'Fantasia_Barrino',\n",
       " 'Season_3',\n",
       " 'Ruben_Studdard',\n",
       " 'Ruben_Studdard',\n",
       " 'Season_2',\n",
       " 'Kelly_Clarkson',\n",
       " 'Kelly_Clarkson',\n",
       " 'Season_1',\n",
       " 'American_Idol',\n",
       " 'Special:Signup',\n",
       " 'Special:Categories',\n",
       " 'Category:American_Idol_Wiki']"
      ]
     },
     "execution_count": 24,
     "metadata": {},
     "output_type": "execute_result"
    }
   ],
   "source": [
    "# keep only the links to the wiki itself\n",
    "wiki_tag_list = []\n",
    "for link in tag_list:\n",
    "    if link is not None and link[:6] == '/wiki/':\n",
    "        wiki_link = link[6:]\n",
    "        wiki_tag_list.append(wiki_link)\n",
    "\n",
    "# List comprehension:\n",
    "# wiki_tag_list = [link[6:] for link in tag_list if link is not None and link[:6] == '/wiki/']\n",
    "\n",
    "print('Size of \\'wiki_tag_list\\':', len(wiki_tag_list))\n",
    "wiki_tag_list"
   ]
  },
  {
   "cell_type": "markdown",
   "metadata": {
    "colab_type": "text",
    "id": "2RNySAm5Mk42"
   },
   "source": [
    "### Create a filter for unwanted types of articles"
   ]
  },
  {
   "cell_type": "code",
   "execution_count": 39,
   "metadata": {},
   "outputs": [
    {
     "name": "stdout",
     "output_type": "stream",
     "text": [
      "Size of 'filtered_tag_list': 45\n"
     ]
    },
    {
     "data": {
      "text/plain": [
       "['Just_Sam',\n",
       " 'American_Idol',\n",
       " 'Katy_Perry',\n",
       " 'Katy_Perry',\n",
       " 'Lionel_Richie',\n",
       " 'Lionel_Richie',\n",
       " 'Luke_Bryan',\n",
       " 'Luke_Bryan',\n",
       " 'Just_Sam',\n",
       " 'Just_Sam',\n",
       " 'Laine_Hardy',\n",
       " 'Laine_Hardy',\n",
       " 'Maddie_Poppe',\n",
       " 'Maddie_Poppe',\n",
       " 'Trent_Harmon',\n",
       " 'Trent_Harmon',\n",
       " 'Nick_Fradiani',\n",
       " 'Nick_Fradiani',\n",
       " 'Caleb_Johnson',\n",
       " 'Caleb_Johnson',\n",
       " 'Candice_Glover',\n",
       " 'Candice_Glover',\n",
       " 'Phillip_Phillips',\n",
       " 'Phillip_Phillips',\n",
       " 'Scotty_McCreery',\n",
       " 'Scotty_McCreery',\n",
       " 'Lee_DeWyze',\n",
       " 'Lee_DeWyze',\n",
       " 'Kris_Allen',\n",
       " 'Kris_Allen',\n",
       " 'David_Cook',\n",
       " 'David_Cook',\n",
       " 'Jordin_Sparks',\n",
       " 'Jordin_Sparks',\n",
       " 'Taylor_Hicks',\n",
       " 'Taylor_Hicks',\n",
       " 'Carrie_Underwood',\n",
       " 'Carrie_Underwood',\n",
       " 'Fantasia_Barrino',\n",
       " 'Fantasia_Barrino',\n",
       " 'Ruben_Studdard',\n",
       " 'Ruben_Studdard',\n",
       " 'Kelly_Clarkson',\n",
       " 'Kelly_Clarkson',\n",
       " 'American_Idol']"
      ]
     },
     "execution_count": 39,
     "metadata": {},
     "output_type": "execute_result"
    }
   ],
   "source": [
    "# create a filter for undesired links\n",
    "filter  = '(%s)' % '|'.join([\n",
    "    'Season_',\n",
    "    'Category:',\n",
    "    'File:',\n",
    "    'Help:',\n",
    "    'Portal:',\n",
    "    'action=',\n",
    "    'Special:',\n",
    "    'Talk:'\n",
    "])\n",
    "# remove the links that are found in the filter\n",
    "filtered_tag_list = []\n",
    "for t in wiki_tag_list:\n",
    "    if not re.search(filter, t):\n",
    "        filtered_tag_list.append(t)\n",
    "\n",
    "# filtered_tag_list = [t for t in wiki_tag_list if not re.search(filter, t)]\n",
    "print('Size of \\'filtered_tag_list\\':', len(filtered_tag_list))\n",
    "filtered_tag_list"
   ]
  },
  {
   "cell_type": "code",
   "execution_count": 40,
   "metadata": {},
   "outputs": [
    {
     "name": "stdout",
     "output_type": "stream",
     "text": [
      "Size of 'unique_tag_list': 22\n"
     ]
    },
    {
     "data": {
      "text/plain": [
       "['Carrie_Underwood',\n",
       " 'Caleb_Johnson',\n",
       " 'Jordin_Sparks',\n",
       " 'Trent_Harmon',\n",
       " 'Nick_Fradiani',\n",
       " 'Taylor_Hicks',\n",
       " 'Just_Sam',\n",
       " 'Luke_Bryan',\n",
       " 'Lionel_Richie',\n",
       " 'Maddie_Poppe',\n",
       " 'Ruben_Studdard',\n",
       " 'Katy_Perry',\n",
       " 'Lee_DeWyze',\n",
       " 'Laine_Hardy',\n",
       " 'Candice_Glover',\n",
       " 'Phillip_Phillips',\n",
       " 'David_Cook',\n",
       " 'Kelly_Clarkson',\n",
       " 'American_Idol',\n",
       " 'Scotty_McCreery',\n",
       " 'Kris_Allen',\n",
       " 'Fantasia_Barrino']"
      ]
     },
     "execution_count": 40,
     "metadata": {},
     "output_type": "execute_result"
    }
   ],
   "source": [
    "# remove duplicates\n",
    "unique_tag_list = list(set(filtered_tag_list))\n",
    "print('Size of \\'unique_tag_list\\':', len(unique_tag_list))\n",
    "unique_tag_list"
   ]
  },
  {
   "cell_type": "code",
   "execution_count": 41,
   "metadata": {},
   "outputs": [
    {
     "name": "stdout",
     "output_type": "stream",
     "text": [
      "Size of 'unquoted_tag_list': 22\n"
     ]
    },
    {
     "data": {
      "text/plain": [
       "['Carrie_Underwood',\n",
       " 'Caleb_Johnson',\n",
       " 'Jordin_Sparks',\n",
       " 'Trent_Harmon',\n",
       " 'Nick_Fradiani',\n",
       " 'Taylor_Hicks',\n",
       " 'Just_Sam',\n",
       " 'Luke_Bryan',\n",
       " 'Lionel_Richie',\n",
       " 'Maddie_Poppe',\n",
       " 'Ruben_Studdard',\n",
       " 'Katy_Perry',\n",
       " 'Lee_DeWyze',\n",
       " 'Laine_Hardy',\n",
       " 'Candice_Glover',\n",
       " 'Phillip_Phillips',\n",
       " 'David_Cook',\n",
       " 'Kelly_Clarkson',\n",
       " 'American_Idol',\n",
       " 'Scotty_McCreery',\n",
       " 'Kris_Allen',\n",
       " 'Fantasia_Barrino']"
      ]
     },
     "execution_count": 41,
     "metadata": {},
     "output_type": "execute_result"
    }
   ],
   "source": [
    "# convert escaped sequences\n",
    "unquoted_tag_list = [unquote(t) for t in unique_tag_list]\n",
    "print('Size of \\'unquoted_tag_list\\':', len(unquoted_tag_list))\n",
    "unquoted_tag_list"
   ]
  },
  {
   "cell_type": "code",
   "execution_count": 42,
   "metadata": {},
   "outputs": [
    {
     "name": "stdout",
     "output_type": "stream",
     "text": [
      "Size of 'tag_list': 22\n"
     ]
    },
    {
     "data": {
      "text/plain": [
       "['Carrie Underwood',\n",
       " 'Caleb Johnson',\n",
       " 'Jordin Sparks',\n",
       " 'Trent Harmon',\n",
       " 'Nick Fradiani',\n",
       " 'Taylor Hicks',\n",
       " 'Just Sam',\n",
       " 'Luke Bryan',\n",
       " 'Lionel Richie',\n",
       " 'Maddie Poppe',\n",
       " 'Ruben Studdard',\n",
       " 'Katy Perry',\n",
       " 'Lee DeWyze',\n",
       " 'Laine Hardy',\n",
       " 'Candice Glover',\n",
       " 'Phillip Phillips',\n",
       " 'David Cook',\n",
       " 'Kelly Clarkson',\n",
       " 'American Idol',\n",
       " 'Scotty McCreery',\n",
       " 'Kris Allen',\n",
       " 'Fantasia Barrino']"
      ]
     },
     "execution_count": 42,
     "metadata": {},
     "output_type": "execute_result"
    }
   ],
   "source": [
    "# convert underscore to space\n",
    "spaced_tag_list = []\n",
    "for tag in unquoted_tag_list:\n",
    "    processed_tag = re.sub('_', ' ', tag)\n",
    "    spaced_tag_list.append(processed_tag)\n",
    "\n",
    "# spaced_tag_list = [re.sub('_', ' ', t) for t in unquoted_tag_list]\n",
    "print('Size of \\'tag_list\\':', len(spaced_tag_list))\n",
    "spaced_tag_list"
   ]
  },
  {
   "cell_type": "code",
   "execution_count": 43,
   "metadata": {},
   "outputs": [
    {
     "name": "stdout",
     "output_type": "stream",
     "text": [
      "Size of 'spaced_tag_list': 22\n"
     ]
    },
    {
     "data": {
      "text/plain": [
       "['American Idol',\n",
       " 'Caleb Johnson',\n",
       " 'Candice Glover',\n",
       " 'Carrie Underwood',\n",
       " 'David Cook',\n",
       " 'Fantasia Barrino',\n",
       " 'Jordin Sparks',\n",
       " 'Just Sam',\n",
       " 'Katy Perry',\n",
       " 'Kelly Clarkson',\n",
       " 'Kris Allen',\n",
       " 'Laine Hardy',\n",
       " 'Lee DeWyze',\n",
       " 'Lionel Richie',\n",
       " 'Luke Bryan',\n",
       " 'Maddie Poppe',\n",
       " 'Nick Fradiani',\n",
       " 'Phillip Phillips',\n",
       " 'Ruben Studdard',\n",
       " 'Scotty McCreery',\n",
       " 'Taylor Hicks',\n",
       " 'Trent Harmon']"
      ]
     },
     "execution_count": 43,
     "metadata": {},
     "output_type": "execute_result"
    }
   ],
   "source": [
    "# order the list\n",
    "spaced_tag_list.sort()\n",
    "print('Size of \\'spaced_tag_list\\':', len(spaced_tag_list))\n",
    "spaced_tag_list"
   ]
  },
  {
   "cell_type": "code",
   "execution_count": 44,
   "metadata": {},
   "outputs": [
    {
     "name": "stdout",
     "output_type": "stream",
     "text": [
      "Size of 'no_episodes_tag_list': 22\n"
     ]
    },
    {
     "data": {
      "text/plain": [
       "['American Idol',\n",
       " 'Caleb Johnson',\n",
       " 'Candice Glover',\n",
       " 'Carrie Underwood',\n",
       " 'David Cook',\n",
       " 'Fantasia Barrino',\n",
       " 'Jordin Sparks',\n",
       " 'Just Sam',\n",
       " 'Katy Perry',\n",
       " 'Kelly Clarkson',\n",
       " 'Kris Allen',\n",
       " 'Laine Hardy',\n",
       " 'Lee DeWyze',\n",
       " 'Lionel Richie',\n",
       " 'Luke Bryan',\n",
       " 'Maddie Poppe',\n",
       " 'Nick Fradiani',\n",
       " 'Phillip Phillips',\n",
       " 'Ruben Studdard',\n",
       " 'Scotty McCreery',\n",
       " 'Taylor Hicks',\n",
       " 'Trent Harmon']"
      ]
     },
     "execution_count": 44,
     "metadata": {},
     "output_type": "execute_result"
    }
   ],
   "source": [
    "# remove the links that start with \"The\"\n",
    "no_episodes_tag_list = []\n",
    "for tag in spaced_tag_list:\n",
    "    if not tag.startswith('The'):\n",
    "        no_episodes_tag_list.append(tag)\n",
    "\n",
    "#no_episodes_tag_list = [t for t in tag_list if not tag.startswith('The')]\n",
    "\n",
    "print('Size of \\'no_episodes_tag_list\\':', len(no_episodes_tag_list))\n",
    "no_episodes_tag_list"
   ]
  },
  {
   "cell_type": "markdown",
   "metadata": {
    "colab_type": "text",
    "id": "IS5Tc4z9FoYy"
   },
   "source": [
    ">"
   ]
  },
  {
   "cell_type": "markdown",
   "metadata": {
    "colab_type": "text",
    "id": "mxI2We9OFpfs"
   },
   "source": [
    ">"
   ]
  },
  {
   "cell_type": "markdown",
   "metadata": {
    "colab_type": "text",
    "id": "81DoNxN1FqGN"
   },
   "source": [
    ">"
   ]
  },
  {
   "cell_type": "markdown",
   "metadata": {
    "colab_type": "text",
    "id": "RERADKgNFq9T"
   },
   "source": [
    "\n",
    "\n",
    "---\n",
    "\n",
    "\n",
    "\n",
    "---\n",
    "\n",
    "\n",
    "\n",
    "> > > > > > > > > © 2019 Institute of Data\n",
    "\n",
    "\n",
    "---\n",
    "\n",
    "\n",
    "\n",
    "---\n",
    "\n",
    "\n",
    "\n"
   ]
  }
 ],
 "metadata": {
  "colab": {
   "collapsed_sections": [],
   "name": "DSIA Lab-9_2.ipynb",
   "provenance": []
  },
  "kernelspec": {
   "display_name": "Python 3",
   "language": "python",
   "name": "python3"
  },
  "language_info": {
   "codemirror_mode": {
    "name": "ipython",
    "version": 3
   },
   "file_extension": ".py",
   "mimetype": "text/x-python",
   "name": "python",
   "nbconvert_exporter": "python",
   "pygments_lexer": "ipython3",
   "version": "3.8.3"
  }
 },
 "nbformat": 4,
 "nbformat_minor": 1
}
