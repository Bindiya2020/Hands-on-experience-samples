{
 "cells": [
  {
   "cell_type": "markdown",
   "metadata": {
    "colab_type": "text",
    "id": "iA6gMzOAsIgo"
   },
   "source": [
    "<div>\n",
    "<img src=https://www.institutedata.com/wp-content/uploads/2019/10/iod_h_tp_primary_c.svg width=\"300\">\n",
    "</div>"
   ]
  },
  {
   "cell_type": "markdown",
   "metadata": {
    "colab_type": "text",
    "id": "6v4X9aDpRxRn"
   },
   "source": [
    "# Numpy Exploration"
   ]
  },
  {
   "cell_type": "code",
   "execution_count": 3,
   "metadata": {
    "colab": {},
    "colab_type": "code",
    "id": "hefHy7RERxRp"
   },
   "outputs": [],
   "source": [
    "import numpy as np\n",
    "import matplotlib.pyplot as plt\n",
    "\n",
    "import seaborn as sns\n",
    "\n",
    "# get matplot to show charts inline\n",
    "%matplotlib inline"
   ]
  },
  {
   "cell_type": "markdown",
   "metadata": {},
   "source": [
    "## column_stack() function is used to stack 1-D arrays as columns into a 2-D array."
   ]
  },
  {
   "cell_type": "code",
   "execution_count": 4,
   "metadata": {
    "colab": {},
    "colab_type": "code",
    "id": "hW87a--DRxRu"
   },
   "outputs": [],
   "source": [
    "height= np.round(np.random.normal(1.75, 0.20, 7000), 2)\n",
    "weight= np.round(np.random.normal(60.32, 15, 7000), 2)\n",
    "population=np.column_stack((height, weight))\n"
   ]
  },
  {
   "cell_type": "code",
   "execution_count": 5,
   "metadata": {},
   "outputs": [
    {
     "data": {
      "text/plain": [
       "array([1.69, 1.78, 1.77, ..., 2.13, 1.87, 2.01])"
      ]
     },
     "execution_count": 5,
     "metadata": {},
     "output_type": "execute_result"
    }
   ],
   "source": [
    "height"
   ]
  },
  {
   "cell_type": "code",
   "execution_count": 6,
   "metadata": {},
   "outputs": [
    {
     "data": {
      "text/plain": [
       "array([37.02, 40.38, 51.64, ..., 56.61, 55.72, 76.83])"
      ]
     },
     "execution_count": 6,
     "metadata": {},
     "output_type": "execute_result"
    }
   ],
   "source": [
    "weight"
   ]
  },
  {
   "cell_type": "code",
   "execution_count": 7,
   "metadata": {},
   "outputs": [
    {
     "data": {
      "text/plain": [
       "array([[ 1.69, 37.02],\n",
       "       [ 1.78, 40.38],\n",
       "       [ 1.77, 51.64],\n",
       "       ...,\n",
       "       [ 2.13, 56.61],\n",
       "       [ 1.87, 55.72],\n",
       "       [ 2.01, 76.83]])"
      ]
     },
     "execution_count": 7,
     "metadata": {},
     "output_type": "execute_result"
    }
   ],
   "source": [
    "population"
   ]
  },
  {
   "cell_type": "markdown",
   "metadata": {},
   "source": [
    "# The NumPy random normal function enables you to create a NumPy array that contains normally distributed data.\n",
    "A normal distribution, sometimes called the bell curve, is a \n",
    "distribution that occurs naturally in many situations. The bell curve is symmetrical. Half of the data will fall \n",
    "to the left of the mean; half will fall to the right.\n",
    "# numpy.random.normal(loc=0.0, scale=1.0, size=None)¶\n"
   ]
  },
  {
   "cell_type": "code",
   "execution_count": 8,
   "metadata": {},
   "outputs": [
    {
     "data": {
      "text/plain": [
       "array([116.82218308, 108.0029507 ,  82.2540041 , 101.43041672,\n",
       "       138.43500459,  66.16294165, 125.76630376,  86.67603291,\n",
       "        87.4261029 ,  83.36662542, 151.37170829,  97.88815897,\n",
       "       123.61746625,  52.87975349,  76.41809169,  81.07661813,\n",
       "        91.86000315, 135.20282744,  80.86133472, 118.37859104,\n",
       "        30.28467649, 120.98897288,  99.67570903,  91.51277537,\n",
       "        63.27545836,  64.30469465, 134.33890675, 120.72509902,\n",
       "       113.70079741, 107.80184622, 106.68183132, 104.80749783,\n",
       "        99.75030422, 101.21538006, 114.35539576,  72.30794898,\n",
       "       106.89701629,  94.53280141,  90.57198056, 135.46418127,\n",
       "        84.8342279 , 125.82577798, 101.13422138, 111.97933838,\n",
       "        80.86397876,  97.65319058,  64.21498608, 108.1840487 ,\n",
       "       163.54809927,  75.89909868, 112.98349618, 109.95921154,\n",
       "        99.47139634, 100.00350714,  76.54648897, 114.02116629,\n",
       "       111.72235065,  94.7060422 ,  81.33503056, 103.45342414,\n",
       "       112.0253412 ,  74.92477651,  88.21079246, 100.74731687,\n",
       "       105.42307296, 104.58774155,  99.87113855,  92.15337875,\n",
       "        98.28701708,  86.47582017, 113.00546606, 146.70108334,\n",
       "        59.21971173,  82.61088341,  73.26725427,  94.2544345 ,\n",
       "       120.81091974, 120.14973052,  79.37411441, 114.32145003,\n",
       "        78.90880294, 105.12940255, 110.67639183, 102.53395821,\n",
       "       121.92187997, 100.57517389,  52.7750488 ,  84.5360551 ,\n",
       "       118.46835072,  90.34834513, 134.05731419,  80.69523003,\n",
       "        73.67565372, 120.73917686, 109.00093606,  64.86938509,\n",
       "        73.66971039, 103.07549659, 126.86403943, 165.63628022,\n",
       "       119.62793571, 109.26733632, 114.59569603, 129.9225005 ,\n",
       "       134.23829901, 100.02308153, 159.0197719 , 110.08545232,\n",
       "        86.04541631, 111.23446553, 135.25787078, 144.45922307,\n",
       "        74.77869809, 106.55974171, 127.58039054,  80.85834122,\n",
       "        87.69155386, 103.92058786,  86.6444429 ,  80.31596812,\n",
       "        59.29002963, 111.12322083,  73.21747377,  52.61431657,\n",
       "       124.80717851, 108.31036611,  79.79090117, 112.93672834,\n",
       "        62.39744463, 109.49487167,  89.6892703 , 105.47642846,\n",
       "       129.16675818, 122.88206258, 156.17215157, 109.85871236,\n",
       "        71.11053315,  75.17994157, 115.4169098 ,  63.20293426,\n",
       "       131.18596104, 133.84882156, 101.97407367,  88.03584202,\n",
       "       142.3221367 , 124.5472076 , 107.93010316, 146.67314028,\n",
       "        72.92241793, 106.08066833, 123.76884969,  50.78173459,\n",
       "       162.99815436, 118.71256621, 120.62444015, 115.67619087,\n",
       "        74.22959211, 117.93823371, 104.54402573, 132.67611183,\n",
       "       100.63219486,  91.01267981,  92.71108656, 103.07541784,\n",
       "       110.07640189,  97.63003191, 107.45860356, 106.36481742,\n",
       "        87.06867   ,  75.34700188, 127.4330399 ,  73.6802129 ,\n",
       "        95.83745659,  81.06964876, 140.1286026 , 106.77152143,\n",
       "       126.13489553,  56.13873319, 113.51816931,  98.04447548,\n",
       "        76.82001321, 142.21246812,  95.98005362,  92.1798921 ,\n",
       "        68.4063869 , 110.48911528, 154.40191489, 112.70151139,\n",
       "       103.18840275, 100.76010403,  87.03982769, 109.53164673,\n",
       "        87.24321175, 116.91866798, 109.50455111,  60.59579866,\n",
       "        95.60695961, 108.00304916,  74.51524063, 134.61611065,\n",
       "       132.57548007,  89.94642565, 112.74504995,  64.45006516,\n",
       "        94.55147532, 110.26396525, 103.98806167, 158.47710008,\n",
       "        97.30474988,  97.43859473,  46.02680835,  99.10140827,\n",
       "       129.70340055, 140.35959238,  82.0627711 ,  94.46729346,\n",
       "       169.84344888, 114.78576861,  92.30314199, 130.67256333,\n",
       "       110.62154453,  58.22842806, 138.19800646,  95.5285484 ,\n",
       "        98.9520089 ,  66.15428348, 159.45180093, 138.49702291,\n",
       "        72.6023318 , 107.09605227, 111.05283292, 116.21788357,\n",
       "       107.06395834,  81.99811958, 115.76904408,  94.10068958,\n",
       "        99.20274441, 110.37791325, 101.38719908,  92.60370551,\n",
       "       119.20237457,  49.65095213,  94.3040649 , 102.3050354 ,\n",
       "       134.83439616,  55.03295146,  95.23877093, 145.68967077,\n",
       "        94.34512945,  92.56283374,  68.53107205,  80.50784249,\n",
       "       117.74552   , 124.37648253, 109.94404442, 141.94483328,\n",
       "       150.90412347,  96.77240872, 111.59067269,  88.73729786,\n",
       "        94.52831663, 109.57039205, 115.61105205,  89.38603317,\n",
       "       122.76028151, 123.7139901 ,  59.92006317, 129.75409364,\n",
       "        73.32319884, 100.92549635,  98.73955971,  90.25255432,\n",
       "       120.25424594,  82.79129214,  91.37338664,  99.41416164,\n",
       "        86.08791764, 116.73435117,  66.18910824, 101.5993691 ,\n",
       "        55.8820383 ,  74.98983708, 115.08266568, 104.03010013,\n",
       "        97.76509552,  99.01705885, 118.39318283, 125.95589461,\n",
       "       126.13739452, 102.09362835, 134.017522  , 103.14916751,\n",
       "        67.09580154,  97.9172921 ,  70.74900487,  95.59511008,\n",
       "        80.23317059,  83.10216276,  99.68875415, 102.49514133,\n",
       "       109.18004709, 102.69375623,  94.67610483, 143.02034949,\n",
       "        74.28301623, 143.05346986,  77.85833944, 101.27518111,\n",
       "        90.4770768 ,  77.03073301, 123.60300389, 124.58115424,\n",
       "        79.30475593,  96.30341807, 104.97585902, 145.08338052,\n",
       "       137.99093264, 145.34913814, 143.91818121,  78.82398898,\n",
       "       122.12656511, 132.80595182, 121.80091496,  95.80452852,\n",
       "       122.4874373 ,  71.62708574, 114.80043817, 105.66698336,\n",
       "       120.42993667, 126.6278851 , 102.925283  , 115.62940519,\n",
       "        98.81673845, 104.61815442,  81.16978536, 124.88233257,\n",
       "        76.88947041, 160.12680003,  90.83903511, 144.72732357,\n",
       "       156.89430106, 116.71159873,  72.9369432 ,  92.3315725 ,\n",
       "        71.08518589, 119.6835236 , 127.8640557 , 137.07257482,\n",
       "       145.8886401 ,  72.66633898,  92.5191538 , 107.14908338,\n",
       "       110.9367225 , 102.95678548,  71.69117787,  61.78974838,\n",
       "        45.77044341, 120.88285928,  88.19130284,  58.34250204,\n",
       "       110.42046246, 112.11135441, 115.96196037,  66.28399562,\n",
       "       163.30696268, 106.5922542 ,  90.90444167, 134.60542307,\n",
       "        71.12605055,  89.60964084, 106.42328333,  62.61734831,\n",
       "       107.19905744,  78.66528232,  92.43479236, 106.6261066 ,\n",
       "        98.05936567,  88.23363792,  73.68633581, 125.30849619,\n",
       "       131.2902135 ,  84.78307706,  82.03870258, 108.59178681,\n",
       "        91.07485476,  89.89573885,  80.14770564,  95.33010758,\n",
       "        97.22892976,  81.9905465 , 127.81626974, 164.642708  ,\n",
       "        96.9974091 , 103.84002851,  99.09152188,  93.63939389,\n",
       "       121.49718652,  83.28684809, 102.67396385,  51.42596563,\n",
       "       102.8127987 ,  86.20641873,  94.6078856 ,  76.94456478,\n",
       "       115.41491716, 124.70860218,  93.55715895,  47.73755444,\n",
       "        51.5819053 ,  61.46218009,  74.12716801,  85.39174314,\n",
       "       100.43221451,  82.52772058,  74.65055075, 156.09429676,\n",
       "       108.21192651,  56.32502242,  81.59314823,  92.89275356,\n",
       "        70.45888902,  69.12750668,  99.58939933,  91.30020175,\n",
       "       103.60986701, 106.81317018, 117.48543205,  41.53392071,\n",
       "        79.6981026 , 141.43723447,  71.17863629,  79.10897763,\n",
       "        82.21773704, 136.57629167, 103.75933844, 120.72629265,\n",
       "        84.55286058, 117.21422906, 129.95414941, 131.65035675,\n",
       "        97.81577227, 104.0581321 , 108.41616625, 105.62934025,\n",
       "        65.93459067, 107.31911037,  36.3544622 ,  47.98052377,\n",
       "        89.11668172,  77.74895156, 155.78659046, 121.36632241,\n",
       "       117.03654796,  83.76832682, 142.20973332,  66.89628836,\n",
       "        41.25565809,  74.16094006,  87.09675639, 126.80534188,\n",
       "       142.13671222,  65.72637575, 106.81392628, 151.17549045,\n",
       "       114.30337278,  60.33731966,  92.14435832, 103.51365789,\n",
       "       106.80695413,  98.21842498,  95.80518479, 138.01536908,\n",
       "       108.14319124,  66.00399717, 125.50796542, 115.01822532,\n",
       "        39.56002059, 127.59775993,  93.43562778, 115.76431048,\n",
       "       118.71088847,  83.39712945, 118.4456311 ,  59.0672397 ,\n",
       "       136.56176021, 102.4141126 , 112.03362695, 122.48861669,\n",
       "       131.09837341,  62.18180134, 109.78856153,  73.83621703,\n",
       "       119.39584236, 107.09824234, 128.15596489,  89.21424392,\n",
       "       103.78969035, 122.50541378, 147.72288216, 102.23658864,\n",
       "        87.82072002, 123.9878882 ,  94.14285834,  99.96581014,\n",
       "       128.31537113,  65.9397606 , 138.96332169,  74.51527265,\n",
       "       121.85975837,  62.20206352, 118.98032265,  61.16903039,\n",
       "        80.57231711,  60.97945087,  98.91148922,  80.46537608,\n",
       "        92.50337516,  96.62960456, 123.12929825,  96.07132963,\n",
       "        68.50880397, 125.53593497,  69.36041552, 110.21882818,\n",
       "        99.34421159,  63.78699795,  77.2543819 , 121.06229471,\n",
       "        82.08687459,  88.16606148,  79.43908638,  81.35173393,\n",
       "       109.82656225,  91.42867221, 113.90458226,  80.80115975,\n",
       "        79.99704077,  90.48258794, 133.52253051, 119.19066002,\n",
       "        81.51796723,  82.22287181,  84.55781657,  35.94723886,\n",
       "        94.69728568,  81.01089693, 105.66409024, 130.15690672,\n",
       "       109.11074471, 116.77730145,  88.78884892,  55.02224343,\n",
       "        89.66848886, 138.20505341, 106.86930846,  99.20664541,\n",
       "       118.87527538, 106.06256732, 108.88701061,  96.6797569 ,\n",
       "       120.00729253,  99.93008597, 120.81238178, 136.38802697,\n",
       "       131.4514512 ,  80.10253912, 145.11577817, 121.66888778,\n",
       "        95.2959542 ,  85.79532341,  68.48569605,  91.66078304,\n",
       "       104.18844373, 118.05826221, 153.11130471,  78.69168747,\n",
       "       107.82216161, 109.41749102,  57.66863678, 106.17243361,\n",
       "       128.40355604, 139.69519826,  68.39621062,  73.96418955,\n",
       "        94.41743192, 121.98519084,  65.70461488,  46.02588732,\n",
       "        85.2337402 ,  95.5033637 ,  17.37418288,  56.84551236,\n",
       "       118.71259287, 107.00989299, 108.33243041,  77.87878726,\n",
       "        72.10164156,  78.34744139,  85.17656376, 121.4453065 ,\n",
       "       107.11327172,  95.56635835,  51.6629357 ,  83.06289099,\n",
       "       100.59146172,  48.01669312,  99.6324539 , 114.18047824,\n",
       "       101.52110621, 112.53579471,  59.89997098, 119.72515127,\n",
       "        51.21211547, 104.34419414, 129.89070759,  93.54706089,\n",
       "        89.5789951 , 125.72607693, 105.83063857, 119.94448599,\n",
       "       122.67272902, 129.36363135, 120.17328245, 120.09964709,\n",
       "       116.87200377, 136.60507179,  60.48685883, 128.33237761,\n",
       "       101.60830535, 104.55775763, 125.16292233,  60.33645358,\n",
       "       100.32305241,  72.68068399, 109.67444236, 129.32599611,\n",
       "        66.60102643, 110.2379269 , 138.14347799, 116.51172929,\n",
       "       104.68697152, 115.81852047,  88.76883586,  87.62857568,\n",
       "        90.60655058,  84.00366136,  68.8770844 ,  51.47824785,\n",
       "       125.36375329,  96.49232813,  83.78700278,  97.6405764 ,\n",
       "       104.15593199, 115.10004313, 113.41454093, 110.22943469,\n",
       "       102.67146533,  59.13451087, 103.50733895,  77.9185193 ,\n",
       "       112.34564612,  96.55581998, 106.76525479,  94.45663618,\n",
       "       120.22399885,  69.47667924,  94.86743032, 124.30337162,\n",
       "        80.69228658,  75.95113381,  69.82689814, 101.44560924,\n",
       "       104.3614188 , 154.96343104, 129.86026996,  74.5865466 ,\n",
       "        59.54585555, 135.41065259,  64.45211492, 104.75621547,\n",
       "        95.92738022,  82.66701159,  64.11312512,  50.94816551,\n",
       "       115.3842375 ,  73.49127319, 115.26520405,  94.98091823,\n",
       "        84.04816712,  60.92108902, 115.03852836,  93.06028194,\n",
       "        75.3741003 ,  94.6175848 ,  83.74257748,  87.08092638,\n",
       "       106.74136401, 102.08804994, 113.37936889, 119.49251894,\n",
       "        93.14443019,  66.11937812, 137.4153721 , 107.08749626,\n",
       "       102.89556898, 109.27909004, 133.99731515, 100.08839481,\n",
       "        99.59284607, 127.73921771,  96.65410459,  88.64398737,\n",
       "        80.63525289, 120.45670943,  80.6567605 ,  76.93285499,\n",
       "       114.68773337,  95.09373611, 103.21357712,  73.65927181,\n",
       "        83.72121587, 117.19592295, 123.4527216 ,  83.04038786,\n",
       "        88.77914835, 116.97594043, 126.81427611,  96.31587061,\n",
       "        91.09180511,  91.4551497 ,  59.383299  , 101.24330613,\n",
       "       129.24123532,  80.35894394, 121.40402555,  98.9287196 ,\n",
       "       127.27087436, 101.90582026, 119.3699072 ,  58.82607279,\n",
       "       114.1638749 ,  86.42999451, 104.93334724, 125.19419841,\n",
       "        98.86386136,  96.92778122, 104.3571475 , 103.51940802,\n",
       "        91.47924705,  77.19549251,  94.34127027, 101.07675665,\n",
       "        88.29211142, 116.40518826, 113.93062809, 111.0361824 ,\n",
       "        77.21282602,  99.16910869, 115.76744896, 124.57917261,\n",
       "       138.38350293,  65.07266153,  36.23191706, 131.6855424 ,\n",
       "       100.0160273 , 123.31680467, 125.38107029, 135.32574054,\n",
       "        80.4344476 ,  63.59595593,  92.24334479,  87.03484599,\n",
       "       106.34551833,  89.38566019, 106.51283995, 138.15643099,\n",
       "       103.49525902, 127.89069465,  48.4190753 ,  89.58021994,\n",
       "        64.23472176,  89.45906282,  70.7874625 ,  53.76208679,\n",
       "       120.0729739 ,  87.05301344, 134.71159689,  69.13194144,\n",
       "       109.04577524,  94.99950661, 159.27128369, 148.13394306,\n",
       "        95.79374079, 103.71923549, 127.83163641,  63.14621611,\n",
       "        74.17770117,  98.23858052, 129.62763201, 104.3752349 ,\n",
       "       117.62270132,  99.28611459,  86.36740392,  80.90930703,\n",
       "       109.82400414, 138.22057394, 108.73823184, 100.22855978,\n",
       "        71.83658585, 111.5724887 , 123.88547776,  70.51139649,\n",
       "       137.19307789, 144.82492642, 103.90556319,  86.4527611 ,\n",
       "       113.33719051,  73.02536309,  86.64051336, 123.83446164,\n",
       "        65.11903484, 109.96952097,  53.89488238, 111.80249252,\n",
       "       112.65000655, 115.34570093,  73.35175982, 145.08992534,\n",
       "        75.94823712, 128.52531924,  82.48979285, 108.6027798 ,\n",
       "       141.80563395,  90.1263597 ,  88.82287272,  47.52869069,\n",
       "        90.29674551,  50.6136692 , 148.51025744,  46.54493383,\n",
       "       104.02219374,  94.97967986, 122.80086665,  51.69845726,\n",
       "        65.19054787,  66.6419041 , 110.70866118,  34.18485567,\n",
       "       126.85512894,  93.16906027,  62.41564143, 174.01388802,\n",
       "       111.39149136, 116.21357855,  94.73969754, 129.8110393 ,\n",
       "       167.6572496 ,  44.11256051, 135.52934791, 125.39295285,\n",
       "       129.93147914,  93.88150004,  48.83332241, 126.13081159,\n",
       "        40.16765647, 138.78735819,  67.16468215,  84.95693002,\n",
       "        99.57346897, 101.7703974 ,  95.34405634,  88.93642083,\n",
       "       103.53909386, 130.36814249, 120.99513984, 119.94350447,\n",
       "       101.7783335 , 126.83362563, 129.54260014,  95.00691322,\n",
       "        69.41522057, 129.32020324, 119.90409938, 136.38094784,\n",
       "       155.46783436,  95.10204982, 138.92081116,  95.17283131,\n",
       "       100.75709572,  90.13611851, 105.0334497 , 101.29617652,\n",
       "        87.42887272,  96.37735155, 102.94527719, 101.73394046,\n",
       "        81.11031506,  79.20426793, 101.15450948, 121.70464093,\n",
       "        95.81248098,  78.93953154, 117.25692307,  89.66093916,\n",
       "        99.47235647,  81.0023465 ,  86.07428091,  90.04539186,\n",
       "       105.35431911,  73.56140212,  78.84522341,  87.11831088,\n",
       "        94.75169035,  67.30485837, 131.85766294,  86.55016765,\n",
       "        97.49199528,  91.20692942,  68.35930965, 105.12868861,\n",
       "       113.63563712,  95.49943394,  81.34387104,  77.5374365 ,\n",
       "       161.68955524, 119.45462888,  80.92771158,  60.80487535,\n",
       "        72.6802342 ,  83.36534811, 129.76947857,  96.95432938,\n",
       "        93.11052595,  69.33397442,  69.72484767,  51.4953211 ,\n",
       "        76.6697777 , 118.85127123, 127.37965681, 151.20837327,\n",
       "        67.1337228 ,  99.81867089, 114.07493999,  62.95669948,\n",
       "        77.39747845,  77.45722138,  62.26131359, 119.92318582,\n",
       "       126.51922352,  75.63256108, 116.11493395, 122.10735161,\n",
       "        91.91154203, 117.22918895, 110.22937948,  61.82127156,\n",
       "       126.86713816, 128.87052824,  85.50918411,  98.55732852,\n",
       "        95.74928425,  68.90730045, 100.33823245,  95.12487992,\n",
       "       147.24504862,  74.28227047, 110.64132135, 104.17621044,\n",
       "       103.87789148,  95.96187819, 119.35588693, 106.44781802,\n",
       "       100.50092724,  82.08697397,  95.78397153,  82.27921008,\n",
       "       133.09857225, 133.35140653, 122.85708642, 111.66657209,\n",
       "        52.51678118, 128.38924716,  95.50887574, 149.16041605,\n",
       "        82.17310063,  77.19784912,  99.15602934,  88.5165646 ,\n",
       "       118.53842036,  86.7127954 , 119.90683145, 124.09104894,\n",
       "        98.05137934, 131.74387119,  92.65292215, 120.39383862,\n",
       "        55.08289215,  77.83732555,  87.3176013 , 108.96651203])"
      ]
     },
     "execution_count": 8,
     "metadata": {},
     "output_type": "execute_result"
    }
   ],
   "source": [
    "np.random.normal(100,25,1000)"
   ]
  },
  {
   "cell_type": "code",
   "execution_count": 9,
   "metadata": {
    "colab": {
     "base_uri": "https://localhost:8080/",
     "height": 227
    },
    "colab_type": "code",
    "executionInfo": {
     "elapsed": 820,
     "status": "ok",
     "timestamp": 1552619080325,
     "user": {
      "displayName": "",
      "photoUrl": "",
      "userId": ""
     },
     "user_tz": -660
    },
    "id": "EmcwT6cDTv3J",
    "outputId": "294c965d-ca92-41f9-95e3-65bfdb7d775f"
   },
   "outputs": [
    {
     "name": "stdout",
     "output_type": "stream",
     "text": [
      "height:\n",
      " [1.69 1.78 1.77 ... 2.13 1.87 2.01]\n",
      "weight:\n",
      " [37.02 40.38 51.64 ... 56.61 55.72 76.83]\n",
      "population:\n",
      " [[ 1.69 37.02]\n",
      " [ 1.78 40.38]\n",
      " [ 1.77 51.64]\n",
      " ...\n",
      " [ 2.13 56.61]\n",
      " [ 1.87 55.72]\n",
      " [ 2.01 76.83]]\n"
     ]
    }
   ],
   "source": [
    "print('height:\\n',height)\n",
    "print('weight:\\n',weight)\n",
    "print('population:\\n',population)"
   ]
  },
  {
   "cell_type": "markdown",
   "metadata": {
    "colab_type": "text",
    "id": "FXVi-lphTHs2"
   },
   "source": [
    "**1. Find Dimension of Array**\n",
    "\n",
    "Find dimention of each array: height, weight, population\n",
    "```\n",
    "# Expected Ouput\n",
    "np.ndim(height): 1\n",
    "np.ndim(weight): 1\n",
    "np.ndim(population): 2\n",
    "```"
   ]
  },
  {
   "cell_type": "code",
   "execution_count": 10,
   "metadata": {},
   "outputs": [
    {
     "name": "stdout",
     "output_type": "stream",
     "text": [
      "np.ndim(height): 1\n",
      "np.ndim(weight): 1\n",
      "np.ndim(population): 2\n"
     ]
    }
   ],
   "source": [
    "print('np.ndim(height):',np.ndim(height))\n",
    "print('np.ndim(weight):',np.ndim(weight))\n",
    "print('np.ndim(population):',np.ndim(population))"
   ]
  },
  {
   "cell_type": "markdown",
   "metadata": {
    "colab_type": "text",
    "id": "_TGkqif9T44j"
   },
   "source": [
    "**2. Find Shape of Array**\n",
    "\n",
    "Find shape of each array: height, weight, population\n",
    "```\n",
    "# Expected Ouput\n",
    "np.shape(height) : (7000,)\n",
    "np.shape(weight) : (7000,)\n",
    "np.shape(weight) : (7000, 2)\n",
    "```\n",
    "\n"
   ]
  },
  {
   "cell_type": "code",
   "execution_count": 11,
   "metadata": {},
   "outputs": [
    {
     "name": "stdout",
     "output_type": "stream",
     "text": [
      "np.shape(height) : (7000,)\n",
      "np.shape(weight) : (7000,)\n",
      "np.shape(weight) : (7000, 2)\n"
     ]
    }
   ],
   "source": [
    "print('np.shape(height) :',np.shape(height))\n",
    "print('np.shape(weight) :',np.shape(weight))\n",
    "print('np.shape(weight) :',np.shape(population))\n"
   ]
  },
  {
   "cell_type": "markdown",
   "metadata": {
    "colab_type": "text",
    "id": "I1x7cNp0UIkp"
   },
   "source": [
    "**3. Find Size of Array**\n",
    "\n",
    "Find shape of each array: height, weight, population\n",
    "```\n",
    "# Expected Ouput:\n",
    "np.size(height) : 7000\n",
    "np.size(weight) : 7000\n",
    "np.size(weight) : 14000\n",
    "```\n",
    "\n"
   ]
  },
  {
   "cell_type": "code",
   "execution_count": 12,
   "metadata": {},
   "outputs": [
    {
     "name": "stdout",
     "output_type": "stream",
     "text": [
      "np.size(height) : 7000\n",
      "np.size(weight) : 7000\n",
      "np.size(population) : 14000\n"
     ]
    }
   ],
   "source": [
    "\n",
    "print('np.size(height) :', height.size)\n",
    "print('np.size(weight) :', weight.size)\n",
    "print('np.size(population) :', population.size)\n"
   ]
  },
  {
   "cell_type": "markdown",
   "metadata": {
    "colab_type": "text",
    "id": "v1N4xcurUVCS"
   },
   "source": [
    "**4. Find Size of Items of Each Array**\n",
    "\n",
    "Find size of items each array: height, weight, population\n",
    "```\n",
    "# Expected Output:\n",
    "height.itemsize : 8\n",
    "weight.itemsize : 8\n",
    "population.itemsize : 8\n",
    "```"
   ]
  },
  {
   "cell_type": "code",
   "execution_count": 13,
   "metadata": {},
   "outputs": [
    {
     "name": "stdout",
     "output_type": "stream",
     "text": [
      "height.itemsize : 8\n",
      "weight.itemsize : 8\n",
      "population.itemsize : 8\n"
     ]
    }
   ],
   "source": [
    "\n",
    "print('height.itemsize :',height.itemsize)\n",
    "print('weight.itemsize :',weight.itemsize)\n",
    "print('population.itemsize :',population.itemsize)"
   ]
  },
  {
   "cell_type": "markdown",
   "metadata": {
    "colab_type": "text",
    "id": "r83X2u4HUteY"
   },
   "source": [
    "**4. Find Minimum Value of Each Array**\n",
    "\n",
    "Find minimum value of each array: height, weight, population\n",
    "```\n",
    "# Expected Output:\n",
    "height.min : 1.0\n",
    "weight.min : 3.24\n",
    "population.min : 1.0\n",
    "```\n",
    "\n"
   ]
  },
  {
   "cell_type": "code",
   "execution_count": 14,
   "metadata": {},
   "outputs": [
    {
     "name": "stdout",
     "output_type": "stream",
     "text": [
      "height.min : 1.11\n",
      "weight.min : 1.88\n",
      "population.min : 1.11\n"
     ]
    }
   ],
   "source": [
    "print('height.min :', height.min())\n",
    "print('weight.min :', weight.min())\n",
    "print('population.min :', population.min())"
   ]
  },
  {
   "cell_type": "markdown",
   "metadata": {
    "colab_type": "text",
    "id": "d7v4phGMVAu0"
   },
   "source": [
    "**5. Find Maximum Value of Each Array**\n",
    "\n",
    "Find maximum value of each array: height, weight, population\n",
    "```\n",
    "# Expected Output\n",
    "height.max() : 2.51\n",
    "weight.max() : 132.17\n",
    "population.max() : 132.17\n",
    "```"
   ]
  },
  {
   "cell_type": "code",
   "execution_count": 15,
   "metadata": {},
   "outputs": [
    {
     "name": "stdout",
     "output_type": "stream",
     "text": [
      "height.max() : 2.45\n",
      "weight.max() : 114.93\n",
      "population.max() : 114.93\n"
     ]
    }
   ],
   "source": [
    "print('height.max() :', height.max())\n",
    "print('weight.max() :', weight.max())\n",
    "print('population.max() :', population.max())"
   ]
  },
  {
   "cell_type": "markdown",
   "metadata": {
    "colab_type": "text",
    "id": "vYPOvoePVa0m"
   },
   "source": [
    "**6. Find Mean Value of Each Array**\n",
    "\n",
    "Find maximum value of each array: height, weight, population\n",
    "```\n",
    "# Expected Output\n",
    "height.mean() : 1.7494871428571428\n",
    "weight.mean() : 60.41684428571429\n",
    "population.mean() : 31.083165714285716\n",
    "```\n",
    "\n"
   ]
  },
  {
   "cell_type": "code",
   "execution_count": 17,
   "metadata": {},
   "outputs": [
    {
     "name": "stdout",
     "output_type": "stream",
     "text": [
      "height.mean() : 1.7539471428571427\n",
      "weight.mean() : 60.463884285714286\n",
      "population.mean() : 31.10891571428571\n"
     ]
    }
   ],
   "source": [
    "print('height.mean() :', height.mean())\n",
    "print('weight.mean() :', weight.mean())\n",
    "print('population.mean() :', population.mean())"
   ]
  },
  {
   "cell_type": "markdown",
   "metadata": {
    "colab_type": "text",
    "id": "Xo7Y5yQPV070"
   },
   "source": [
    "**6. Find Standard Deviation of Each Array**\n",
    "\n",
    "Find standard deviation value of each array: height, weight, population\n",
    "```\n",
    "# Expected Output\n",
    "height.std() : 0.1981923748970856\n",
    "weight.std() : 14.821310711612284\n",
    "population.std() : 31.090684288943482\n",
    "```"
   ]
  },
  {
   "cell_type": "code",
   "execution_count": 48,
   "metadata": {},
   "outputs": [
    {
     "name": "stdout",
     "output_type": "stream",
     "text": [
      "height.std() : 0.20045675539545546\n",
      "weight.std() : 15.036582976641348\n",
      "population.std() : 31.02400074925136\n"
     ]
    }
   ],
   "source": [
    "print('height.std() :', height.std())\n",
    "print('weight.std() :', weight.std())\n",
    "print('population.std() :', population.std())"
   ]
  },
  {
   "cell_type": "markdown",
   "metadata": {
    "colab_type": "text",
    "id": "tOsfNOAbWHGQ"
   },
   "source": [
    "**7. Find Total value of Each Array**\n",
    "\n",
    "Find total value of each array: height, weight, population\n",
    "```\n",
    "# Expected Output\n",
    "height.sum() : 12219.789999999999\n",
    "weight.sum() : 422009.95\n",
    "population.sum() : 434229.74\n",
    "```"
   ]
  },
  {
   "cell_type": "code",
   "execution_count": 49,
   "metadata": {},
   "outputs": [
    {
     "name": "stdout",
     "output_type": "stream",
     "text": [
      "height.sum() : 12241.539999999999\n",
      "weight.sum() : 420268.68\n",
      "population.sum() : 432510.22\n"
     ]
    }
   ],
   "source": [
    "print('height.sum() :', height.sum())\n",
    "print('weight.sum() :', weight.sum())\n",
    "print('population.sum() :', population.sum())"
   ]
  },
  {
   "cell_type": "markdown",
   "metadata": {
    "colab_type": "text",
    "id": "J11tIVhEWfcI"
   },
   "source": [
    "**8. Create a histogram of height and weight**"
   ]
  },
  {
   "cell_type": "code",
   "execution_count": 0,
   "metadata": {
    "colab": {
     "base_uri": "https://localhost:8080/",
     "height": 3834
    },
    "colab_type": "code",
    "executionInfo": {
     "elapsed": 871,
     "status": "ok",
     "timestamp": 1552619858866,
     "user": {
      "displayName": "",
      "photoUrl": "",
      "userId": ""
     },
     "user_tz": -660
    },
    "id": "gOsaH1wYWsnl",
    "outputId": "16ff210c-6f29-45de-ddff-ba5cfee755c2"
   },
   "outputs": [
    {
     "name": "stdout",
     "output_type": "stream",
     "text": [
      "Help on function hist in module matplotlib.pyplot:\n",
      "\n",
      "hist(x, bins=None, range=None, density=None, weights=None, cumulative=False, bottom=None, histtype='bar', align='mid', orientation='vertical', rwidth=None, log=False, color=None, label=None, stacked=False, normed=None, *, data=None, **kwargs)\n",
      "    Plot a histogram.\n",
      "    \n",
      "    Compute and draw the histogram of *x*. The return value is a\n",
      "    tuple (*n*, *bins*, *patches*) or ([*n0*, *n1*, ...], *bins*,\n",
      "    [*patches0*, *patches1*,...]) if the input contains multiple\n",
      "    data.\n",
      "    \n",
      "    Multiple data can be provided via *x* as a list of datasets\n",
      "    of potentially different length ([*x0*, *x1*, ...]), or as\n",
      "    a 2-D ndarray in which each column is a dataset.  Note that\n",
      "    the ndarray form is transposed relative to the list form.\n",
      "    \n",
      "    Masked arrays are not supported at present.\n",
      "    \n",
      "    Parameters\n",
      "    ----------\n",
      "    x : (n,) array or sequence of (n,) arrays\n",
      "        Input values, this takes either a single array or a sequence of\n",
      "        arrays which are not required to be of the same length.\n",
      "    \n",
      "    bins : int or sequence or str, optional\n",
      "        If an integer is given, ``bins + 1`` bin edges are calculated and\n",
      "        returned, consistent with `numpy.histogram`.\n",
      "    \n",
      "        If `bins` is a sequence, gives bin edges, including left edge of\n",
      "        first bin and right edge of last bin.  In this case, `bins` is\n",
      "        returned unmodified.\n",
      "    \n",
      "        All but the last (righthand-most) bin is half-open.  In other\n",
      "        words, if `bins` is::\n",
      "    \n",
      "            [1, 2, 3, 4]\n",
      "    \n",
      "        then the first bin is ``[1, 2)`` (including 1, but excluding 2) and\n",
      "        the second ``[2, 3)``.  The last bin, however, is ``[3, 4]``, which\n",
      "        *includes* 4.\n",
      "    \n",
      "        Unequally spaced bins are supported if *bins* is a sequence.\n",
      "    \n",
      "        With Numpy 1.11 or newer, you can alternatively provide a string\n",
      "        describing a binning strategy, such as 'auto', 'sturges', 'fd',\n",
      "        'doane', 'scott', 'rice', 'sturges' or 'sqrt', see\n",
      "        `numpy.histogram`.\n",
      "    \n",
      "        The default is taken from :rc:`hist.bins`.\n",
      "    \n",
      "    range : tuple or None, optional\n",
      "        The lower and upper range of the bins. Lower and upper outliers\n",
      "        are ignored. If not provided, *range* is ``(x.min(), x.max())``.\n",
      "        Range has no effect if *bins* is a sequence.\n",
      "    \n",
      "        If *bins* is a sequence or *range* is specified, autoscaling\n",
      "        is based on the specified bin range instead of the\n",
      "        range of x.\n",
      "    \n",
      "        Default is ``None``\n",
      "    \n",
      "    density : bool, optional\n",
      "        If ``True``, the first element of the return tuple will\n",
      "        be the counts normalized to form a probability density, i.e.,\n",
      "        the area (or integral) under the histogram will sum to 1.\n",
      "        This is achieved by dividing the count by the number of\n",
      "        observations times the bin width and not dividing by the total\n",
      "        number of observations. If *stacked* is also ``True``, the sum of\n",
      "        the histograms is normalized to 1.\n",
      "    \n",
      "        Default is ``None`` for both *normed* and *density*. If either is\n",
      "        set, then that value will be used. If neither are set, then the\n",
      "        args will be treated as ``False``.\n",
      "    \n",
      "        If both *density* and *normed* are set an error is raised.\n",
      "    \n",
      "    weights : (n, ) array_like or None, optional\n",
      "        An array of weights, of the same shape as *x*.  Each value in *x*\n",
      "        only contributes its associated weight towards the bin count\n",
      "        (instead of 1).  If *normed* or *density* is ``True``,\n",
      "        the weights are normalized, so that the integral of the density\n",
      "        over the range remains 1.\n",
      "    \n",
      "        Default is ``None``\n",
      "    \n",
      "    cumulative : bool, optional\n",
      "        If ``True``, then a histogram is computed where each bin gives the\n",
      "        counts in that bin plus all bins for smaller values. The last bin\n",
      "        gives the total number of datapoints. If *normed* or *density*\n",
      "        is also ``True`` then the histogram is normalized such that the\n",
      "        last bin equals 1. If *cumulative* evaluates to less than 0\n",
      "        (e.g., -1), the direction of accumulation is reversed.\n",
      "        In this case, if *normed* and/or *density* is also ``True``, then\n",
      "        the histogram is normalized such that the first bin equals 1.\n",
      "    \n",
      "        Default is ``False``\n",
      "    \n",
      "    bottom : array_like, scalar, or None\n",
      "        Location of the bottom baseline of each bin.  If a scalar,\n",
      "        the base line for each bin is shifted by the same amount.\n",
      "        If an array, each bin is shifted independently and the length\n",
      "        of bottom must match the number of bins.  If None, defaults to 0.\n",
      "    \n",
      "        Default is ``None``\n",
      "    \n",
      "    histtype : {'bar', 'barstacked', 'step',  'stepfilled'}, optional\n",
      "        The type of histogram to draw.\n",
      "    \n",
      "        - 'bar' is a traditional bar-type histogram.  If multiple data\n",
      "          are given the bars are arranged side by side.\n",
      "    \n",
      "        - 'barstacked' is a bar-type histogram where multiple\n",
      "          data are stacked on top of each other.\n",
      "    \n",
      "        - 'step' generates a lineplot that is by default\n",
      "          unfilled.\n",
      "    \n",
      "        - 'stepfilled' generates a lineplot that is by default\n",
      "          filled.\n",
      "    \n",
      "        Default is 'bar'\n",
      "    \n",
      "    align : {'left', 'mid', 'right'}, optional\n",
      "        Controls how the histogram is plotted.\n",
      "    \n",
      "            - 'left': bars are centered on the left bin edges.\n",
      "    \n",
      "            - 'mid': bars are centered between the bin edges.\n",
      "    \n",
      "            - 'right': bars are centered on the right bin edges.\n",
      "    \n",
      "        Default is 'mid'\n",
      "    \n",
      "    orientation : {'horizontal', 'vertical'}, optional\n",
      "        If 'horizontal', `~matplotlib.pyplot.barh` will be used for\n",
      "        bar-type histograms and the *bottom* kwarg will be the left edges.\n",
      "    \n",
      "    rwidth : scalar or None, optional\n",
      "        The relative width of the bars as a fraction of the bin width.  If\n",
      "        ``None``, automatically compute the width.\n",
      "    \n",
      "        Ignored if *histtype* is 'step' or 'stepfilled'.\n",
      "    \n",
      "        Default is ``None``\n",
      "    \n",
      "    log : bool, optional\n",
      "        If ``True``, the histogram axis will be set to a log scale. If\n",
      "        *log* is ``True`` and *x* is a 1D array, empty bins will be\n",
      "        filtered out and only the non-empty ``(n, bins, patches)``\n",
      "        will be returned.\n",
      "    \n",
      "        Default is ``False``\n",
      "    \n",
      "    color : color or array_like of colors or None, optional\n",
      "        Color spec or sequence of color specs, one per dataset.  Default\n",
      "        (``None``) uses the standard line color sequence.\n",
      "    \n",
      "        Default is ``None``\n",
      "    \n",
      "    label : str or None, optional\n",
      "        String, or sequence of strings to match multiple datasets.  Bar\n",
      "        charts yield multiple patches per dataset, but only the first gets\n",
      "        the label, so that the legend command will work as expected.\n",
      "    \n",
      "        default is ``None``\n",
      "    \n",
      "    stacked : bool, optional\n",
      "        If ``True``, multiple data are stacked on top of each other If\n",
      "        ``False`` multiple data are arranged side by side if histtype is\n",
      "        'bar' or on top of each other if histtype is 'step'\n",
      "    \n",
      "        Default is ``False``\n",
      "    \n",
      "    normed : bool, optional\n",
      "        Deprecated; use the density keyword argument instead.\n",
      "    \n",
      "    Returns\n",
      "    -------\n",
      "    n : array or list of arrays\n",
      "        The values of the histogram bins. See *normed* or *density*\n",
      "        and *weights* for a description of the possible semantics.\n",
      "        If input *x* is an array, then this is an array of length\n",
      "        *nbins*. If input is a sequence of arrays\n",
      "        ``[data1, data2,..]``, then this is a list of arrays with\n",
      "        the values of the histograms for each of the arrays in the\n",
      "        same order.\n",
      "    \n",
      "    bins : array\n",
      "        The edges of the bins. Length nbins + 1 (nbins left edges and right\n",
      "        edge of last bin).  Always a single array even when multiple data\n",
      "        sets are passed in.\n",
      "    \n",
      "    patches : list or list of lists\n",
      "        Silent list of individual patches used to create the histogram\n",
      "        or list of such list if multiple input datasets.\n",
      "    \n",
      "    Other Parameters\n",
      "    ----------------\n",
      "    **kwargs : `~matplotlib.patches.Patch` properties\n",
      "    \n",
      "    See also\n",
      "    --------\n",
      "    hist2d : 2D histograms\n",
      "    \n",
      "    Notes\n",
      "    -----\n",
      "    .. [Notes section required for data comment. See #10189.]\n",
      "    \n",
      "    .. note::\n",
      "        In addition to the above described arguments, this function can take a\n",
      "        **data** keyword argument. If such a **data** argument is given, the\n",
      "        following arguments are replaced by **data[<arg>]**:\n",
      "    \n",
      "        * All arguments with the following names: 'weights', 'x'.\n",
      "    \n",
      "        Objects passed as **data** must support item access (``data[<arg>]``) and\n",
      "        membership test (``<arg> in data``).\n",
      "\n"
     ]
    }
   ],
   "source": [
    "help(plt.hist)"
   ]
  },
  {
   "cell_type": "code",
   "execution_count": 303,
   "metadata": {},
   "outputs": [
    {
     "data": {
      "image/png": "[encoded data removed]",
      "text/plain": [
       "<Figure size 720x432 with 1 Axes>"
      ]
     },
     "metadata": {
      "needs_background": "light"
     },
     "output_type": "display_data"
    }
   ],
   "source": [
    "\n",
    "\n",
    "height= np.random.normal(80, 15, 10000)\n",
    "weight= np.random.normal(65, 15, 10000)\n",
    "#height= np.round(np.random.normal(1.75, 0.20, 7000), 2)\n",
    "#weight= np.round(np.random.normal(60.32, 15, 7000), 2)\n",
    "#bins = np.linspace(-10, 10, 50)\n",
    "rcParams['figure.figsize'] = 10,6\n",
    "plt.hist(height, bins =35,color='g',edgecolor='w', alpha = 0.5,label='height')\n",
    "plt.hist(weight, bins =35,color='orange',edgecolor='w', alpha = 0.9,label='weight')\n",
    "plt.title('Histograms of Height and Weight')\n",
    "plt.legend(loc='best')\n",
    "plt.grid(axis = 'y',alpha=.5)\n",
    "plt.show()"
   ]
  },
  {
   "cell_type": "markdown",
   "metadata": {
    "colab_type": "text",
    "id": "cfT_iKnKW4K0"
   },
   "source": [
    "**9. Create a boxplot of height and weight**"
   ]
  },
  {
   "cell_type": "code",
   "execution_count": 0,
   "metadata": {
    "colab": {
     "base_uri": "https://localhost:8080/",
     "height": 3222
    },
    "colab_type": "code",
    "executionInfo": {
     "elapsed": 851,
     "status": "ok",
     "timestamp": 1552620003646,
     "user": {
      "displayName": "",
      "photoUrl": "",
      "userId": ""
     },
     "user_tz": -660
    },
    "id": "PZbswA3fXQSL",
    "outputId": "2256b909-9b78-4e08-bc33-40d5aa2926af"
   },
   "outputs": [
    {
     "name": "stdout",
     "output_type": "stream",
     "text": [
      "Help on function boxplot in module matplotlib.pyplot:\n",
      "\n",
      "boxplot(x, notch=None, sym=None, vert=None, whis=None, positions=None, widths=None, patch_artist=None, bootstrap=None, usermedians=None, conf_intervals=None, meanline=None, showmeans=None, showcaps=None, showbox=None, showfliers=None, boxprops=None, labels=None, flierprops=None, medianprops=None, meanprops=None, capprops=None, whiskerprops=None, manage_xticks=True, autorange=False, zorder=None, *, data=None)\n",
      "    Make a box and whisker plot.\n",
      "    \n",
      "    Make a box and whisker plot for each column of ``x`` or each\n",
      "    vector in sequence ``x``.  The box extends from the lower to\n",
      "    upper quartile values of the data, with a line at the median.\n",
      "    The whiskers extend from the box to show the range of the\n",
      "    data.  Flier points are those past the end of the whiskers.\n",
      "    \n",
      "    Parameters\n",
      "    ----------\n",
      "    x : Array or a sequence of vectors.\n",
      "        The input data.\n",
      "    \n",
      "    notch : bool, optional (False)\n",
      "        If `True`, will produce a notched box plot. Otherwise, a\n",
      "        rectangular boxplot is produced. The notches represent the\n",
      "        confidence interval (CI) around the median. See the entry\n",
      "        for the ``bootstrap`` parameter for information regarding\n",
      "        how the locations of the notches are computed.\n",
      "    \n",
      "        .. note::\n",
      "    \n",
      "            In cases where the values of the CI are less than the\n",
      "            lower quartile or greater than the upper quartile, the\n",
      "            notches will extend beyond the box, giving it a\n",
      "            distinctive \"flipped\" appearance. This is expected\n",
      "            behavior and consistent with other statistical\n",
      "            visualization packages.\n",
      "    \n",
      "    sym : str, optional\n",
      "        The default symbol for flier points. Enter an empty string\n",
      "        ('') if you don't want to show fliers. If `None`, then the\n",
      "        fliers default to 'b+'  If you want more control use the\n",
      "        flierprops kwarg.\n",
      "    \n",
      "    vert : bool, optional (True)\n",
      "        If `True` (default), makes the boxes vertical. If `False`,\n",
      "        everything is drawn horizontally.\n",
      "    \n",
      "    whis : float, sequence, or string (default = 1.5)\n",
      "        As a float, determines the reach of the whiskers to the beyond the\n",
      "        first and third quartiles. In other words, where IQR is the\n",
      "        interquartile range (`Q3-Q1`), the upper whisker will extend to\n",
      "        last datum less than `Q3 + whis*IQR`). Similarly, the lower whisker\n",
      "        will extend to the first datum greater than `Q1 - whis*IQR`.\n",
      "        Beyond the whiskers, data\n",
      "        are considered outliers and are plotted as individual\n",
      "        points. Set this to an unreasonably high value to force the\n",
      "        whiskers to show the min and max values. Alternatively, set\n",
      "        this to an ascending sequence of percentile (e.g., [5, 95])\n",
      "        to set the whiskers at specific percentiles of the data.\n",
      "        Finally, ``whis`` can be the string ``'range'`` to force the\n",
      "        whiskers to the min and max of the data.\n",
      "    \n",
      "    bootstrap : int, optional\n",
      "        Specifies whether to bootstrap the confidence intervals\n",
      "        around the median for notched boxplots. If ``bootstrap`` is\n",
      "        None, no bootstrapping is performed, and notches are\n",
      "        calculated using a Gaussian-based asymptotic approximation\n",
      "        (see McGill, R., Tukey, J.W., and Larsen, W.A., 1978, and\n",
      "        Kendall and Stuart, 1967). Otherwise, bootstrap specifies\n",
      "        the number of times to bootstrap the median to determine its\n",
      "        95% confidence intervals. Values between 1000 and 10000 are\n",
      "        recommended.\n",
      "    \n",
      "    usermedians : array-like, optional\n",
      "        An array or sequence whose first dimension (or length) is\n",
      "        compatible with ``x``. This overrides the medians computed\n",
      "        by matplotlib for each element of ``usermedians`` that is not\n",
      "        `None`. When an element of ``usermedians`` is None, the median\n",
      "        will be computed by matplotlib as normal.\n",
      "    \n",
      "    conf_intervals : array-like, optional\n",
      "        Array or sequence whose first dimension (or length) is\n",
      "        compatible with ``x`` and whose second dimension is 2. When\n",
      "        the an element of ``conf_intervals`` is not None, the\n",
      "        notch locations computed by matplotlib are overridden\n",
      "        (provided ``notch`` is `True`). When an element of\n",
      "        ``conf_intervals`` is `None`, the notches are computed by the\n",
      "        method specified by the other kwargs (e.g., ``bootstrap``).\n",
      "    \n",
      "    positions : array-like, optional\n",
      "        Sets the positions of the boxes. The ticks and limits are\n",
      "        automatically set to match the positions. Defaults to\n",
      "        `range(1, N+1)` where N is the number of boxes to be drawn.\n",
      "    \n",
      "    widths : scalar or array-like\n",
      "        Sets the width of each box either with a scalar or a\n",
      "        sequence. The default is 0.5, or ``0.15*(distance between\n",
      "        extreme positions)``, if that is smaller.\n",
      "    \n",
      "    patch_artist : bool, optional (False)\n",
      "        If `False` produces boxes with the Line2D artist. Otherwise,\n",
      "        boxes and drawn with Patch artists.\n",
      "    \n",
      "    labels : sequence, optional\n",
      "        Labels for each dataset. Length must be compatible with\n",
      "        dimensions of ``x``.\n",
      "    \n",
      "    manage_xticks : bool, optional (True)\n",
      "        If the function should adjust the xlim and xtick locations.\n",
      "    \n",
      "    autorange : bool, optional (False)\n",
      "        When `True` and the data are distributed such that the 25th and\n",
      "        75th percentiles are equal, ``whis`` is set to ``'range'`` such\n",
      "        that the whisker ends are at the minimum and maximum of the data.\n",
      "    \n",
      "    meanline : bool, optional (False)\n",
      "        If `True` (and ``showmeans`` is `True`), will try to render\n",
      "        the mean as a line spanning the full width of the box\n",
      "        according to ``meanprops`` (see below). Not recommended if\n",
      "        ``shownotches`` is also True. Otherwise, means will be shown\n",
      "        as points.\n",
      "    \n",
      "    zorder : scalar, optional (None)\n",
      "        Sets the zorder of the boxplot.\n",
      "    \n",
      "    Other Parameters\n",
      "    ----------------\n",
      "    showcaps : bool, optional (True)\n",
      "        Show the caps on the ends of whiskers.\n",
      "    showbox : bool, optional (True)\n",
      "        Show the central box.\n",
      "    showfliers : bool, optional (True)\n",
      "        Show the outliers beyond the caps.\n",
      "    showmeans : bool, optional (False)\n",
      "        Show the arithmetic means.\n",
      "    capprops : dict, optional (None)\n",
      "        Specifies the style of the caps.\n",
      "    boxprops : dict, optional (None)\n",
      "        Specifies the style of the box.\n",
      "    whiskerprops : dict, optional (None)\n",
      "        Specifies the style of the whiskers.\n",
      "    flierprops : dict, optional (None)\n",
      "        Specifies the style of the fliers.\n",
      "    medianprops : dict, optional (None)\n",
      "        Specifies the style of the median.\n",
      "    meanprops : dict, optional (None)\n",
      "        Specifies the style of the mean.\n",
      "    \n",
      "    Returns\n",
      "    -------\n",
      "    result : dict\n",
      "      A dictionary mapping each component of the boxplot to a list\n",
      "      of the :class:`matplotlib.lines.Line2D` instances\n",
      "      created. That dictionary has the following keys (assuming\n",
      "      vertical boxplots):\n",
      "    \n",
      "      - ``boxes``: the main body of the boxplot showing the\n",
      "        quartiles and the median's confidence intervals if\n",
      "        enabled.\n",
      "    \n",
      "      - ``medians``: horizontal lines at the median of each box.\n",
      "    \n",
      "      - ``whiskers``: the vertical lines extending to the most\n",
      "        extreme, non-outlier data points.\n",
      "    \n",
      "      - ``caps``: the horizontal lines at the ends of the\n",
      "        whiskers.\n",
      "    \n",
      "      - ``fliers``: points representing data that extend beyond\n",
      "        the whiskers (fliers).\n",
      "    \n",
      "      - ``means``: points or lines representing the means.\n",
      "    \n",
      "    Notes\n",
      "    -----\n",
      "    .. [Notes section required for data comment. See #10189.]\n",
      "    \n",
      "    .. note::\n",
      "        In addition to the above described arguments, this function can take a\n",
      "        **data** keyword argument. If such a **data** argument is given, the\n",
      "        following arguments are replaced by **data[<arg>]**:\n",
      "    \n",
      "        * All positional and all keyword arguments.\n",
      "    \n",
      "        Objects passed as **data** must support item access (``data[<arg>]``) and\n",
      "        membership test (``<arg> in data``).\n",
      "\n"
     ]
    }
   ],
   "source": [
    "help(plt.boxplot)"
   ]
  },
  {
   "cell_type": "code",
   "execution_count": 301,
   "metadata": {},
   "outputs": [
    {
     "data": {
      "image/png": "[encoded data removed]",
      "text/plain": [
       "<Figure size 864x288 with 1 Axes>"
      ]
     },
     "metadata": {
      "needs_background": "light"
     },
     "output_type": "display_data"
    }
   ],
   "source": [
    "height= np.round(np.random.normal(1.75, 0.20, 7000), 2)\n",
    "weight= np.round(np.random.normal(60.32, 15, 7000), 2)\n",
    "data_to_plot = [x,y]\n",
    "# Create a figure instance\n",
    "fig = plt.figure(1, figsize=(12, 4))\n",
    "# Create an axes instance\n",
    "ax = fig.add_subplot(111)\n",
    "# Create the boxplot\n",
    "bp = ax.boxplot(data_to_plot)\n",
    "# Save the figure\n",
    "fig.savefig('fig1.png', bbox_inches='tight')\n",
    "## add patch_artist=True option to ax.boxplot()to get fill color\n",
    "bp = ax.boxplot(data_to_plot, patch_artist=True)\n",
    "## change outline color, fill color and linewidth of the boxes\n",
    "for box in bp['boxes']:\n",
    "    # change outline color\n",
    "    box.set( color='#7570b3', linewidth=2)\n",
    "    # change fill color\n",
    "    box.set( facecolor = '#1b9e77' )\n",
    "\n",
    "## change color and linewidth of the whiskers\n",
    "for whisker in bp['whiskers']:\n",
    "    whisker.set(color='#7570b3', linewidth=2)\n",
    "\n",
    "## change color and linewidth of the caps\n",
    "for cap in bp['caps']:\n",
    "    cap.set(color='#7570b3', linewidth=2)\n",
    "\n",
    "## change color and linewidth of the medians\n",
    "for median in bp['medians']:\n",
    "    median.set(color='#b2df8a', linewidth=2)\n",
    "\n",
    "## change the style of fliers and their fill\n",
    "for flier in bp['fliers']:\n",
    "    flier.set(marker='o', color='#e7298a', alpha=0.5)\n",
    "fig.savefig('fig1.png', bbox_inches='tight')\n",
    "## Remove top axes and right axes ticks\n",
    "ax.get_xaxis().tick_bottom()\n",
    "ax.get_yaxis().tick_left()\n",
    "\n",
    "plt.boxplot(data_to_plot)\n",
    "ax.set_xticklabels(['Height', 'Weight'])\n",
    "plt.show()\n",
    "\n"
   ]
  },
  {
   "cell_type": "markdown",
   "metadata": {
    "colab_type": "text",
    "id": "b-6Hr9dSXD2L"
   },
   "source": [
    "**10. Create scatterplot of height and weight**"
   ]
  },
  {
   "cell_type": "code",
   "execution_count": 178,
   "metadata": {
    "colab": {
     "base_uri": "https://localhost:8080/",
     "height": 2029
    },
    "colab_type": "code",
    "executionInfo": {
     "elapsed": 726,
     "status": "ok",
     "timestamp": 1552620019954,
     "user": {
      "displayName": "",
      "photoUrl": "",
      "userId": ""
     },
     "user_tz": -660
    },
    "id": "S3l7S_qBXUT2",
    "outputId": "1a4753f4-e695-484f-9469-4eb5ff2ceafe"
   },
   "outputs": [
    {
     "name": "stdout",
     "output_type": "stream",
     "text": [
      "Help on function scatter in module matplotlib.pyplot:\n",
      "\n",
      "scatter(x, y, s=None, c=None, marker=None, cmap=None, norm=None, vmin=None, vmax=None, alpha=None, linewidths=None, verts=None, edgecolors=None, *, plotnonfinite=False, data=None, **kwargs)\n",
      "    A scatter plot of *y* vs *x* with varying marker size and/or color.\n",
      "    \n",
      "    Parameters\n",
      "    ----------\n",
      "    x, y : array_like, shape (n, )\n",
      "        The data positions.\n",
      "    \n",
      "    s : scalar or array_like, shape (n, ), optional\n",
      "        The marker size in points**2.\n",
      "        Default is ``rcParams['lines.markersize'] ** 2``.\n",
      "    \n",
      "    c : color, sequence, or sequence of color, optional\n",
      "        The marker color. Possible values:\n",
      "    \n",
      "        - A single color format string.\n",
      "        - A sequence of color specifications of length n.\n",
      "        - A sequence of n numbers to be mapped to colors using *cmap* and\n",
      "          *norm*.\n",
      "        - A 2-D array in which the rows are RGB or RGBA.\n",
      "    \n",
      "        Note that *c* should not be a single numeric RGB or RGBA sequence\n",
      "        because that is indistinguishable from an array of values to be\n",
      "        colormapped. If you want to specify the same RGB or RGBA value for\n",
      "        all points, use a 2-D array with a single row.  Otherwise, value-\n",
      "        matching will have precedence in case of a size matching with *x*\n",
      "        and *y*.\n",
      "    \n",
      "        Defaults to ``None``. In that case the marker color is determined\n",
      "        by the value of ``color``, ``facecolor`` or ``facecolors``. In case\n",
      "        those are not specified or ``None``, the marker color is determined\n",
      "        by the next color of the ``Axes``' current \"shape and fill\" color\n",
      "        cycle. This cycle defaults to :rc:`axes.prop_cycle`.\n",
      "    \n",
      "    marker : `~matplotlib.markers.MarkerStyle`, optional\n",
      "        The marker style. *marker* can be either an instance of the class\n",
      "        or the text shorthand for a particular marker.\n",
      "        Defaults to ``None``, in which case it takes the value of\n",
      "        :rc:`scatter.marker` = 'o'.\n",
      "        See `~matplotlib.markers` for more information about marker styles.\n",
      "    \n",
      "    cmap : `~matplotlib.colors.Colormap`, optional, default: None\n",
      "        A `.Colormap` instance or registered colormap name. *cmap* is only\n",
      "        used if *c* is an array of floats. If ``None``, defaults to rc\n",
      "        ``image.cmap``.\n",
      "    \n",
      "    norm : `~matplotlib.colors.Normalize`, optional, default: None\n",
      "        A `.Normalize` instance is used to scale luminance data to 0, 1.\n",
      "        *norm* is only used if *c* is an array of floats. If *None*, use\n",
      "        the default `.colors.Normalize`.\n",
      "    \n",
      "    vmin, vmax : scalar, optional, default: None\n",
      "        *vmin* and *vmax* are used in conjunction with *norm* to normalize\n",
      "        luminance data. If None, the respective min and max of the color\n",
      "        array is used. *vmin* and *vmax* are ignored if you pass a *norm*\n",
      "        instance.\n",
      "    \n",
      "    alpha : scalar, optional, default: None\n",
      "        The alpha blending value, between 0 (transparent) and 1 (opaque).\n",
      "    \n",
      "    linewidths : scalar or array_like, optional, default: None\n",
      "        The linewidth of the marker edges. Note: The default *edgecolors*\n",
      "        is 'face'. You may want to change this as well.\n",
      "        If *None*, defaults to rcParams ``lines.linewidth``.\n",
      "    \n",
      "    edgecolors : {'face', 'none', *None*} or color or sequence of color, optional.\n",
      "        The edge color of the marker. Possible values:\n",
      "    \n",
      "        - 'face': The edge color will always be the same as the face color.\n",
      "        - 'none': No patch boundary will be drawn.\n",
      "        - A Matplotlib color or sequence of color.\n",
      "    \n",
      "        Defaults to ``None``, in which case it takes the value of\n",
      "        :rc:`scatter.edgecolors` = 'face'.\n",
      "    \n",
      "        For non-filled markers, the *edgecolors* kwarg is ignored and\n",
      "        forced to 'face' internally.\n",
      "    \n",
      "    plotnonfinite : boolean, optional, default: False\n",
      "        Set to plot points with nonfinite *c*, in conjunction with\n",
      "        `~matplotlib.colors.Colormap.set_bad`.\n",
      "    \n",
      "    Returns\n",
      "    -------\n",
      "    paths : `~matplotlib.collections.PathCollection`\n",
      "    \n",
      "    Other Parameters\n",
      "    ----------------\n",
      "    **kwargs : `~matplotlib.collections.Collection` properties\n",
      "    \n",
      "    See Also\n",
      "    --------\n",
      "    plot : To plot scatter plots when markers are identical in size and\n",
      "        color.\n",
      "    \n",
      "    Notes\n",
      "    -----\n",
      "    \n",
      "    * The `.plot` function will be faster for scatterplots where markers\n",
      "      don't vary in size or color.\n",
      "    \n",
      "    * Any or all of *x*, *y*, *s*, and *c* may be masked arrays, in which\n",
      "      case all masks will be combined and only unmasked points will be\n",
      "      plotted.\n",
      "    \n",
      "    * Fundamentally, scatter works with 1-D arrays; *x*, *y*, *s*, and *c*\n",
      "      may be input as 2-D arrays, but within scatter they will be\n",
      "      flattened. The exception is *c*, which will be flattened only if its\n",
      "      size matches the size of *x* and *y*.\n",
      "    \n",
      "    .. note::\n",
      "        In addition to the above described arguments, this function can take a\n",
      "        **data** keyword argument. If such a **data** argument is given, the\n",
      "        following arguments are replaced by **data[<arg>]**:\n",
      "    \n",
      "        * All arguments with the following names: 'c', 'color', 'edgecolors', 'facecolor', 'facecolors', 'linewidths', 's', 'x', 'y'.\n",
      "    \n",
      "        Objects passed as **data** must support item access (``data[<arg>]``) and\n",
      "        membership test (``<arg> in data``).\n",
      "\n"
     ]
    }
   ],
   "source": [
    "help(plt.scatter)"
   ]
  },
  {
   "cell_type": "code",
   "execution_count": 355,
   "metadata": {},
   "outputs": [
    {
     "data": {
      "image/png": "[encoded data removed]",
      "text/plain": [
       "<Figure size 864x288 with 1 Axes>"
      ]
     },
     "metadata": {},
     "output_type": "display_data"
    }
   ],
   "source": [
    "x= height\n",
    "y= weight\n",
    "from matplotlib import rcParams\n",
    "rcParams['figure.figsize'] = 12,4\n",
    "plt.scatter(x,y,color='palevioletred',s=30,marker='o',alpha=0.1)\n",
    "plt.title('Height vs Weight',fontsize=15)\n",
    "plt.show()\n"
   ]
  },
  {
   "cell_type": "markdown",
   "metadata": {},
   "source": [
    "# My Workspace On Numpy\n",
    "###### For my reference"
   ]
  },
  {
   "cell_type": "code",
   "execution_count": 122,
   "metadata": {},
   "outputs": [
    {
     "name": "stdout",
     "output_type": "stream",
     "text": [
      "[ 1  8 27 64]\n"
     ]
    }
   ],
   "source": [
    "# Defining 1D array\n",
    "my1DArray = np.array([1,8,27,64])\n",
    "print(my1DArray)"
   ]
  },
  {
   "cell_type": "code",
   "execution_count": 123,
   "metadata": {},
   "outputs": [
    {
     "name": "stdout",
     "output_type": "stream",
     "text": [
      "[[ 1  2  3  4]\n",
      " [ 2  4  9 16]\n",
      " [ 4  8 18 32]]\n"
     ]
    }
   ],
   "source": [
    "# Defining and printing 2D array\n",
    "my2DArray = np.array([[1, 2, 3, 4], [2, 4, 9, 16], [4, 8, 18, 32]])\n",
    "print(my2DArray)"
   ]
  },
  {
   "cell_type": "code",
   "execution_count": 124,
   "metadata": {},
   "outputs": [
    {
     "name": "stdout",
     "output_type": "stream",
     "text": [
      "[[[ 1  2  3  4]\n",
      "  [ 5  6  7  8]]\n",
      "\n",
      " [[ 1  2  3  4]\n",
      "  [ 9 10 11 12]]]\n"
     ]
    }
   ],
   "source": [
    "#Defining and printing 3D array\n",
    "my3Darray = np.array([[[ 1, 2 , 3 , 4],[ 5 , 6 , 7  ,8]], [[ 1,  2,  3,  4],[ 9, 10, 11, 12]]])\n",
    "print(my3Darray)"
   ]
  },
  {
   "cell_type": "code",
   "execution_count": 125,
   "metadata": {},
   "outputs": [
    {
     "name": "stdout",
     "output_type": "stream",
     "text": [
      "<memory at 0x7f99d3d7c9f0>\n"
     ]
    }
   ],
   "source": [
    "# Print out memory address\n",
    "print(my2DArray.data)\n"
   ]
  },
  {
   "cell_type": "code",
   "execution_count": 126,
   "metadata": {},
   "outputs": [
    {
     "name": "stdout",
     "output_type": "stream",
     "text": [
      "(3, 4)\n"
     ]
    }
   ],
   "source": [
    "# Print the shape of array\n",
    "print(my2DArray.shape)\n"
   ]
  },
  {
   "cell_type": "code",
   "execution_count": 127,
   "metadata": {},
   "outputs": [
    {
     "name": "stdout",
     "output_type": "stream",
     "text": [
      "int64\n"
     ]
    }
   ],
   "source": [
    "# Print out the data type of the array\n",
    "print(my2DArray.dtype)"
   ]
  },
  {
   "cell_type": "code",
   "execution_count": 128,
   "metadata": {},
   "outputs": [
    {
     "name": "stdout",
     "output_type": "stream",
     "text": [
      "(32, 8)\n"
     ]
    }
   ],
   "source": [
    "\"\"\"\n",
    "Print the stride of the array.\n",
    "So what is stride of array?  It is the number of locations in memory between \n",
    "beginnings of successive array elements, measured in bytes or in units of the\n",
    "size of the array's elements\n",
    "\"\"\"\n",
    "print(my2DArray.strides)"
   ]
  },
  {
   "cell_type": "code",
   "execution_count": 129,
   "metadata": {},
   "outputs": [
    {
     "name": "stdout",
     "output_type": "stream",
     "text": [
      "[[1. 1. 1. 1.]\n",
      " [1. 1. 1. 1.]\n",
      " [1. 1. 1. 1.]]\n"
     ]
    }
   ],
   "source": [
    "# Array of ones\n",
    "ones = np.ones((3,4))\n",
    "print(ones)"
   ]
  },
  {
   "cell_type": "code",
   "execution_count": 130,
   "metadata": {},
   "outputs": [
    {
     "name": "stdout",
     "output_type": "stream",
     "text": [
      "[[[0 0 0 0]\n",
      "  [0 0 0 0]\n",
      "  [0 0 0 0]]\n",
      "\n",
      " [[0 0 0 0]\n",
      "  [0 0 0 0]\n",
      "  [0 0 0 0]]]\n"
     ]
    }
   ],
   "source": [
    "# Array of zeros\n",
    "zeros = np.zeros((2,3,4),dtype=np.int16)\n",
    "print(zeros)"
   ]
  },
  {
   "cell_type": "code",
   "execution_count": 131,
   "metadata": {},
   "outputs": [
    {
     "data": {
      "text/plain": [
       "array([[0.4696533 , 0.55698494],\n",
       "       [0.54020315, 0.28827501]])"
      ]
     },
     "execution_count": 131,
     "metadata": {},
     "output_type": "execute_result"
    }
   ],
   "source": [
    "# Array with random values\n",
    "np.random.random((2,2))"
   ]
  },
  {
   "cell_type": "code",
   "execution_count": 132,
   "metadata": {},
   "outputs": [
    {
     "name": "stdout",
     "output_type": "stream",
     "text": [
      "[[ 20.  40.]\n",
      " [ 60.  80.]\n",
      " [100. 120.]]\n"
     ]
    }
   ],
   "source": [
    "# Empty array(The empty() function is used to create a new array of given shape and type, without \n",
    "# initializing entries.)\n",
    "emptyArray = np.empty((3,2))\n",
    "print(emptyArray)"
   ]
  },
  {
   "cell_type": "code",
   "execution_count": 133,
   "metadata": {},
   "outputs": [
    {
     "name": "stdout",
     "output_type": "stream",
     "text": [
      "[[7 7]\n",
      " [7 7]]\n"
     ]
    }
   ],
   "source": [
    "# Full array\n",
    "fullArray = np.full((2,2),7)\n",
    "print(fullArray)"
   ]
  },
  {
   "cell_type": "code",
   "execution_count": 134,
   "metadata": {},
   "outputs": [
    {
     "name": "stdout",
     "output_type": "stream",
     "text": [
      "[10 15 20]\n"
     ]
    }
   ],
   "source": [
    "# Array of evenly-spaced values\n",
    "evenSpacedArray = np.arange(10,25,5)\n",
    "print(evenSpacedArray)"
   ]
  },
  {
   "cell_type": "code",
   "execution_count": 137,
   "metadata": {},
   "outputs": [
    {
     "name": "stdout",
     "output_type": "stream",
     "text": [
      "[0.   0.25 0.5  0.75 1.   1.25 1.5  1.75 2.  ]\n"
     ]
    }
   ],
   "source": [
    "# Array of evenly-spaced values\n",
    "evenSpacedArray2 = np.linspace(0,2,9)\n",
    "print(evenSpacedArray2)"
   ]
  },
  {
   "cell_type": "code",
   "execution_count": 138,
   "metadata": {},
   "outputs": [],
   "source": [
    "# Save a numpy array into file\n",
    "x = np.arange(0.0,50.0,1.0)\n",
    "np.savetxt('data.out', x, delimiter=',')\n"
   ]
  },
  {
   "cell_type": "code",
   "execution_count": 139,
   "metadata": {},
   "outputs": [
    {
     "name": "stdout",
     "output_type": "stream",
     "text": [
      "[ 0.  1.  2.  3.  4.  5.  6.  7.  8.  9. 10. 11. 12. 13. 14. 15. 16. 17.\n",
      " 18. 19. 20. 21. 22. 23. 24. 25. 26. 27. 28. 29. 30. 31. 32. 33. 34. 35.\n",
      " 36. 37. 38. 39. 40. 41. 42. 43. 44. 45. 46. 47. 48. 49.]\n"
     ]
    }
   ],
   "source": [
    "# Loading numpy array from text\n",
    "z = np.loadtxt('data.out', unpack=True)\n",
    "print(z)"
   ]
  },
  {
   "cell_type": "code",
   "execution_count": 140,
   "metadata": {},
   "outputs": [
    {
     "name": "stdout",
     "output_type": "stream",
     "text": [
      "[ 1.  2.  3.  4.  5.  6.  7.  8.  9. 10. 11. 12. 13. 14. 15. 16. 17. 18.\n",
      " 19. 20. 21. 22. 23. 24. 25. 26. 27. 28. 29. 30. 31. 32. 33. 34. 35. 36.\n",
      " 37. 38. 39. 40. 41. 42. 43. 44. 45. 46. 47. 48. 49.]\n"
     ]
    }
   ],
   "source": [
    "# Loading numpy array using genfromtxt method\n",
    "my_array2 = np.genfromtxt('data.out',\n",
    "                      skip_header=1,\n",
    "                      filling_values=-999)\n",
    "print(my_array2)\n"
   ]
  },
  {
   "cell_type": "markdown",
   "metadata": {},
   "source": [
    "### Inspecting numpy arrays"
   ]
  },
  {
   "cell_type": "code",
   "execution_count": 141,
   "metadata": {},
   "outputs": [
    {
     "name": "stdout",
     "output_type": "stream",
     "text": [
      "2\n"
     ]
    }
   ],
   "source": [
    "# Print the number of `my2DArray`'s dimensions\n",
    "print(my2DArray.ndim)"
   ]
  },
  {
   "cell_type": "code",
   "execution_count": 142,
   "metadata": {},
   "outputs": [
    {
     "name": "stdout",
     "output_type": "stream",
     "text": [
      "12\n"
     ]
    }
   ],
   "source": [
    "# Print the number of `my2DArray`'s elements\n",
    "print(my2DArray.size)"
   ]
  },
  {
   "cell_type": "code",
   "execution_count": 143,
   "metadata": {},
   "outputs": [
    {
     "name": "stdout",
     "output_type": "stream",
     "text": [
      "  C_CONTIGUOUS : True\n",
      "  F_CONTIGUOUS : False\n",
      "  OWNDATA : True\n",
      "  WRITEABLE : True\n",
      "  ALIGNED : True\n",
      "  WRITEBACKIFCOPY : False\n",
      "  UPDATEIFCOPY : False\n",
      "\n"
     ]
    }
   ],
   "source": [
    "# Print information about `my2DArray`'s memory layout\n",
    "print(my2DArray.flags)"
   ]
  },
  {
   "cell_type": "code",
   "execution_count": 144,
   "metadata": {},
   "outputs": [
    {
     "name": "stdout",
     "output_type": "stream",
     "text": [
      "8\n"
     ]
    }
   ],
   "source": [
    "# Print the length of one array element in bytes\n",
    "print(my2DArray.itemsize)\n"
   ]
  },
  {
   "cell_type": "code",
   "execution_count": 145,
   "metadata": {},
   "outputs": [
    {
     "name": "stdout",
     "output_type": "stream",
     "text": [
      "96\n"
     ]
    }
   ],
   "source": [
    "# Print the total consumed bytes by `my2DArray`'s elements\n",
    "print(my2DArray.nbytes)\n"
   ]
  },
  {
   "cell_type": "markdown",
   "metadata": {},
   "source": [
    "###  Broadcasting in NumPy\n",
    "Broadcasting is a mechanism that permits `NumPy` to operate with arrays of different shapes when performing arithmetic operations."
   ]
  },
  {
   "cell_type": "code",
   "execution_count": 148,
   "metadata": {},
   "outputs": [
    {
     "name": "stdout",
     "output_type": "stream",
     "text": [
      "[[1. 1. 1. 1. 1. 1. 1. 1.]\n",
      " [1. 1. 1. 1. 1. 1. 1. 1.]\n",
      " [1. 1. 1. 1. 1. 1. 1. 1.]\n",
      " [1. 1. 1. 1. 1. 1. 1. 1.]\n",
      " [1. 1. 1. 1. 1. 1. 1. 1.]\n",
      " [1. 1. 1. 1. 1. 1. 1. 1.]]\n"
     ]
    }
   ],
   "source": [
    "# Rule 1: Two dimensions are operatable if they are equal\n",
    "# Create an array of two dimension\n",
    "A =np.ones((6, 8))\n",
    "print(A)"
   ]
  },
  {
   "cell_type": "code",
   "execution_count": 149,
   "metadata": {},
   "outputs": [
    {
     "name": "stdout",
     "output_type": "stream",
     "text": [
      "(6, 8)\n"
     ]
    }
   ],
   "source": [
    "# Shape of A\n",
    "print(A.shape)"
   ]
  },
  {
   "cell_type": "code",
   "execution_count": 151,
   "metadata": {},
   "outputs": [
    {
     "name": "stdout",
     "output_type": "stream",
     "text": [
      "[[0.92301219 0.98255511 0.1335502  0.63374757 0.09664004 0.04043333\n",
      "  0.95070538 0.78280087]\n",
      " [0.68831033 0.72591268 0.01308846 0.12186421 0.66616508 0.3629038\n",
      "  0.42340785 0.76853113]\n",
      " [0.87039717 0.32378119 0.79994612 0.54734375 0.34785455 0.4999201\n",
      "  0.79814496 0.43330294]\n",
      " [0.61070615 0.45630889 0.04209579 0.05284868 0.76352732 0.33396475\n",
      "  0.16628732 0.26030872]\n",
      " [0.82052901 0.92659326 0.45321864 0.02469154 0.99477453 0.82799434\n",
      "  0.63197912 0.74517901]\n",
      " [0.89760216 0.54989736 0.76368052 0.17444574 0.59694803 0.30942083\n",
      "  0.78113756 0.13847433]]\n"
     ]
    }
   ],
   "source": [
    "\n",
    "# Create another array\n",
    "B = np.random.random((6,8))\n",
    "print(B)"
   ]
  },
  {
   "cell_type": "code",
   "execution_count": 152,
   "metadata": {},
   "outputs": [
    {
     "name": "stdout",
     "output_type": "stream",
     "text": [
      "(6, 8)\n"
     ]
    }
   ],
   "source": [
    "# Shape of B\n",
    "print(B.shape)"
   ]
  },
  {
   "cell_type": "code",
   "execution_count": 153,
   "metadata": {},
   "outputs": [
    {
     "name": "stdout",
     "output_type": "stream",
     "text": [
      "[[1.92301219 1.98255511 1.1335502  1.63374757 1.09664004 1.04043333\n",
      "  1.95070538 1.78280087]\n",
      " [1.68831033 1.72591268 1.01308846 1.12186421 1.66616508 1.3629038\n",
      "  1.42340785 1.76853113]\n",
      " [1.87039717 1.32378119 1.79994612 1.54734375 1.34785455 1.4999201\n",
      "  1.79814496 1.43330294]\n",
      " [1.61070615 1.45630889 1.04209579 1.05284868 1.76352732 1.33396475\n",
      "  1.16628732 1.26030872]\n",
      " [1.82052901 1.92659326 1.45321864 1.02469154 1.99477453 1.82799434\n",
      "  1.63197912 1.74517901]\n",
      " [1.89760216 1.54989736 1.76368052 1.17444574 1.59694803 1.30942083\n",
      "  1.78113756 1.13847433]]\n"
     ]
    }
   ],
   "source": [
    "# Sum of A and B, here the shape of both the matrix is same.\n",
    "print(A + B)"
   ]
  },
  {
   "cell_type": "code",
   "execution_count": 154,
   "metadata": {},
   "outputs": [
    {
     "name": "stdout",
     "output_type": "stream",
     "text": [
      "[[1. 1. 1. 1.]\n",
      " [1. 1. 1. 1.]\n",
      " [1. 1. 1. 1.]]\n"
     ]
    }
   ],
   "source": [
    "# Rule 2: Two dimensions are also comptable when one of them is 1\n",
    "# Initialize `x`\n",
    "x = np.ones((3,4))\n",
    "print(x)"
   ]
  },
  {
   "cell_type": "code",
   "execution_count": 155,
   "metadata": {},
   "outputs": [
    {
     "name": "stdout",
     "output_type": "stream",
     "text": [
      "(3, 4)\n"
     ]
    }
   ],
   "source": [
    "# Check shape of `x`\n",
    "print(x.shape)"
   ]
  },
  {
   "cell_type": "code",
   "execution_count": 156,
   "metadata": {},
   "outputs": [
    {
     "name": "stdout",
     "output_type": "stream",
     "text": [
      "[0 1 2 3]\n"
     ]
    }
   ],
   "source": [
    "# Initialize `y`\n",
    "y = np.arange(4)\n",
    "print(y)"
   ]
  },
  {
   "cell_type": "code",
   "execution_count": 157,
   "metadata": {},
   "outputs": [
    {
     "name": "stdout",
     "output_type": "stream",
     "text": [
      "(4,)\n"
     ]
    }
   ],
   "source": [
    "# Check shape of `y`\n",
    "print(y.shape)"
   ]
  },
  {
   "cell_type": "code",
   "execution_count": 158,
   "metadata": {},
   "outputs": [
    {
     "data": {
      "text/plain": [
       "array([[ 1.,  0., -1., -2.],\n",
       "       [ 1.,  0., -1., -2.],\n",
       "       [ 1.,  0., -1., -2.]])"
      ]
     },
     "execution_count": 158,
     "metadata": {},
     "output_type": "execute_result"
    }
   ],
   "source": [
    "# Subtract `x` and `y`\n",
    "x - y"
   ]
  },
  {
   "cell_type": "code",
   "execution_count": 159,
   "metadata": {},
   "outputs": [
    {
     "name": "stdout",
     "output_type": "stream",
     "text": [
      "[[[1.99009303 1.26353579 1.33487238 1.81373543 1.3054921  1.0395167\n",
      "   1.76071269 1.29666119]\n",
      "  [1.99009303 1.26353579 1.33487238 1.81373543 1.3054921  1.0395167\n",
      "   1.76071269 1.29666119]\n",
      "  [1.99009303 1.26353579 1.33487238 1.81373543 1.3054921  1.0395167\n",
      "   1.76071269 1.29666119]\n",
      "  [1.99009303 1.26353579 1.33487238 1.81373543 1.3054921  1.0395167\n",
      "   1.76071269 1.29666119]\n",
      "  [1.99009303 1.26353579 1.33487238 1.81373543 1.3054921  1.0395167\n",
      "   1.76071269 1.29666119]\n",
      "  [1.99009303 1.26353579 1.33487238 1.81373543 1.3054921  1.0395167\n",
      "   1.76071269 1.29666119]]\n",
      "\n",
      " [[1.618312   1.94092363 1.41115001 1.82157772 1.58031951 1.91054876\n",
      "   1.1334008  1.47688254]\n",
      "  [1.618312   1.94092363 1.41115001 1.82157772 1.58031951 1.91054876\n",
      "   1.1334008  1.47688254]\n",
      "  [1.618312   1.94092363 1.41115001 1.82157772 1.58031951 1.91054876\n",
      "   1.1334008  1.47688254]\n",
      "  [1.618312   1.94092363 1.41115001 1.82157772 1.58031951 1.91054876\n",
      "   1.1334008  1.47688254]\n",
      "  [1.618312   1.94092363 1.41115001 1.82157772 1.58031951 1.91054876\n",
      "   1.1334008  1.47688254]\n",
      "  [1.618312   1.94092363 1.41115001 1.82157772 1.58031951 1.91054876\n",
      "   1.1334008  1.47688254]]\n",
      "\n",
      " [[1.1313237  1.56617552 1.03998038 1.05180306 1.88204493 1.0444108\n",
      "   1.19439869 1.3702145 ]\n",
      "  [1.1313237  1.56617552 1.03998038 1.05180306 1.88204493 1.0444108\n",
      "   1.19439869 1.3702145 ]\n",
      "  [1.1313237  1.56617552 1.03998038 1.05180306 1.88204493 1.0444108\n",
      "   1.19439869 1.3702145 ]\n",
      "  [1.1313237  1.56617552 1.03998038 1.05180306 1.88204493 1.0444108\n",
      "   1.19439869 1.3702145 ]\n",
      "  [1.1313237  1.56617552 1.03998038 1.05180306 1.88204493 1.0444108\n",
      "   1.19439869 1.3702145 ]\n",
      "  [1.1313237  1.56617552 1.03998038 1.05180306 1.88204493 1.0444108\n",
      "   1.19439869 1.3702145 ]]\n",
      "\n",
      " [[1.28547579 1.87472938 1.97247262 1.48249257 1.23981883 1.67196974\n",
      "   1.41498904 1.61833574]\n",
      "  [1.28547579 1.87472938 1.97247262 1.48249257 1.23981883 1.67196974\n",
      "   1.41498904 1.61833574]\n",
      "  [1.28547579 1.87472938 1.97247262 1.48249257 1.23981883 1.67196974\n",
      "   1.41498904 1.61833574]\n",
      "  [1.28547579 1.87472938 1.97247262 1.48249257 1.23981883 1.67196974\n",
      "   1.41498904 1.61833574]\n",
      "  [1.28547579 1.87472938 1.97247262 1.48249257 1.23981883 1.67196974\n",
      "   1.41498904 1.61833574]\n",
      "  [1.28547579 1.87472938 1.97247262 1.48249257 1.23981883 1.67196974\n",
      "   1.41498904 1.61833574]]\n",
      "\n",
      " [[1.37038383 1.20396646 1.93712221 1.19454423 1.73270675 1.85458253\n",
      "   1.94255244 1.83508015]\n",
      "  [1.37038383 1.20396646 1.93712221 1.19454423 1.73270675 1.85458253\n",
      "   1.94255244 1.83508015]\n",
      "  [1.37038383 1.20396646 1.93712221 1.19454423 1.73270675 1.85458253\n",
      "   1.94255244 1.83508015]\n",
      "  [1.37038383 1.20396646 1.93712221 1.19454423 1.73270675 1.85458253\n",
      "   1.94255244 1.83508015]\n",
      "  [1.37038383 1.20396646 1.93712221 1.19454423 1.73270675 1.85458253\n",
      "   1.94255244 1.83508015]\n",
      "  [1.37038383 1.20396646 1.93712221 1.19454423 1.73270675 1.85458253\n",
      "   1.94255244 1.83508015]]\n",
      "\n",
      " [[1.20095665 1.07020998 1.34297072 1.25531891 1.39854352 1.46381374\n",
      "   1.401046   1.97362861]\n",
      "  [1.20095665 1.07020998 1.34297072 1.25531891 1.39854352 1.46381374\n",
      "   1.401046   1.97362861]\n",
      "  [1.20095665 1.07020998 1.34297072 1.25531891 1.39854352 1.46381374\n",
      "   1.401046   1.97362861]\n",
      "  [1.20095665 1.07020998 1.34297072 1.25531891 1.39854352 1.46381374\n",
      "   1.401046   1.97362861]\n",
      "  [1.20095665 1.07020998 1.34297072 1.25531891 1.39854352 1.46381374\n",
      "   1.401046   1.97362861]\n",
      "  [1.20095665 1.07020998 1.34297072 1.25531891 1.39854352 1.46381374\n",
      "   1.401046   1.97362861]]\n",
      "\n",
      " [[1.36549083 1.05703972 1.59610983 1.87641409 1.87538177 1.514069\n",
      "   1.84843492 1.48934493]\n",
      "  [1.36549083 1.05703972 1.59610983 1.87641409 1.87538177 1.514069\n",
      "   1.84843492 1.48934493]\n",
      "  [1.36549083 1.05703972 1.59610983 1.87641409 1.87538177 1.514069\n",
      "   1.84843492 1.48934493]\n",
      "  [1.36549083 1.05703972 1.59610983 1.87641409 1.87538177 1.514069\n",
      "   1.84843492 1.48934493]\n",
      "  [1.36549083 1.05703972 1.59610983 1.87641409 1.87538177 1.514069\n",
      "   1.84843492 1.48934493]\n",
      "  [1.36549083 1.05703972 1.59610983 1.87641409 1.87538177 1.514069\n",
      "   1.84843492 1.48934493]]\n",
      "\n",
      " [[1.44506897 1.31105558 1.62770849 1.21562646 1.54495908 1.97545358\n",
      "   1.02523789 1.1009378 ]\n",
      "  [1.44506897 1.31105558 1.62770849 1.21562646 1.54495908 1.97545358\n",
      "   1.02523789 1.1009378 ]\n",
      "  [1.44506897 1.31105558 1.62770849 1.21562646 1.54495908 1.97545358\n",
      "   1.02523789 1.1009378 ]\n",
      "  [1.44506897 1.31105558 1.62770849 1.21562646 1.54495908 1.97545358\n",
      "   1.02523789 1.1009378 ]\n",
      "  [1.44506897 1.31105558 1.62770849 1.21562646 1.54495908 1.97545358\n",
      "   1.02523789 1.1009378 ]\n",
      "  [1.44506897 1.31105558 1.62770849 1.21562646 1.54495908 1.97545358\n",
      "   1.02523789 1.1009378 ]]\n",
      "\n",
      " [[1.32602515 1.41196244 1.89249348 1.62324349 1.26034116 1.01077904\n",
      "   1.33906552 1.08663193]\n",
      "  [1.32602515 1.41196244 1.89249348 1.62324349 1.26034116 1.01077904\n",
      "   1.33906552 1.08663193]\n",
      "  [1.32602515 1.41196244 1.89249348 1.62324349 1.26034116 1.01077904\n",
      "   1.33906552 1.08663193]\n",
      "  [1.32602515 1.41196244 1.89249348 1.62324349 1.26034116 1.01077904\n",
      "   1.33906552 1.08663193]\n",
      "  [1.32602515 1.41196244 1.89249348 1.62324349 1.26034116 1.01077904\n",
      "   1.33906552 1.08663193]\n",
      "  [1.32602515 1.41196244 1.89249348 1.62324349 1.26034116 1.01077904\n",
      "   1.33906552 1.08663193]]\n",
      "\n",
      " [[1.79195154 1.5320588  1.33541736 1.24015952 1.54203779 1.01017295\n",
      "   1.44503428 1.65691994]\n",
      "  [1.79195154 1.5320588  1.33541736 1.24015952 1.54203779 1.01017295\n",
      "   1.44503428 1.65691994]\n",
      "  [1.79195154 1.5320588  1.33541736 1.24015952 1.54203779 1.01017295\n",
      "   1.44503428 1.65691994]\n",
      "  [1.79195154 1.5320588  1.33541736 1.24015952 1.54203779 1.01017295\n",
      "   1.44503428 1.65691994]\n",
      "  [1.79195154 1.5320588  1.33541736 1.24015952 1.54203779 1.01017295\n",
      "   1.44503428 1.65691994]\n",
      "  [1.79195154 1.5320588  1.33541736 1.24015952 1.54203779 1.01017295\n",
      "   1.44503428 1.65691994]]]\n"
     ]
    }
   ],
   "source": [
    "# Rule 3: Arrays can be broadcasted together if they are compatible in all dimensions\n",
    "\n",
    "x = np.ones((6,8))\n",
    "y = np.random.random((10, 1, 8))\n",
    "print(x + y)"
   ]
  },
  {
   "cell_type": "code",
   "execution_count": 161,
   "metadata": {},
   "outputs": [],
   "source": [
    "\"\"\"# Numpy and mathematics at work\"\"\"\n",
    "\n",
    "# Basica operations (+, -, *, /, %)\n",
    "x = np.array([[1, 2, 3], [2, 3, 4]])\n",
    "y = np.array([[1, 4, 9], [2, 3, -2]])"
   ]
  },
  {
   "cell_type": "code",
   "execution_count": 162,
   "metadata": {},
   "outputs": [
    {
     "name": "stdout",
     "output_type": "stream",
     "text": [
      "[[ 2  6 12]\n",
      " [ 4  6  2]]\n"
     ]
    }
   ],
   "source": [
    "# Add two array\n",
    "add = np.add(x, y)\n",
    "print(add)"
   ]
  },
  {
   "cell_type": "code",
   "execution_count": 163,
   "metadata": {},
   "outputs": [
    {
     "name": "stdout",
     "output_type": "stream",
     "text": [
      "[[ 0 -2 -6]\n",
      " [ 0  0  6]]\n"
     ]
    }
   ],
   "source": [
    "# Subtract two array\n",
    "sub = np.subtract(x, y)\n",
    "print(sub)"
   ]
  },
  {
   "cell_type": "code",
   "execution_count": 164,
   "metadata": {},
   "outputs": [
    {
     "name": "stdout",
     "output_type": "stream",
     "text": [
      "[[ 1  8 27]\n",
      " [ 4  9 -8]]\n"
     ]
    }
   ],
   "source": [
    "# Multipley two array\n",
    "mul = np.multiply(x, y)\n",
    "print(mul)"
   ]
  },
  {
   "cell_type": "code",
   "execution_count": 165,
   "metadata": {},
   "outputs": [
    {
     "name": "stdout",
     "output_type": "stream",
     "text": [
      "[[ 1.          0.5         0.33333333]\n",
      " [ 1.          1.         -2.        ]]\n"
     ]
    }
   ],
   "source": [
    "# Divide x, y\n",
    "div = np.divide(x,y)\n",
    "print(div)"
   ]
  },
  {
   "cell_type": "code",
   "execution_count": 166,
   "metadata": {},
   "outputs": [
    {
     "name": "stdout",
     "output_type": "stream",
     "text": [
      "[[0 2 3]\n",
      " [0 0 0]]\n"
     ]
    }
   ],
   "source": [
    "# Calculated the remainder of x and y\n",
    "rem = np.remainder(x, y)\n",
    "print(rem)"
   ]
  },
  {
   "cell_type": "code",
   "execution_count": 167,
   "metadata": {},
   "outputs": [],
   "source": [
    "\"\"\"# Subset, Slice, And Index Arrays\"\"\"\n",
    "\n",
    "x = np.array([10, 20, 30, 40, 50])"
   ]
  },
  {
   "cell_type": "code",
   "execution_count": 168,
   "metadata": {},
   "outputs": [
    {
     "name": "stdout",
     "output_type": "stream",
     "text": [
      "[10 20]\n"
     ]
    }
   ],
   "source": [
    "# Select items at index 0 and 1\n",
    "print(x[0:2])"
   ]
  },
  {
   "cell_type": "code",
   "execution_count": 358,
   "metadata": {},
   "outputs": [
    {
     "name": "stdout",
     "output_type": "stream",
     "text": [
      "[[ 1  2  3  4]\n",
      " [ 9 10 11 12]]\n"
     ]
    }
   ],
   "source": [
    "# Select item at row 0 and 1 and column 1 from 2D array\n",
    "y = np.array([[ 1,  2,  3,  4], [ 9, 10, 11 ,12]])\n",
    "print(y)"
   ]
  },
  {
   "cell_type": "code",
   "execution_count": 359,
   "metadata": {},
   "outputs": [
    {
     "name": "stdout",
     "output_type": "stream",
     "text": [
      "[ 2 10]\n"
     ]
    }
   ],
   "source": [
    "print(y[0:2, 1])"
   ]
  },
  {
   "cell_type": "code",
   "execution_count": 356,
   "metadata": {},
   "outputs": [
    {
     "name": "stdout",
     "output_type": "stream",
     "text": [
      "[ 39.68512397  78.27185729 100.29779446 ...  50.86256567  71.81884728\n",
      "  61.88850645]\n"
     ]
    }
   ],
   "source": [
    "# Specifying conditions\n",
    "biggerThan2 = (y > 2)\n",
    "print(y[biggerThan2])"
   ]
  },
  {
   "cell_type": "code",
   "execution_count": null,
   "metadata": {},
   "outputs": [],
   "source": []
  },
  {
   "cell_type": "code",
   "execution_count": null,
   "metadata": {},
   "outputs": [],
   "source": []
  },
  {
   "cell_type": "code",
   "execution_count": null,
   "metadata": {},
   "outputs": [],
   "source": []
  },
  {
   "cell_type": "markdown",
   "metadata": {
    "colab_type": "text",
    "id": "uwAr9EqbpZwg"
   },
   "source": [
    "\n",
    "\n",
    "---\n",
    "\n",
    "\n",
    "\n",
    "---\n",
    "\n",
    "\n",
    "\n",
    "> > > > > > > > > © 2019 Institute of Data\n",
    "\n",
    "\n",
    "---\n",
    "\n",
    "\n",
    "\n",
    "---\n",
    "\n",
    "\n",
    "\n"
   ]
  }
 ],
 "metadata": {
  "colab": {
   "collapsed_sections": [],
   "name": "Lab 1.2.1 Numpy Lab.ipynb",
   "provenance": [
    {
     "file_id": "https://github.com/ikfaisal/dsia/blob/master/Numpy01.ipynb",
     "timestamp": 1552620043198
    }
   ]
  },
  "kernelspec": {
   "display_name": "Python 3",
   "language": "python",
   "name": "python3"
  },
  "language_info": {
   "codemirror_mode": {
    "name": "ipython",
    "version": 3
   },
   "file_extension": ".py",
   "mimetype": "text/x-python",
   "name": "python",
   "nbconvert_exporter": "python",
   "pygments_lexer": "ipython3",
   "version": "3.8.3"
  }
 },
 "nbformat": 4,
 "nbformat_minor": 1
}
