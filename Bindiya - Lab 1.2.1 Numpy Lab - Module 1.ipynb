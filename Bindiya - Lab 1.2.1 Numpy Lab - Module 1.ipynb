{
 "cells": [
  {
   "cell_type": "markdown",
   "metadata": {
    "colab_type": "text",
    "id": "iA6gMzOAsIgo"
   },
   "source": [
    "<div>\n",
    "<img src=https://www.institutedata.com/wp-content/uploads/2019/10/iod_h_tp_primary_c.svg width=\"300\">\n",
    "</div>"
   ]
  },
  {
   "cell_type": "markdown",
   "metadata": {
    "colab_type": "text",
    "id": "6v4X9aDpRxRn"
   },
   "source": [
    "# Numpy Exploration"
   ]
  },
  {
   "cell_type": "code",
   "execution_count": 23,
   "metadata": {
    "colab": {},
    "colab_type": "code",
    "id": "hefHy7RERxRp"
   },
   "outputs": [],
   "source": [
    "import numpy as np\n",
    "import matplotlib.pyplot as plt\n",
    "\n",
    "import seaborn as sns\n",
    "\n",
    "# get matplot to show charts inline\n",
    "%matplotlib inline"
   ]
  },
  {
   "cell_type": "markdown",
   "metadata": {},
   "source": [
    "## column_stack() function is used to stack 1-D arrays as columns into a 2-D array."
   ]
  },
  {
   "cell_type": "code",
   "execution_count": 47,
   "metadata": {
    "colab": {},
    "colab_type": "code",
    "id": "hW87a--DRxRu"
   },
   "outputs": [],
   "source": [
    "height= np.round(np.random.normal(1.75, 0.20, 7000), 2)\n",
    "weight= np.round(np.random.normal(60.32, 15, 7000), 2)\n",
    "population=np.column_stack((height, weight))\n"
   ]
  },
  {
   "cell_type": "code",
   "execution_count": 48,
   "metadata": {},
   "outputs": [
    {
     "data": {
      "text/plain": [
       "array([1.79, 1.71, 1.5 , ..., 1.96, 1.94, 2.15])"
      ]
     },
     "execution_count": 48,
     "metadata": {},
     "output_type": "execute_result"
    }
   ],
   "source": [
    "height"
   ]
  },
  {
   "cell_type": "code",
   "execution_count": 49,
   "metadata": {},
   "outputs": [
    {
     "data": {
      "text/plain": [
       "array([51.87, 56.72, 54.17, ..., 62.4 , 45.64, 58.29])"
      ]
     },
     "execution_count": 49,
     "metadata": {},
     "output_type": "execute_result"
    }
   ],
   "source": [
    "weight"
   ]
  },
  {
   "cell_type": "code",
   "execution_count": 50,
   "metadata": {},
   "outputs": [
    {
     "data": {
      "text/plain": [
       "array([[ 1.79, 51.87],\n",
       "       [ 1.71, 56.72],\n",
       "       [ 1.5 , 54.17],\n",
       "       ...,\n",
       "       [ 1.96, 62.4 ],\n",
       "       [ 1.94, 45.64],\n",
       "       [ 2.15, 58.29]])"
      ]
     },
     "execution_count": 50,
     "metadata": {},
     "output_type": "execute_result"
    }
   ],
   "source": [
    "population"
   ]
  },
  {
   "cell_type": "markdown",
   "metadata": {},
   "source": [
    "# The NumPy random normal function enables you to create a NumPy array that contains normally distributed data.\n",
    "A normal distribution, sometimes called the bell curve, is a \n",
    "distribution that occurs naturally in many situations. The bell curve is symmetrical. Half of the data will fall \n",
    "to the left of the mean; half will fall to the right.\n",
    "# numpy.random.normal(loc=0.0, scale=1.0, size=None)¶\n"
   ]
  },
  {
   "cell_type": "code",
   "execution_count": 51,
   "metadata": {},
   "outputs": [
    {
     "data": {
      "text/plain": [
       "array([110.81651917,  96.4741673 ,  85.39764661, 131.00213879,\n",
       "        89.8066334 ,  91.74906995, 122.98595058,  65.79165013,\n",
       "       140.74681599,  90.67100899, 100.40809707,  85.96170287,\n",
       "        81.20872071, 154.08679063,  89.75986211,  93.31772824,\n",
       "       115.67524836, 109.34034141,  74.51829906, 102.69889202,\n",
       "        88.54399948, 125.37879823,  86.42502991,  79.04845054,\n",
       "        73.13418929,  68.64538993, 111.85202482,  74.34234095,\n",
       "        75.61276528, 115.6958205 ,  75.07724764,  69.8064746 ,\n",
       "       131.68234324, 120.82467083, 125.51078135, 131.58742264,\n",
       "       124.38952324,  94.54979985, 101.59980936,  79.17682061,\n",
       "       142.91937418,  99.15750712, 107.39772884,  47.43182125,\n",
       "        76.36924271,  79.76391308, 111.97296054, 109.79174788,\n",
       "       102.16703805,  63.92616199, 127.68991647, 133.39622788,\n",
       "       124.14149812,  84.89270356, 114.34455326, 120.47930386,\n",
       "       122.40554459, 125.23691573, 106.2783236 , 108.73862463,\n",
       "       114.7707866 , 127.99943797, 104.32928947, 125.32985236,\n",
       "       123.30458731,  98.55125197, 117.50173312,  67.33696698,\n",
       "       101.67004921,  97.26335545,  63.84003494,  64.99761905,\n",
       "        76.69352827,  96.95443537,  88.82464517, 130.45049639,\n",
       "       102.66904223,  93.59262027,  82.48376414, 103.19307444,\n",
       "       105.96459173, 130.24793448,  79.32517222, 100.17477175,\n",
       "        96.30721101,  98.92817616,  58.97779021, 100.19654489,\n",
       "        77.21746388, 105.9730269 ,  78.28013526, 100.36118047,\n",
       "        48.63464114, 111.80126855, 115.28969751, 103.79474398,\n",
       "        55.57127687, 129.30734974,  95.97547431, 115.30054221,\n",
       "        89.98944266,  83.23485492, 129.67251948,  77.48933498,\n",
       "       108.29388137, 126.50216153,  97.76581876,  82.63579829,\n",
       "       109.23022998, 125.01693966,  80.80696912,  89.01107109,\n",
       "        91.81105401,  97.53163579,  58.64122074,  75.00664703,\n",
       "       131.56895273, 105.7014907 , 108.54027091, 103.58605295,\n",
       "        59.4493357 , 103.01147487, 104.94720098,  98.5010567 ,\n",
       "        92.50760363,  54.19494624,  77.98064401, 135.02056031,\n",
       "       102.99679723,  88.98330902,  88.29128021, 118.35193377,\n",
       "        60.51810044,  65.90903098,  60.1558573 ,  90.76173344,\n",
       "       102.60267547, 103.03821381,  96.43186129,  73.44558046,\n",
       "       134.83687882, 128.20688613, 143.23873644,  83.26164554,\n",
       "        71.1943996 ,  92.63650684,  97.35041445, 163.19961068,\n",
       "        58.04490381, 118.69005792,  89.02376989,  80.44312835,\n",
       "        83.99228337,  95.02839156, 120.62506389,  63.42401348,\n",
       "        88.59265975,  55.84479883, 160.69347472,  97.95490096,\n",
       "       118.18497782, 103.56735506, 129.64868976,  67.52740855,\n",
       "        74.37538125,  74.22766394, 113.79063576, 109.64913233,\n",
       "       111.41933125, 116.41271328,  84.0512147 , 141.84930124,\n",
       "        93.49897664,  85.62438822,  87.87323426, 110.29785182,\n",
       "        64.80895639, 108.49420097, 123.44792707,  78.6786358 ,\n",
       "        66.91546227,  85.28174381,  81.6596135 ,  90.67905769,\n",
       "       107.42703169, 128.20620233,  95.88803864, 135.83403478,\n",
       "        66.25650231,  30.53105905,  88.21197286, 148.17183058,\n",
       "       109.86387878,  77.04255409, 116.11145271, 115.93972872,\n",
       "       144.95396181, 103.62880018, 112.019371  ,  86.64588645,\n",
       "        79.72926222, 106.41077098,  47.87798504, 114.07071406,\n",
       "        96.58799373,  79.55633431, 107.24177666, 126.38423287,\n",
       "       123.59206947,  90.12053984, 107.09448748,  87.1230721 ,\n",
       "        72.90226705,  52.60371444,  82.99519924,  69.37694806,\n",
       "        90.17430125,  57.19009931, 131.57051436,  80.99306322,\n",
       "        88.65750903, 106.09919655,  80.06994463, 128.47211106,\n",
       "        73.16950335, 115.3200847 , 129.52386237, 128.03560602,\n",
       "        72.65394537,  88.5859509 ,  90.25266847, 152.37135227,\n",
       "        93.0423409 , 134.04582815, 144.81452968, 102.72561065,\n",
       "       106.77874351,  95.88985834,  80.69698722, 155.00656356,\n",
       "       116.03241934, 147.51773038,  99.82399509, 110.24073467,\n",
       "        80.59144037, 102.5484798 , 107.06294234,  96.7909206 ,\n",
       "        98.06053797,  56.4245194 , 117.71343183,  81.77710344,\n",
       "        74.31833464,  71.09460027, 107.7058446 , 115.93910168,\n",
       "        91.55562272,  60.46035328,  93.09742049, 110.34206871,\n",
       "       123.37397593,  96.29926659, 138.04584758,  83.16064174,\n",
       "       101.33676358,  61.74606764,  87.51216357, 106.96832251,\n",
       "        87.18341494, 115.31578606, 109.29147883, 107.06831866,\n",
       "        80.57330844,  73.85591763,  53.18678926,  90.08412637,\n",
       "       125.16822862,  54.64375503, 103.21911725,  95.71822919,\n",
       "       133.52297068, 127.91085841,  73.03081979,  77.78679556,\n",
       "       120.71904351, 119.85939754, 113.25425539,  94.21363494,\n",
       "       113.72660266,  79.46650625, 101.93180945, 107.01822505,\n",
       "       140.45575098,  89.61762074, 102.86840674, 117.06944064,\n",
       "        67.01164203,  55.23201422,  59.87522703,  70.98386063,\n",
       "        93.0889786 , 123.03082323, 125.9772828 ,  91.45976359,\n",
       "       125.57007088,  87.84957207,  49.49751439, 142.13008759,\n",
       "        88.76253514, 103.3332648 , 123.90727236,  89.12098636,\n",
       "        96.10580165, 111.22904422, 107.06970656, 136.46128278,\n",
       "        95.4028429 ,  64.97085312,  58.80058148, 111.86872074,\n",
       "        82.71763073, 147.87464495, 111.0082487 , 114.91069197,\n",
       "       121.28440696,  81.21470521,  56.22150768,  86.49013696,\n",
       "        66.02553263, 121.34693915,  98.72930973,  55.63291737,\n",
       "        94.8028773 , 117.46120401,  92.7035289 ,  84.91707066,\n",
       "        89.10551771, 131.66634442, 100.65127509,  88.68279301,\n",
       "        73.0449241 ,  96.67934465, 116.59505016, 123.30305122,\n",
       "       114.16203998,  81.42078871, 114.80182569, 105.91248229,\n",
       "        64.20071238, 106.97613268,  85.68685076,  20.1858383 ,\n",
       "       104.95852384,  98.00581718,  37.3866004 ,  62.4431741 ,\n",
       "        81.34480209,  33.21601612,  97.86514309, 106.62198635,\n",
       "        94.62245085,  94.39735238, 135.45261859,  53.30591956,\n",
       "       115.69729974, 104.69262364,  96.97824908,  88.54773751,\n",
       "        98.73556187,  79.5122957 ,  71.99697782,  72.72696413,\n",
       "       121.25410148,  52.2032623 , 104.72312125, 103.40180711,\n",
       "       138.4811358 , 115.23080442, 104.94572954,  82.37362596,\n",
       "        73.55507086, 167.39765747,  93.09341153, 119.49889879,\n",
       "        42.55222298, 145.58269899,  79.31861454,  97.96152242,\n",
       "        96.66581562,  96.51298235,  90.89259029,  44.74966603,\n",
       "        78.15096111,  69.44911453, 140.37310319,  84.53913043,\n",
       "        69.9858954 ,  85.49061623, 109.58251262, 110.13106256,\n",
       "        70.61377813, 121.38418333,  59.21530075,  94.93992799,\n",
       "       117.54643522, 106.85366628, 109.96951684, 121.26379179,\n",
       "       120.1155151 , 131.89835157,  37.30441148, 125.83820787,\n",
       "        90.6944264 ,  76.03159415, 114.35144032, 145.69705704,\n",
       "        92.32798701, 136.93055668, 126.03331606, 139.73647148,\n",
       "       115.25945324,  86.19945059,  96.24303732,  82.09403053,\n",
       "        73.24920689,  57.26578507, 147.47264462, 118.1039489 ,\n",
       "       106.50493145,  60.62205716,  73.42692796, 121.62562569,\n",
       "        89.03662697,  76.97027926, 119.10395449, 142.46339629,\n",
       "       101.71457129,  51.52275494,  84.54261227, 103.01639089,\n",
       "       128.28783262,  83.80341205,  94.70590525, 103.9881374 ,\n",
       "       117.86601484,  90.66001881,  91.30244557, 118.83525185,\n",
       "       126.41756803,  68.14331423,  49.22573092, 100.80651426,\n",
       "        95.06047057,  86.01511027, 116.40720242, 123.9200729 ,\n",
       "       100.25644467, 146.88643937, 132.23525524,  86.38932716,\n",
       "        72.30369415, 106.84662357,  97.62317106,  81.98637392,\n",
       "        99.8252835 ,  77.94315873, 118.08202961,  74.4646559 ,\n",
       "        70.08516555, 118.84573955,  99.16766364, 111.44349254,\n",
       "        92.90318951,  52.77745287,  73.11296642, 102.19500681,\n",
       "        84.75727848,  52.33166128, 112.48007036, 109.10189987,\n",
       "        66.07568738, 110.76616389, 103.57857434, 120.27270852,\n",
       "        70.19937952,  61.42741964, 102.26008499, 146.54928274,\n",
       "        56.96251574, 102.14708359,  83.24835387,  88.38629173,\n",
       "       113.02952892, 133.75028864,  67.12332913,  74.22044095,\n",
       "       106.3609245 ,  99.25400491,  69.71339514,  98.83380332,\n",
       "        96.01393616, 121.17438517,  70.46858746, 132.4192515 ,\n",
       "        80.33233601,  90.93094717, 124.83669585, 121.44027911,\n",
       "       109.40433012,  92.03277082,  68.89668056, 147.10830571,\n",
       "        97.44212828, 103.33598276, 106.0667259 ,  71.43809451,\n",
       "       120.96735978, 100.15007221, 103.80853027, 145.77267075,\n",
       "        79.28305499,  93.70334493, 134.22308509,  76.12453633,\n",
       "       108.39017544,  38.41709517, 127.63675072,  96.01300519,\n",
       "       122.84198908, 118.87102346, 105.9148582 ,  99.62173362,\n",
       "       120.9591368 ,  99.82294206, 131.53199004,  57.59513815,\n",
       "       137.9504599 ,  70.52858909, 133.36158728,  53.51793037,\n",
       "       137.85074576, 159.43212372,  65.44481397, 128.47710778,\n",
       "       175.34160086,  78.1662535 ,  96.37276982,  88.04804015,\n",
       "       107.54569111,  99.71136851,  89.38225251,  94.02337596,\n",
       "       111.45347485,  71.38855847, 148.30550207, 118.81904274,\n",
       "       100.2044553 ,  86.8448472 , 106.96134854, 137.30704178,\n",
       "       107.22420043,  96.77075885, 130.05677501, 143.16760453,\n",
       "        75.77088178,  76.39525214,  50.75918209,  63.29842722,\n",
       "        67.99805924,  98.51506501,  64.70491586, 110.0240568 ,\n",
       "       163.24458148, 112.61770062, 137.60397536,  66.13011795,\n",
       "        79.93107463, 137.62762408, 109.71781358,  54.32843107,\n",
       "        91.98114105, 116.37799128, 149.3163484 , 105.41218514,\n",
       "       137.56482719,  79.16458878,  97.17385288, 128.75081178,\n",
       "       132.88021642, 119.57666383, 138.7618154 ,  75.23267478,\n",
       "       109.42792159,  75.31105711, 113.11788288,  75.50443529,\n",
       "       127.81341508, 108.65781732,  97.82219154,  84.55688231,\n",
       "       126.68564781,  76.67970331,  67.33585847,  79.13124178,\n",
       "        66.85436928, 143.89947541, 114.54412959, 127.81561214,\n",
       "        89.48004183,  97.1185272 , 130.63261213,  62.84133021,\n",
       "        94.43548933,  78.13323957, 107.91091507, 115.2705024 ,\n",
       "       126.89430401,  91.58240944, 137.33466847, 101.94203057,\n",
       "        93.72698268,  76.28963596,  65.5297825 , 142.79659938,\n",
       "       139.00708304,  97.25749525,  78.27977136,  70.77412161,\n",
       "       126.90378634, 148.09957266,  90.30289012,  44.54070877,\n",
       "       123.36398928,  82.84676804, 119.7844306 ,  95.94025131,\n",
       "        80.02810673, 109.09146943,  87.23235942,  96.91275257,\n",
       "       121.66913836,  73.20820369, 103.44965319,  76.18589797,\n",
       "       116.62672979, 100.0664723 , 125.10039294,  65.70482546,\n",
       "        72.34833918, 140.46544369, 145.50130166, 122.9211872 ,\n",
       "        92.21031879, 146.02368797, 108.38043985, 125.36012642,\n",
       "       120.46960488,  80.41911086, 114.97229942, 116.3265033 ,\n",
       "       135.06490557,  91.69662411,  79.22393445, 111.51797995,\n",
       "       123.24219785,  85.43683292,  55.18992353, 118.29894042,\n",
       "        83.12380892,  83.58449589,  78.18171217,  56.81962471,\n",
       "       106.63503211,  69.40400916, 116.67429975,  99.97252916,\n",
       "       108.56369466,  99.04020763, 121.52766329,  40.59742331,\n",
       "        97.42316381,  85.95714893, 105.60072262, 114.76963405,\n",
       "        89.97660164, 118.06509925,  60.09445581, 125.31039885,\n",
       "       107.92064617, 117.80673661,  91.05219666,  86.605393  ,\n",
       "       162.92579758,  64.5343847 , 118.94302812,  29.40054795,\n",
       "       102.01741549, 135.17275821, 114.79549457,  59.08927962,\n",
       "        95.21926608, 155.4272662 , 140.43292194, 101.5718214 ,\n",
       "        66.2134432 , 138.30642328, 116.97632989, 130.12696056,\n",
       "       145.88325171,  99.86906125,  87.71681237, 133.91023664,\n",
       "        63.27899429, 120.9029473 ,  91.79598816, 107.6798957 ,\n",
       "       119.86717356, 133.18475761, 105.29682307, 115.61961689,\n",
       "       119.20438738,  95.90186288, 108.20098403, 108.76682463,\n",
       "        92.72863252,  99.95942154, 102.12529154,  82.2859725 ,\n",
       "       111.34132287, 165.71424831, 144.70002991,  91.88008851,\n",
       "       118.18339468,  96.65120122,  75.05031336,  93.55359821,\n",
       "       119.02813914,  81.58518596,  76.2808949 ,  66.13156223,\n",
       "       126.05726287, 101.77200467,  80.66725805,  99.10344249,\n",
       "        99.81507956, 111.71914679, 111.19929975,  65.52287868,\n",
       "        69.56982904,  81.57378641, 106.06344127, 125.88654947,\n",
       "       116.43935024,  96.23482586, 104.58132448, 119.70202678,\n",
       "        97.28030453,  71.99657113, 121.48096749, 121.30377346,\n",
       "        84.91201046,  56.46494913, 141.28449784,  99.57045177,\n",
       "        55.2428023 , 112.10262598, 117.42189159, 122.4516358 ,\n",
       "        96.65510365,  58.1674161 , 125.22967536, 120.2086175 ,\n",
       "        77.05998792,  80.85651441, 119.36363761,  88.16236481,\n",
       "       151.51025225,  67.46259155, 115.09589965,  81.46509708,\n",
       "       113.28820834, 127.13873817, 107.91055508, 124.81960761,\n",
       "       104.1793665 , 135.06393631,  85.99681832, 114.46289665,\n",
       "        56.35064163,  96.99813436, 105.53270056,  94.07673725,\n",
       "        66.01786747,  75.1893168 , 116.63744332,  91.45750582,\n",
       "       106.17927463, 100.18430892, 146.92888493,  61.28969193,\n",
       "       139.94441907, 122.06303108,  78.06990598, 113.57862569,\n",
       "        90.13849506, 102.31428396,  48.90002047,  71.91149727,\n",
       "       127.89015164, 134.52593118,  71.8851252 ,  90.6109612 ,\n",
       "       150.30455872,  72.6399718 ,  81.89337803,  89.94671831,\n",
       "       169.4907054 ,  94.11261271,  99.50538956,  78.53803381,\n",
       "        87.63407545,  65.37678024,  85.56102615, 123.2677581 ,\n",
       "       104.52539655,  76.47909106, 118.22385524,  92.18144966,\n",
       "        96.00422464,  89.56063876, 130.19835953, 107.22420017,\n",
       "       129.67260414,  82.57880701, 174.49131445,  37.32181565,\n",
       "       109.43173085, 129.33799483, 104.82301772,  74.52532631,\n",
       "       110.89587967, 106.40466896,  94.1992105 , 121.79672991,\n",
       "        81.42709739,  67.01432813, 107.66955692,  66.18022984,\n",
       "        64.4558641 ,  93.26388678,  90.51301769, 105.06030361,\n",
       "        25.36534105,  81.355575  ,  69.40792152,  85.33515534,\n",
       "       108.72336616,  53.77413046, 119.43285522, 123.55664197,\n",
       "       102.97983183, 103.31282704,  76.71336242, 110.79692387,\n",
       "       118.01427024, 105.30160275, 135.20604938,  99.95306411,\n",
       "        85.32472019, 121.70239552,  82.49049595,  52.01220134,\n",
       "       126.64710794, 100.29886762,  99.74913929,  85.52133449,\n",
       "       106.95301798,  68.774467  ,  87.13050682, 131.18630217,\n",
       "       142.89130125,  92.37752893,  85.97876536,  69.33155228,\n",
       "       105.98211795, 100.74891922,  85.97281115,  68.8153697 ,\n",
       "       101.91196881, 111.08308213,  99.32406595,  98.10207176,\n",
       "       108.88879808,  73.36555056,  80.87996618,  92.63945211,\n",
       "        89.59528555, 108.186706  ,  77.78732258,  63.92860016,\n",
       "       108.4392803 , 136.11818657, 118.22130319,  66.06687779,\n",
       "        64.95218539,  91.48908832, 106.76223846, 100.23935818,\n",
       "        57.12122432, 117.2625414 ,  92.54989232,  92.15692836,\n",
       "        98.73174518,  75.76468439, 141.56422163,  88.15192163,\n",
       "       127.38411843, 107.27007733,  67.29325024,  74.45132243,\n",
       "        87.99520918,  74.2202033 , 113.94036741,  79.14210863,\n",
       "        68.12361424,  97.61634025, 126.64485466,  97.38693556,\n",
       "        83.94075247,  88.21404088, 149.69987497, 113.22709521,\n",
       "       103.23454262,  92.980919  , 133.63632069, 112.31344111,\n",
       "       110.50543464, 103.58474492, 117.88344207,  78.10347587,\n",
       "       132.42844927,  94.68143068, 134.19817883, 116.8789406 ,\n",
       "       112.94047357, 116.32404871,  85.57200504, 112.98489313,\n",
       "        99.56041337, 170.94120269, 122.41114704,  93.90028472,\n",
       "        82.34085835,  76.67688877,  67.00545615, 129.64470816,\n",
       "        79.67006914, 130.38469654,  78.95638784, 124.23228365,\n",
       "       112.59421052,  92.47452284, 152.7810896 ,  67.43895833,\n",
       "        81.73250228,  60.04391052, 129.40285164, 125.2753335 ,\n",
       "        91.38115703,  83.53495595, 101.59250309,  60.00129432,\n",
       "       123.47700283, 129.67305946, 111.5370482 , 118.94385251,\n",
       "        98.70388399,  56.40002024,  81.96143478, 116.17997086,\n",
       "        61.55911011,  85.26015342, 131.12542799, 138.80692228,\n",
       "       117.61491936, 109.93166607, 102.66607315,  95.92993262,\n",
       "       112.23624099,  90.25517895,  96.9253203 , 107.42017878,\n",
       "        87.11401681,  90.43302743,  52.78207134,  72.24906283,\n",
       "        54.95528064, 125.80800865,  66.34241555,  74.47268682])"
      ]
     },
     "execution_count": 51,
     "metadata": {},
     "output_type": "execute_result"
    }
   ],
   "source": [
    "np.random.normal(100,25,1000)"
   ]
  },
  {
   "cell_type": "code",
   "execution_count": 52,
   "metadata": {
    "colab": {
     "base_uri": "https://localhost:8080/",
     "height": 227
    },
    "colab_type": "code",
    "executionInfo": {
     "elapsed": 820,
     "status": "ok",
     "timestamp": 1552619080325,
     "user": {
      "displayName": "",
      "photoUrl": "",
      "userId": ""
     },
     "user_tz": -660
    },
    "id": "EmcwT6cDTv3J",
    "outputId": "294c965d-ca92-41f9-95e3-65bfdb7d775f"
   },
   "outputs": [
    {
     "name": "stdout",
     "output_type": "stream",
     "text": [
      "height:\n",
      " [1.79 1.71 1.5  ... 1.96 1.94 2.15]\n",
      "weight:\n",
      " [51.87 56.72 54.17 ... 62.4  45.64 58.29]\n",
      "population:\n",
      " [[ 1.79 51.87]\n",
      " [ 1.71 56.72]\n",
      " [ 1.5  54.17]\n",
      " ...\n",
      " [ 1.96 62.4 ]\n",
      " [ 1.94 45.64]\n",
      " [ 2.15 58.29]]\n"
     ]
    }
   ],
   "source": [
    "print('height:\\n',height)\n",
    "print('weight:\\n',weight)\n",
    "print('population:\\n',population)"
   ]
  },
  {
   "cell_type": "markdown",
   "metadata": {
    "colab_type": "text",
    "id": "FXVi-lphTHs2"
   },
   "source": [
    "**1. Find Dimension of Array**\n",
    "\n",
    "Find dimention of each array: height, weight, population\n",
    "```\n",
    "# Expected Ouput\n",
    "np.ndim(height): 1\n",
    "np.ndim(weight): 1\n",
    "np.ndim(population): 2\n",
    "```"
   ]
  },
  {
   "cell_type": "code",
   "execution_count": 53,
   "metadata": {},
   "outputs": [
    {
     "name": "stdout",
     "output_type": "stream",
     "text": [
      "np.ndim(height): 1\n",
      "np.ndim(weight): 1\n",
      "np.ndim(population): 2\n"
     ]
    }
   ],
   "source": [
    "print('np.ndim(height):',np.ndim(height))\n",
    "print('np.ndim(weight):',np.ndim(weight))\n",
    "print('np.ndim(population):',np.ndim(population))"
   ]
  },
  {
   "cell_type": "markdown",
   "metadata": {
    "colab_type": "text",
    "id": "_TGkqif9T44j"
   },
   "source": [
    "**2. Find Shape of Array**\n",
    "\n",
    "Find shape of each array: height, weight, population\n",
    "```\n",
    "# Expected Ouput\n",
    "np.shape(height) : (7000,)\n",
    "np.shape(weight) : (7000,)\n",
    "np.shape(weight) : (7000, 2)\n",
    "```\n",
    "\n"
   ]
  },
  {
   "cell_type": "code",
   "execution_count": 54,
   "metadata": {},
   "outputs": [
    {
     "name": "stdout",
     "output_type": "stream",
     "text": [
      "np.shape(height) : (7000,)\n",
      "np.shape(weight) : (7000,)\n",
      "np.shape(weight) : (7000, 2)\n"
     ]
    }
   ],
   "source": [
    "print('np.shape(height) :',np.shape(height))\n",
    "print('np.shape(weight) :',np.shape(weight))\n",
    "print('np.shape(weight) :',np.shape(population))\n"
   ]
  },
  {
   "cell_type": "markdown",
   "metadata": {
    "colab_type": "text",
    "id": "I1x7cNp0UIkp"
   },
   "source": [
    "**3. Find Size of Array**\n",
    "\n",
    "Find shape of each array: height, weight, population\n",
    "```\n",
    "# Expected Ouput:\n",
    "np.size(height) : 7000\n",
    "np.size(weight) : 7000\n",
    "np.size(weight) : 14000\n",
    "```\n",
    "\n"
   ]
  },
  {
   "cell_type": "code",
   "execution_count": 55,
   "metadata": {},
   "outputs": [
    {
     "name": "stdout",
     "output_type": "stream",
     "text": [
      "np.size(height) : 7000\n",
      "np.size(weight) : 7000\n",
      "np.size(population) : 14000\n"
     ]
    }
   ],
   "source": [
    "\n",
    "print('np.size(height) :', height.size)\n",
    "print('np.size(weight) :', weight.size)\n",
    "print('np.size(population) :', population.size)\n"
   ]
  },
  {
   "cell_type": "markdown",
   "metadata": {
    "colab_type": "text",
    "id": "v1N4xcurUVCS"
   },
   "source": [
    "**4. Find Size of Items of Each Array**\n",
    "\n",
    "Find size of items each array: height, weight, population\n",
    "```\n",
    "# Expected Output:\n",
    "height.itemsize : 8\n",
    "weight.itemsize : 8\n",
    "population.itemsize : 8\n",
    "```"
   ]
  },
  {
   "cell_type": "code",
   "execution_count": 56,
   "metadata": {},
   "outputs": [
    {
     "name": "stdout",
     "output_type": "stream",
     "text": [
      "height.itemsize : 8\n",
      "weight.itemsize : 8\n",
      "population.itemsize : 8\n"
     ]
    }
   ],
   "source": [
    "\n",
    "print('height.itemsize :',height.itemsize)\n",
    "print('weight.itemsize :',weight.itemsize)\n",
    "print('population.itemsize :',population.itemsize)"
   ]
  },
  {
   "cell_type": "markdown",
   "metadata": {
    "colab_type": "text",
    "id": "r83X2u4HUteY"
   },
   "source": [
    "**4. Find Minimum Value of Each Array**\n",
    "\n",
    "Find minimum value of each array: height, weight, population\n",
    "```\n",
    "# Expected Output:\n",
    "height.min : 1.0\n",
    "weight.min : 3.24\n",
    "population.min : 1.0\n",
    "```\n",
    "\n"
   ]
  },
  {
   "cell_type": "code",
   "execution_count": 57,
   "metadata": {},
   "outputs": [
    {
     "name": "stdout",
     "output_type": "stream",
     "text": [
      "height.min : 1.02\n",
      "weight.min : 4.65\n",
      "population.min : 1.02\n"
     ]
    }
   ],
   "source": [
    "print('height.min :', height.min())\n",
    "print('weight.min :', weight.min())\n",
    "print('population.min :', population.min())"
   ]
  },
  {
   "cell_type": "markdown",
   "metadata": {
    "colab_type": "text",
    "id": "d7v4phGMVAu0"
   },
   "source": [
    "**5. Find Maximum Value of Each Array**\n",
    "\n",
    "Find maximum value of each array: height, weight, population\n",
    "```\n",
    "# Expected Output\n",
    "height.max() : 2.51\n",
    "weight.max() : 132.17\n",
    "population.max() : 132.17\n",
    "```"
   ]
  },
  {
   "cell_type": "code",
   "execution_count": 58,
   "metadata": {},
   "outputs": [
    {
     "name": "stdout",
     "output_type": "stream",
     "text": [
      "height.max() : 2.47\n",
      "weight.max() : 119.77\n",
      "population.max() : 119.77\n"
     ]
    }
   ],
   "source": [
    "print('height.max() :', height.max())\n",
    "print('weight.max() :', weight.max())\n",
    "print('population.max() :', population.max())"
   ]
  },
  {
   "cell_type": "markdown",
   "metadata": {
    "colab_type": "text",
    "id": "vYPOvoePVa0m"
   },
   "source": [
    "**6. Find Mean Value of Each Array**\n",
    "\n",
    "Find maximum value of each array: height, weight, population\n",
    "```\n",
    "# Expected Output\n",
    "height.mean() : 1.7494871428571428\n",
    "weight.mean() : 60.41684428571429\n",
    "population.mean() : 31.083165714285716\n",
    "```\n",
    "\n"
   ]
  },
  {
   "cell_type": "code",
   "execution_count": 59,
   "metadata": {},
   "outputs": [
    {
     "name": "stdout",
     "output_type": "stream",
     "text": [
      "height.mean() : 1.753757142857143\n",
      "weight.mean() : 60.359631428571426\n",
      "population.mean() : 31.056694285714283\n"
     ]
    }
   ],
   "source": [
    "print('height.mean() :', height.mean())\n",
    "print('weight.mean() :', weight.mean())\n",
    "print('population.mean() :', population.mean())"
   ]
  },
  {
   "cell_type": "markdown",
   "metadata": {
    "colab_type": "text",
    "id": "Xo7Y5yQPV070"
   },
   "source": [
    "**6. Find Standard Deviation of Each Array**\n",
    "\n",
    "Find standard deviation value of each array: height, weight, population\n",
    "```\n",
    "# Expected Output\n",
    "height.std() : 0.1981923748970856\n",
    "weight.std() : 14.821310711612284\n",
    "population.std() : 31.090684288943482\n",
    "```"
   ]
  },
  {
   "cell_type": "code",
   "execution_count": 60,
   "metadata": {},
   "outputs": [
    {
     "name": "stdout",
     "output_type": "stream",
     "text": [
      "height.std() : 0.20035696256676377\n",
      "weight.std() : 14.8404483588848\n",
      "population.std() : 31.12557871591827\n"
     ]
    }
   ],
   "source": [
    "print('height.std() :', height.std())\n",
    "print('weight.std() :', weight.std())\n",
    "print('population.std() :', population.std())"
   ]
  },
  {
   "cell_type": "markdown",
   "metadata": {
    "colab_type": "text",
    "id": "tOsfNOAbWHGQ"
   },
   "source": [
    "**7. Find Total value of Each Array**\n",
    "\n",
    "Find total value of each array: height, weight, population\n",
    "```\n",
    "# Expected Output\n",
    "height.sum() : 12219.789999999999\n",
    "weight.sum() : 422009.95\n",
    "population.sum() : 434229.74\n",
    "```"
   ]
  },
  {
   "cell_type": "code",
   "execution_count": 61,
   "metadata": {},
   "outputs": [
    {
     "name": "stdout",
     "output_type": "stream",
     "text": [
      "height.sum() : 12276.300000000001\n",
      "weight.sum() : 422517.42\n",
      "population.sum() : 434793.72\n"
     ]
    }
   ],
   "source": [
    "print('height.sum() :', height.sum())\n",
    "print('weight.sum() :', weight.sum())\n",
    "print('population.sum() :', population.sum())"
   ]
  },
  {
   "cell_type": "markdown",
   "metadata": {
    "colab_type": "text",
    "id": "J11tIVhEWfcI"
   },
   "source": [
    "**8. Create a histogram of height and weight**"
   ]
  },
  {
   "cell_type": "code",
   "execution_count": 62,
   "metadata": {
    "colab": {
     "base_uri": "https://localhost:8080/",
     "height": 3834
    },
    "colab_type": "code",
    "executionInfo": {
     "elapsed": 871,
     "status": "ok",
     "timestamp": 1552619858866,
     "user": {
      "displayName": "",
      "photoUrl": "",
      "userId": ""
     },
     "user_tz": -660
    },
    "id": "gOsaH1wYWsnl",
    "outputId": "16ff210c-6f29-45de-ddff-ba5cfee755c2"
   },
   "outputs": [
    {
     "name": "stdout",
     "output_type": "stream",
     "text": [
      "Help on function hist in module matplotlib.pyplot:\n",
      "\n",
      "hist(x, bins=None, range=None, density=False, weights=None, cumulative=False, bottom=None, histtype='bar', align='mid', orientation='vertical', rwidth=None, log=False, color=None, label=None, stacked=False, *, data=None, **kwargs)\n",
      "    Plot a histogram.\n",
      "    \n",
      "    Compute and draw the histogram of *x*.  The return value is a tuple\n",
      "    (*n*, *bins*, *patches*) or ([*n0*, *n1*, ...], *bins*, [*patches0*,\n",
      "    *patches1*,...]) if the input contains multiple data.  See the\n",
      "    documentation of the *weights* parameter to draw a histogram of\n",
      "    already-binned data.\n",
      "    \n",
      "    Multiple data can be provided via *x* as a list of datasets\n",
      "    of potentially different length ([*x0*, *x1*, ...]), or as\n",
      "    a 2-D ndarray in which each column is a dataset.  Note that\n",
      "    the ndarray form is transposed relative to the list form.\n",
      "    \n",
      "    Masked arrays are not supported.\n",
      "    \n",
      "    The *bins*, *range*, *weights*, and *density* parameters behave as in\n",
      "    `numpy.histogram`.\n",
      "    \n",
      "    Parameters\n",
      "    ----------\n",
      "    x : (n,) array or sequence of (n,) arrays\n",
      "        Input values, this takes either a single array or a sequence of\n",
      "        arrays which are not required to be of the same length.\n",
      "    \n",
      "    bins : int or sequence or str, optional\n",
      "        If *bins* is an integer, it defines the number of equal-width bins\n",
      "        in the range.\n",
      "    \n",
      "        If *bins* is a sequence, it defines the bin edges, including the\n",
      "        left edge of the first bin and the right edge of the last bin;\n",
      "        in this case, bins may be unequally spaced.  All but the last\n",
      "        (righthand-most) bin is half-open.  In other words, if *bins* is::\n",
      "    \n",
      "            [1, 2, 3, 4]\n",
      "    \n",
      "        then the first bin is ``[1, 2)`` (including 1, but excluding 2) and\n",
      "        the second ``[2, 3)``.  The last bin, however, is ``[3, 4]``, which\n",
      "        *includes* 4.\n",
      "    \n",
      "        If *bins* is a string, it is one of the binning strategies\n",
      "        supported by `numpy.histogram_bin_edges`: 'auto', 'fd', 'doane',\n",
      "        'scott', 'stone', 'rice', 'sturges', or 'sqrt'.\n",
      "    \n",
      "        The default is :rc:`hist.bins`.\n",
      "    \n",
      "    range : tuple or None, optional\n",
      "        The lower and upper range of the bins. Lower and upper outliers\n",
      "        are ignored. If not provided, *range* is ``(x.min(), x.max())``.\n",
      "        Range has no effect if *bins* is a sequence.\n",
      "    \n",
      "        If *bins* is a sequence or *range* is specified, autoscaling\n",
      "        is based on the specified bin range instead of the\n",
      "        range of x.\n",
      "    \n",
      "        Default is ``None``\n",
      "    \n",
      "    density : bool, optional\n",
      "        If ``True``, the first element of the return tuple will\n",
      "        be the counts normalized to form a probability density, i.e.,\n",
      "        the area (or integral) under the histogram will sum to 1.\n",
      "        This is achieved by dividing the count by the number of\n",
      "        observations times the bin width and not dividing by the total\n",
      "        number of observations. If *stacked* is also ``True``, the sum of\n",
      "        the histograms is normalized to 1.\n",
      "    \n",
      "        Default is ``False``.\n",
      "    \n",
      "    weights : (n, ) array-like or None, optional\n",
      "        An array of weights, of the same shape as *x*.  Each value in *x*\n",
      "        only contributes its associated weight towards the bin count\n",
      "        (instead of 1).  If *normed* or *density* is ``True``,\n",
      "        the weights are normalized, so that the integral of the density\n",
      "        over the range remains 1.\n",
      "    \n",
      "        Default is ``None``.\n",
      "    \n",
      "        This parameter can be used to draw a histogram of data that has\n",
      "        already been binned, e.g. using `np.histogram` (by treating each\n",
      "        bin as a single point with a weight equal to its count) ::\n",
      "    \n",
      "            counts, bins = np.histogram(data)\n",
      "            plt.hist(bins[:-1], bins, weights=counts)\n",
      "    \n",
      "        (or you may alternatively use `~.bar()`).\n",
      "    \n",
      "    cumulative : bool or -1, optional\n",
      "        If ``True``, then a histogram is computed where each bin gives the\n",
      "        counts in that bin plus all bins for smaller values. The last bin\n",
      "        gives the total number of datapoints.\n",
      "    \n",
      "        If *density* is also ``True`` then the histogram is normalized such\n",
      "        that the last bin equals 1.\n",
      "    \n",
      "        If *cumulative* is a number less than 0 (e.g., -1), the direction\n",
      "        of accumulation is reversed.  In this case, if *density* is also\n",
      "        ``True``, then the histogram is normalized such that the first bin\n",
      "        equals 1.\n",
      "    \n",
      "    bottom : array-like, scalar, or None, default: None\n",
      "        Location of the bottom of each bin, ie. bins are drawn from\n",
      "        ``bottom`` to ``bottom + hist(x, bins)`` If a scalar, the bottom\n",
      "        of each bin is shifted by the same amount. If an array, each bin\n",
      "        is shifted independently and the length of bottom must match the\n",
      "        number of bins. If None, defaults to 0.\n",
      "    \n",
      "    histtype : {'bar', 'barstacked', 'step',  'stepfilled'}, optional\n",
      "        The type of histogram to draw.\n",
      "    \n",
      "        - 'bar' is a traditional bar-type histogram.  If multiple data\n",
      "          are given the bars are arranged side by side.\n",
      "        - 'barstacked' is a bar-type histogram where multiple\n",
      "          data are stacked on top of each other.\n",
      "        - 'step' generates a lineplot that is by default unfilled.\n",
      "        - 'stepfilled' generates a lineplot that is by default filled.\n",
      "    \n",
      "        Default is 'bar'\n",
      "    \n",
      "    align : {'left', 'mid', 'right'}, optional\n",
      "        Controls how the histogram is plotted.\n",
      "    \n",
      "        - 'left': bars are centered on the left bin edges.\n",
      "        - 'mid': bars are centered between the bin edges.\n",
      "        - 'right': bars are centered on the right bin edges.\n",
      "    \n",
      "        Default is 'mid'\n",
      "    \n",
      "    orientation : {'horizontal', 'vertical'}, optional\n",
      "        If 'horizontal', `~matplotlib.pyplot.barh` will be used for\n",
      "        bar-type histograms and the *bottom* kwarg will be the left edges.\n",
      "    \n",
      "    rwidth : scalar or None, optional\n",
      "        The relative width of the bars as a fraction of the bin width.  If\n",
      "        ``None``, automatically compute the width.\n",
      "    \n",
      "        Ignored if *histtype* is 'step' or 'stepfilled'.\n",
      "    \n",
      "        Default is ``None``\n",
      "    \n",
      "    log : bool, optional\n",
      "        If ``True``, the histogram axis will be set to a log scale. If\n",
      "        *log* is ``True`` and *x* is a 1D array, empty bins will be\n",
      "        filtered out and only the non-empty ``(n, bins, patches)``\n",
      "        will be returned.\n",
      "    \n",
      "        Default is ``False``\n",
      "    \n",
      "    color : color or array-like of colors or None, optional\n",
      "        Color or sequence of colors, one per dataset.  Default (``None``)\n",
      "        uses the standard line color sequence.\n",
      "    \n",
      "        Default is ``None``\n",
      "    \n",
      "    label : str or None, optional\n",
      "        String, or sequence of strings to match multiple datasets.  Bar\n",
      "        charts yield multiple patches per dataset, but only the first gets\n",
      "        the label, so that the legend command will work as expected.\n",
      "    \n",
      "        default is ``None``\n",
      "    \n",
      "    stacked : bool, optional\n",
      "        If ``True``, multiple data are stacked on top of each other If\n",
      "        ``False`` multiple data are arranged side by side if histtype is\n",
      "        'bar' or on top of each other if histtype is 'step'\n",
      "    \n",
      "        Default is ``False``\n",
      "    \n",
      "    Returns\n",
      "    -------\n",
      "    n : array or list of arrays\n",
      "        The values of the histogram bins. See *density* and *weights* for a\n",
      "        description of the possible semantics.  If input *x* is an array,\n",
      "        then this is an array of length *nbins*. If input is a sequence of\n",
      "        arrays ``[data1, data2, ...]``, then this is a list of arrays with\n",
      "        the values of the histograms for each of the arrays in the same\n",
      "        order.  The dtype of the array *n* (or of its element arrays) will\n",
      "        always be float even if no weighting or normalization is used.\n",
      "    \n",
      "    bins : array\n",
      "        The edges of the bins. Length nbins + 1 (nbins left edges and right\n",
      "        edge of last bin).  Always a single array even when multiple data\n",
      "        sets are passed in.\n",
      "    \n",
      "    patches : list or list of lists\n",
      "        Silent list of individual patches used to create the histogram\n",
      "        or list of such list if multiple input datasets.\n",
      "    \n",
      "    Other Parameters\n",
      "    ----------------\n",
      "    **kwargs : `~matplotlib.patches.Patch` properties\n",
      "    \n",
      "    See also\n",
      "    --------\n",
      "    hist2d : 2D histograms\n",
      "    \n",
      "    Notes\n",
      "    -----\n",
      "    \n",
      "    \n",
      "    .. note::\n",
      "        In addition to the above described arguments, this function can take a\n",
      "        **data** keyword argument. If such a **data** argument is given, the\n",
      "        following arguments are replaced by **data[<arg>]**:\n",
      "    \n",
      "        * All arguments with the following names: 'weights', 'x'.\n",
      "    \n",
      "        Objects passed as **data** must support item access (``data[<arg>]``) and\n",
      "        membership test (``<arg> in data``).\n",
      "\n"
     ]
    }
   ],
   "source": [
    "help(plt.hist)"
   ]
  },
  {
   "cell_type": "code",
   "execution_count": 64,
   "metadata": {},
   "outputs": [
    {
     "data": {
      "image/png": "[encoded data removed]",
      "text/plain": [
       "<Figure size 720x432 with 1 Axes>"
      ]
     },
     "metadata": {
      "needs_background": "light"
     },
     "output_type": "display_data"
    }
   ],
   "source": [
    "# Histogram of height\n",
    "num_bins = 50\n",
    "#n, bins, patches = \n",
    "plt.hist(height, num_bins, facecolor='green', alpha=0.5)\n",
    "plt.show()"
   ]
  },
  {
   "cell_type": "code",
   "execution_count": 65,
   "metadata": {},
   "outputs": [
    {
     "data": {
      "image/png": "[encoded data removed]",
      "text/plain": [
       "<Figure size 720x432 with 1 Axes>"
      ]
     },
     "metadata": {
      "needs_background": "light"
     },
     "output_type": "display_data"
    }
   ],
   "source": [
    "#Histogram of weight\n",
    "num_bins = 50\n",
    "#n, bins, patches = \n",
    "plt.hist(weight, num_bins, facecolor='orange', alpha=0.5)\n",
    "plt.show()"
   ]
  },
  {
   "cell_type": "code",
   "execution_count": null,
   "metadata": {},
   "outputs": [],
   "source": []
  },
  {
   "cell_type": "code",
   "execution_count": 68,
   "metadata": {},
   "outputs": [
    {
     "data": {
      "image/png": "[encoded data removed]",
      "text/plain": [
       "<Figure size 720x432 with 1 Axes>"
      ]
     },
     "metadata": {
      "needs_background": "light"
     },
     "output_type": "display_data"
    }
   ],
   "source": [
    "\n",
    "#Differnt values of height and weight to just see two hist in a single figure.\n",
    "height= np.random.normal(80, 15, 10000)\n",
    "weight= np.random.normal(65, 15, 10000)\n",
    "#height= np.round(np.random.normal(1.75, 0.20, 7000), 2)\n",
    "#weight= np.round(np.random.normal(60.32, 15, 7000), 2)\n",
    "#bins = np.linspace(-10, 10, 50)\n",
    "rcParams['figure.figsize'] = 10,6\n",
    "plt.hist(height, bins =35,color='g',edgecolor='w', alpha = 0.5,label='height')\n",
    "plt.hist(weight, bins =35,color='orange',edgecolor='w', alpha = 0.9,label='weight')\n",
    "plt.title('Histograms of Height and Weight')\n",
    "plt.legend(loc='best')\n",
    "plt.grid(axis = 'y',alpha=.5)\n",
    "plt.show()"
   ]
  },
  {
   "cell_type": "markdown",
   "metadata": {
    "colab_type": "text",
    "id": "cfT_iKnKW4K0"
   },
   "source": [
    "**9. Create a boxplot of height and weight**"
   ]
  },
  {
   "cell_type": "code",
   "execution_count": 20,
   "metadata": {
    "colab": {
     "base_uri": "https://localhost:8080/",
     "height": 3222
    },
    "colab_type": "code",
    "executionInfo": {
     "elapsed": 851,
     "status": "ok",
     "timestamp": 1552620003646,
     "user": {
      "displayName": "",
      "photoUrl": "",
      "userId": ""
     },
     "user_tz": -660
    },
    "id": "PZbswA3fXQSL",
    "outputId": "2256b909-9b78-4e08-bc33-40d5aa2926af"
   },
   "outputs": [
    {
     "name": "stdout",
     "output_type": "stream",
     "text": [
      "Help on function boxplot in module matplotlib.pyplot:\n",
      "\n",
      "boxplot(x, notch=None, sym=None, vert=None, whis=None, positions=None, widths=None, patch_artist=None, bootstrap=None, usermedians=None, conf_intervals=None, meanline=None, showmeans=None, showcaps=None, showbox=None, showfliers=None, boxprops=None, labels=None, flierprops=None, medianprops=None, meanprops=None, capprops=None, whiskerprops=None, manage_ticks=True, autorange=False, zorder=None, *, data=None)\n",
      "    Make a box and whisker plot.\n",
      "    \n",
      "    Make a box and whisker plot for each column of ``x`` or each\n",
      "    vector in sequence ``x``.  The box extends from the lower to\n",
      "    upper quartile values of the data, with a line at the median.\n",
      "    The whiskers extend from the box to show the range of the\n",
      "    data.  Flier points are those past the end of the whiskers.\n",
      "    \n",
      "    Parameters\n",
      "    ----------\n",
      "    x : Array or a sequence of vectors.\n",
      "        The input data.\n",
      "    \n",
      "    notch : bool, optional (False)\n",
      "        If `True`, will produce a notched box plot. Otherwise, a\n",
      "        rectangular boxplot is produced. The notches represent the\n",
      "        confidence interval (CI) around the median. See the entry\n",
      "        for the ``bootstrap`` parameter for information regarding\n",
      "        how the locations of the notches are computed.\n",
      "    \n",
      "        .. note::\n",
      "    \n",
      "            In cases where the values of the CI are less than the\n",
      "            lower quartile or greater than the upper quartile, the\n",
      "            notches will extend beyond the box, giving it a\n",
      "            distinctive \"flipped\" appearance. This is expected\n",
      "            behavior and consistent with other statistical\n",
      "            visualization packages.\n",
      "    \n",
      "    sym : str, optional\n",
      "        The default symbol for flier points. Enter an empty string\n",
      "        ('') if you don't want to show fliers. If `None`, then the\n",
      "        fliers default to 'b+'  If you want more control use the\n",
      "        flierprops kwarg.\n",
      "    \n",
      "    vert : bool, optional (True)\n",
      "        If `True` (default), makes the boxes vertical. If `False`,\n",
      "        everything is drawn horizontally.\n",
      "    \n",
      "    whis : float or (float, float) (default = 1.5)\n",
      "        The position of the whiskers.\n",
      "    \n",
      "        If a float, the lower whisker is at the lowest datum above\n",
      "        ``Q1 - whis*(Q3-Q1)``, and the upper whisker at the highest datum\n",
      "        below ``Q3 + whis*(Q3-Q1)``, where Q1 and Q3 are the first and\n",
      "        third quartiles.  The default value of ``whis = 1.5`` corresponds\n",
      "        to Tukey's original definition of boxplots.\n",
      "    \n",
      "        If a pair of floats, they indicate the percentiles at which to\n",
      "        draw the whiskers (e.g., (5, 95)).  In particular, setting this to\n",
      "        (0, 100) results in whiskers covering the whole range of the data.\n",
      "        \"range\" is a deprecated synonym for (0, 100).\n",
      "    \n",
      "        In the edge case where ``Q1 == Q3``, *whis* is automatically set\n",
      "        to (0, 100) (cover the whole range of the data) if *autorange* is\n",
      "        True.\n",
      "    \n",
      "        Beyond the whiskers, data are considered outliers and are plotted\n",
      "        as individual points.\n",
      "    \n",
      "    bootstrap : int, optional\n",
      "        Specifies whether to bootstrap the confidence intervals\n",
      "        around the median for notched boxplots. If ``bootstrap`` is\n",
      "        None, no bootstrapping is performed, and notches are\n",
      "        calculated using a Gaussian-based asymptotic approximation\n",
      "        (see McGill, R., Tukey, J.W., and Larsen, W.A., 1978, and\n",
      "        Kendall and Stuart, 1967). Otherwise, bootstrap specifies\n",
      "        the number of times to bootstrap the median to determine its\n",
      "        95% confidence intervals. Values between 1000 and 10000 are\n",
      "        recommended.\n",
      "    \n",
      "    usermedians : array-like, optional\n",
      "        An array or sequence whose first dimension (or length) is\n",
      "        compatible with ``x``. This overrides the medians computed\n",
      "        by matplotlib for each element of ``usermedians`` that is not\n",
      "        `None`. When an element of ``usermedians`` is None, the median\n",
      "        will be computed by matplotlib as normal.\n",
      "    \n",
      "    conf_intervals : array-like, optional\n",
      "        Array or sequence whose first dimension (or length) is\n",
      "        compatible with ``x`` and whose second dimension is 2. When\n",
      "        the an element of ``conf_intervals`` is not None, the\n",
      "        notch locations computed by matplotlib are overridden\n",
      "        (provided ``notch`` is `True`). When an element of\n",
      "        ``conf_intervals`` is `None`, the notches are computed by the\n",
      "        method specified by the other kwargs (e.g., ``bootstrap``).\n",
      "    \n",
      "    positions : array-like, optional\n",
      "        Sets the positions of the boxes. The ticks and limits are\n",
      "        automatically set to match the positions. Defaults to\n",
      "        `range(1, N+1)` where N is the number of boxes to be drawn.\n",
      "    \n",
      "    widths : scalar or array-like\n",
      "        Sets the width of each box either with a scalar or a\n",
      "        sequence. The default is 0.5, or ``0.15*(distance between\n",
      "        extreme positions)``, if that is smaller.\n",
      "    \n",
      "    patch_artist : bool, optional (False)\n",
      "        If `False` produces boxes with the Line2D artist. Otherwise,\n",
      "        boxes and drawn with Patch artists.\n",
      "    \n",
      "    labels : sequence, optional\n",
      "        Labels for each dataset. Length must be compatible with\n",
      "        dimensions of ``x``.\n",
      "    \n",
      "    manage_ticks : bool, optional (True)\n",
      "        If True, the tick locations and labels will be adjusted to match\n",
      "        the boxplot positions.\n",
      "    \n",
      "    autorange : bool, optional (False)\n",
      "        When `True` and the data are distributed such that the 25th and\n",
      "        75th percentiles are equal, ``whis`` is set to (0, 100) such\n",
      "        that the whisker ends are at the minimum and maximum of the data.\n",
      "    \n",
      "    meanline : bool, optional (False)\n",
      "        If `True` (and ``showmeans`` is `True`), will try to render\n",
      "        the mean as a line spanning the full width of the box\n",
      "        according to ``meanprops`` (see below). Not recommended if\n",
      "        ``shownotches`` is also True. Otherwise, means will be shown\n",
      "        as points.\n",
      "    \n",
      "    zorder : scalar, optional (None)\n",
      "        Sets the zorder of the boxplot.\n",
      "    \n",
      "    Other Parameters\n",
      "    ----------------\n",
      "    showcaps : bool, optional (True)\n",
      "        Show the caps on the ends of whiskers.\n",
      "    showbox : bool, optional (True)\n",
      "        Show the central box.\n",
      "    showfliers : bool, optional (True)\n",
      "        Show the outliers beyond the caps.\n",
      "    showmeans : bool, optional (False)\n",
      "        Show the arithmetic means.\n",
      "    capprops : dict, optional (None)\n",
      "        Specifies the style of the caps.\n",
      "    boxprops : dict, optional (None)\n",
      "        Specifies the style of the box.\n",
      "    whiskerprops : dict, optional (None)\n",
      "        Specifies the style of the whiskers.\n",
      "    flierprops : dict, optional (None)\n",
      "        Specifies the style of the fliers.\n",
      "    medianprops : dict, optional (None)\n",
      "        Specifies the style of the median.\n",
      "    meanprops : dict, optional (None)\n",
      "        Specifies the style of the mean.\n",
      "    \n",
      "    Returns\n",
      "    -------\n",
      "    result : dict\n",
      "      A dictionary mapping each component of the boxplot to a list\n",
      "      of the `.Line2D` instances created. That dictionary has the\n",
      "      following keys (assuming vertical boxplots):\n",
      "    \n",
      "      - ``boxes``: the main body of the boxplot showing the\n",
      "        quartiles and the median's confidence intervals if\n",
      "        enabled.\n",
      "    \n",
      "      - ``medians``: horizontal lines at the median of each box.\n",
      "    \n",
      "      - ``whiskers``: the vertical lines extending to the most\n",
      "        extreme, non-outlier data points.\n",
      "    \n",
      "      - ``caps``: the horizontal lines at the ends of the\n",
      "        whiskers.\n",
      "    \n",
      "      - ``fliers``: points representing data that extend beyond\n",
      "        the whiskers (fliers).\n",
      "    \n",
      "      - ``means``: points or lines representing the means.\n",
      "    \n",
      "    Notes\n",
      "    -----\n",
      "    \n",
      "    \n",
      "    .. note::\n",
      "        In addition to the above described arguments, this function can take a\n",
      "        **data** keyword argument. If such a **data** argument is given, the\n",
      "        following arguments are replaced by **data[<arg>]**:\n",
      "    \n",
      "        * All positional and all keyword arguments.\n",
      "    \n",
      "        Objects passed as **data** must support item access (``data[<arg>]``) and\n",
      "        membership test (``<arg> in data``).\n",
      "\n"
     ]
    }
   ],
   "source": [
    "help(plt.boxplot)"
   ]
  },
  {
   "cell_type": "code",
   "execution_count": 69,
   "metadata": {},
   "outputs": [
    {
     "data": {
      "image/png": "[encoded data removed]",
      "text/plain": [
       "<Figure size 864x288 with 1 Axes>"
      ]
     },
     "metadata": {
      "needs_background": "light"
     },
     "output_type": "display_data"
    }
   ],
   "source": [
    "# Boxplot of Height and Weight\n",
    "height= np.round(np.random.normal(1.75, 0.20, 7000), 2)\n",
    "weight= np.round(np.random.normal(60.32, 15, 7000), 2)\n",
    "data_to_plot = [x,y]\n",
    "# Create a figure instance\n",
    "fig = plt.figure(1, figsize=(12, 4))\n",
    "# Create an axes instance\n",
    "ax = fig.add_subplot(111)\n",
    "# Create the boxplot\n",
    "bp = ax.boxplot(data_to_plot)\n",
    "# Save the figure\n",
    "fig.savefig('fig1.png', bbox_inches='tight')\n",
    "## add patch_artist=True option to ax.boxplot()to get fill color\n",
    "bp = ax.boxplot(data_to_plot, patch_artist=True)\n",
    "## change outline color, fill color and linewidth of the boxes\n",
    "for box in bp['boxes']:\n",
    "    # change outline color\n",
    "    box.set( color='#7570b3', linewidth=2)\n",
    "    # change fill color\n",
    "    box.set( facecolor = '#1b9e77' )\n",
    "\n",
    "## change color and linewidth of the whiskers\n",
    "for whisker in bp['whiskers']:\n",
    "    whisker.set(color='#7570b3', linewidth=2)\n",
    "\n",
    "## change color and linewidth of the caps\n",
    "for cap in bp['caps']:\n",
    "    cap.set(color='#7570b3', linewidth=2)\n",
    "\n",
    "## change color and linewidth of the medians\n",
    "for median in bp['medians']:\n",
    "    median.set(color='#b2df8a', linewidth=2)\n",
    "\n",
    "## change the style of fliers and their fill\n",
    "for flier in bp['fliers']:\n",
    "    flier.set(marker='o', color='#e7298a', alpha=0.5)\n",
    "fig.savefig('fig1.png', bbox_inches='tight')\n",
    "## Remove top axes and right axes ticks\n",
    "ax.get_xaxis().tick_bottom()\n",
    "ax.get_yaxis().tick_left()\n",
    "\n",
    "plt.boxplot(data_to_plot)\n",
    "ax.set_xticklabels(['Height', 'Weight'])\n",
    "plt.show()\n",
    "\n"
   ]
  },
  {
   "cell_type": "code",
   "execution_count": 70,
   "metadata": {},
   "outputs": [
    {
     "data": {
      "image/png": "[encoded data removed]",
      "text/plain": [
       "<Figure size 720x432 with 1 Axes>"
      ]
     },
     "metadata": {
      "needs_background": "light"
     },
     "output_type": "display_data"
    }
   ],
   "source": [
    "#Box plot of height in a single figure\n",
    "plt.boxplot(height)\n",
    "plt.show()"
   ]
  },
  {
   "cell_type": "code",
   "execution_count": 71,
   "metadata": {},
   "outputs": [
    {
     "data": {
      "image/png": "[encoded data removed]",
      "text/plain": [
       "<Figure size 720x432 with 1 Axes>"
      ]
     },
     "metadata": {
      "needs_background": "light"
     },
     "output_type": "display_data"
    }
   ],
   "source": [
    "plt.boxplot(weight)\n",
    "plt.show()"
   ]
  },
  {
   "cell_type": "markdown",
   "metadata": {
    "colab_type": "text",
    "id": "b-6Hr9dSXD2L"
   },
   "source": [
    "**10. Create scatterplot of height and weight**"
   ]
  },
  {
   "cell_type": "code",
   "execution_count": 42,
   "metadata": {
    "colab": {
     "base_uri": "https://localhost:8080/",
     "height": 2029
    },
    "colab_type": "code",
    "executionInfo": {
     "elapsed": 726,
     "status": "ok",
     "timestamp": 1552620019954,
     "user": {
      "displayName": "",
      "photoUrl": "",
      "userId": ""
     },
     "user_tz": -660
    },
    "id": "S3l7S_qBXUT2",
    "outputId": "1a4753f4-e695-484f-9469-4eb5ff2ceafe"
   },
   "outputs": [
    {
     "name": "stdout",
     "output_type": "stream",
     "text": [
      "Help on function scatter in module matplotlib.pyplot:\n",
      "\n",
      "scatter(x, y, s=None, c=None, marker=None, cmap=None, norm=None, vmin=None, vmax=None, alpha=None, linewidths=None, verts=<deprecated parameter>, edgecolors=None, *, plotnonfinite=False, data=None, **kwargs)\n",
      "    A scatter plot of *y* vs. *x* with varying marker size and/or color.\n",
      "    \n",
      "    Parameters\n",
      "    ----------\n",
      "    x, y : scalar or array-like, shape (n, )\n",
      "        The data positions.\n",
      "    \n",
      "    s : scalar or array-like, shape (n, ), optional\n",
      "        The marker size in points**2.\n",
      "        Default is ``rcParams['lines.markersize'] ** 2``.\n",
      "    \n",
      "    c : array-like or list of colors or color, optional\n",
      "        The marker colors. Possible values:\n",
      "    \n",
      "        - A scalar or sequence of n numbers to be mapped to colors using\n",
      "          *cmap* and *norm*.\n",
      "        - A 2-D array in which the rows are RGB or RGBA.\n",
      "        - A sequence of colors of length n.\n",
      "        - A single color format string.\n",
      "    \n",
      "        Note that *c* should not be a single numeric RGB or RGBA sequence\n",
      "        because that is indistinguishable from an array of values to be\n",
      "        colormapped. If you want to specify the same RGB or RGBA value for\n",
      "        all points, use a 2-D array with a single row.  Otherwise, value-\n",
      "        matching will have precedence in case of a size matching with *x*\n",
      "        and *y*.\n",
      "    \n",
      "        If you wish to specify a single color for all points\n",
      "        prefer the *color* keyword argument.\n",
      "    \n",
      "        Defaults to `None`. In that case the marker color is determined\n",
      "        by the value of *color*, *facecolor* or *facecolors*. In case\n",
      "        those are not specified or `None`, the marker color is determined\n",
      "        by the next color of the ``Axes``' current \"shape and fill\" color\n",
      "        cycle. This cycle defaults to :rc:`axes.prop_cycle`.\n",
      "    \n",
      "    marker : `~matplotlib.markers.MarkerStyle`, optional\n",
      "        The marker style. *marker* can be either an instance of the class\n",
      "        or the text shorthand for a particular marker.\n",
      "        Defaults to ``None``, in which case it takes the value of\n",
      "        :rc:`scatter.marker` = 'o'.\n",
      "        See `~matplotlib.markers` for more information about marker styles.\n",
      "    \n",
      "    cmap : `~matplotlib.colors.Colormap`, optional, default: None\n",
      "        A `.Colormap` instance or registered colormap name. *cmap* is only\n",
      "        used if *c* is an array of floats. If ``None``, defaults to rc\n",
      "        ``image.cmap``.\n",
      "    \n",
      "    norm : `~matplotlib.colors.Normalize`, optional, default: None\n",
      "        A `.Normalize` instance is used to scale luminance data to 0, 1.\n",
      "        *norm* is only used if *c* is an array of floats. If *None*, use\n",
      "        the default `.colors.Normalize`.\n",
      "    \n",
      "    vmin, vmax : scalar, optional, default: None\n",
      "        *vmin* and *vmax* are used in conjunction with *norm* to normalize\n",
      "        luminance data. If None, the respective min and max of the color\n",
      "        array is used. *vmin* and *vmax* are ignored if you pass a *norm*\n",
      "        instance.\n",
      "    \n",
      "    alpha : scalar, optional, default: None\n",
      "        The alpha blending value, between 0 (transparent) and 1 (opaque).\n",
      "    \n",
      "    linewidths : scalar or array-like, optional, default: None\n",
      "        The linewidth of the marker edges. Note: The default *edgecolors*\n",
      "        is 'face'. You may want to change this as well.\n",
      "        If *None*, defaults to :rc:`lines.linewidth`.\n",
      "    \n",
      "    edgecolors : {'face', 'none', *None*} or color or sequence of color, optional.\n",
      "        The edge color of the marker. Possible values:\n",
      "    \n",
      "        - 'face': The edge color will always be the same as the face color.\n",
      "        - 'none': No patch boundary will be drawn.\n",
      "        - A Matplotlib color or sequence of color.\n",
      "    \n",
      "        Defaults to ``None``, in which case it takes the value of\n",
      "        :rc:`scatter.edgecolors` = 'face'.\n",
      "    \n",
      "        For non-filled markers, the *edgecolors* kwarg is ignored and\n",
      "        forced to 'face' internally.\n",
      "    \n",
      "    plotnonfinite : boolean, optional, default: False\n",
      "        Set to plot points with nonfinite *c*, in conjunction with\n",
      "        `~matplotlib.colors.Colormap.set_bad`.\n",
      "    \n",
      "    Returns\n",
      "    -------\n",
      "    paths : `~matplotlib.collections.PathCollection`\n",
      "    \n",
      "    Other Parameters\n",
      "    ----------------\n",
      "    **kwargs : `~matplotlib.collections.Collection` properties\n",
      "    \n",
      "    See Also\n",
      "    --------\n",
      "    plot : To plot scatter plots when markers are identical in size and\n",
      "        color.\n",
      "    \n",
      "    Notes\n",
      "    -----\n",
      "    * The `.plot` function will be faster for scatterplots where markers\n",
      "      don't vary in size or color.\n",
      "    \n",
      "    * Any or all of *x*, *y*, *s*, and *c* may be masked arrays, in which\n",
      "      case all masks will be combined and only unmasked points will be\n",
      "      plotted.\n",
      "    \n",
      "    * Fundamentally, scatter works with 1-D arrays; *x*, *y*, *s*, and *c*\n",
      "      may be input as N-D arrays, but within scatter they will be\n",
      "      flattened. The exception is *c*, which will be flattened only if its\n",
      "      size matches the size of *x* and *y*.\n",
      "    \n",
      "    .. note::\n",
      "        In addition to the above described arguments, this function can take a\n",
      "        **data** keyword argument. If such a **data** argument is given, the\n",
      "        following arguments are replaced by **data[<arg>]**:\n",
      "    \n",
      "        * All arguments with the following names: 'c', 'color', 'edgecolors', 'facecolor', 'facecolors', 'linewidths', 's', 'x', 'y'.\n",
      "    \n",
      "        Objects passed as **data** must support item access (``data[<arg>]``) and\n",
      "        membership test (``<arg> in data``).\n",
      "\n"
     ]
    }
   ],
   "source": [
    "help(plt.scatter)"
   ]
  },
  {
   "cell_type": "code",
   "execution_count": 43,
   "metadata": {},
   "outputs": [
    {
     "data": {
      "image/png": "[encoded data removed]",
      "text/plain": [
       "<Figure size 864x288 with 1 Axes>"
      ]
     },
     "metadata": {
      "needs_background": "light"
     },
     "output_type": "display_data"
    }
   ],
   "source": [
    "x= height\n",
    "y= weight\n",
    "from matplotlib import rcParams\n",
    "rcParams['figure.figsize'] = 12,4\n",
    "plt.scatter(x,y,color='palevioletred',s=30,marker='o',alpha=0.1)\n",
    "plt.title('Height vs Weight',fontsize=15)\n",
    "plt.show()\n"
   ]
  },
  {
   "cell_type": "markdown",
   "metadata": {},
   "source": [
    "# My Workspace On Numpy\n",
    "###### For my reference"
   ]
  },
  {
   "cell_type": "code",
   "execution_count": 122,
   "metadata": {},
   "outputs": [
    {
     "name": "stdout",
     "output_type": "stream",
     "text": [
      "[ 1  8 27 64]\n"
     ]
    }
   ],
   "source": [
    "# Defining 1D array\n",
    "my1DArray = np.array([1,8,27,64])\n",
    "print(my1DArray)"
   ]
  },
  {
   "cell_type": "code",
   "execution_count": 123,
   "metadata": {},
   "outputs": [
    {
     "name": "stdout",
     "output_type": "stream",
     "text": [
      "[[ 1  2  3  4]\n",
      " [ 2  4  9 16]\n",
      " [ 4  8 18 32]]\n"
     ]
    }
   ],
   "source": [
    "# Defining and printing 2D array\n",
    "my2DArray = np.array([[1, 2, 3, 4], [2, 4, 9, 16], [4, 8, 18, 32]])\n",
    "print(my2DArray)"
   ]
  },
  {
   "cell_type": "code",
   "execution_count": 124,
   "metadata": {},
   "outputs": [
    {
     "name": "stdout",
     "output_type": "stream",
     "text": [
      "[[[ 1  2  3  4]\n",
      "  [ 5  6  7  8]]\n",
      "\n",
      " [[ 1  2  3  4]\n",
      "  [ 9 10 11 12]]]\n"
     ]
    }
   ],
   "source": [
    "#Defining and printing 3D array\n",
    "my3Darray = np.array([[[ 1, 2 , 3 , 4],[ 5 , 6 , 7  ,8]], [[ 1,  2,  3,  4],[ 9, 10, 11, 12]]])\n",
    "print(my3Darray)"
   ]
  },
  {
   "cell_type": "code",
   "execution_count": 125,
   "metadata": {},
   "outputs": [
    {
     "name": "stdout",
     "output_type": "stream",
     "text": [
      "<memory at 0x7f99d3d7c9f0>\n"
     ]
    }
   ],
   "source": [
    "# Print out memory address\n",
    "print(my2DArray.data)\n"
   ]
  },
  {
   "cell_type": "code",
   "execution_count": 126,
   "metadata": {},
   "outputs": [
    {
     "name": "stdout",
     "output_type": "stream",
     "text": [
      "(3, 4)\n"
     ]
    }
   ],
   "source": [
    "# Print the shape of array\n",
    "print(my2DArray.shape)\n"
   ]
  },
  {
   "cell_type": "code",
   "execution_count": 127,
   "metadata": {},
   "outputs": [
    {
     "name": "stdout",
     "output_type": "stream",
     "text": [
      "int64\n"
     ]
    }
   ],
   "source": [
    "# Print out the data type of the array\n",
    "print(my2DArray.dtype)"
   ]
  },
  {
   "cell_type": "code",
   "execution_count": 128,
   "metadata": {},
   "outputs": [
    {
     "name": "stdout",
     "output_type": "stream",
     "text": [
      "(32, 8)\n"
     ]
    }
   ],
   "source": [
    "\"\"\"\n",
    "Print the stride of the array.\n",
    "So what is stride of array?  It is the number of locations in memory between \n",
    "beginnings of successive array elements, measured in bytes or in units of the\n",
    "size of the array's elements\n",
    "\"\"\"\n",
    "print(my2DArray.strides)"
   ]
  },
  {
   "cell_type": "code",
   "execution_count": 129,
   "metadata": {},
   "outputs": [
    {
     "name": "stdout",
     "output_type": "stream",
     "text": [
      "[[1. 1. 1. 1.]\n",
      " [1. 1. 1. 1.]\n",
      " [1. 1. 1. 1.]]\n"
     ]
    }
   ],
   "source": [
    "# Array of ones\n",
    "ones = np.ones((3,4))\n",
    "print(ones)"
   ]
  },
  {
   "cell_type": "code",
   "execution_count": 130,
   "metadata": {},
   "outputs": [
    {
     "name": "stdout",
     "output_type": "stream",
     "text": [
      "[[[0 0 0 0]\n",
      "  [0 0 0 0]\n",
      "  [0 0 0 0]]\n",
      "\n",
      " [[0 0 0 0]\n",
      "  [0 0 0 0]\n",
      "  [0 0 0 0]]]\n"
     ]
    }
   ],
   "source": [
    "# Array of zeros\n",
    "zeros = np.zeros((2,3,4),dtype=np.int16)\n",
    "print(zeros)"
   ]
  },
  {
   "cell_type": "code",
   "execution_count": 131,
   "metadata": {},
   "outputs": [
    {
     "data": {
      "text/plain": [
       "array([[0.4696533 , 0.55698494],\n",
       "       [0.54020315, 0.28827501]])"
      ]
     },
     "execution_count": 131,
     "metadata": {},
     "output_type": "execute_result"
    }
   ],
   "source": [
    "# Array with random values\n",
    "np.random.random((2,2))"
   ]
  },
  {
   "cell_type": "code",
   "execution_count": 132,
   "metadata": {},
   "outputs": [
    {
     "name": "stdout",
     "output_type": "stream",
     "text": [
      "[[ 20.  40.]\n",
      " [ 60.  80.]\n",
      " [100. 120.]]\n"
     ]
    }
   ],
   "source": [
    "# Empty array(The empty() function is used to create a new array of given shape and type, without \n",
    "# initializing entries.)\n",
    "emptyArray = np.empty((3,2))\n",
    "print(emptyArray)"
   ]
  },
  {
   "cell_type": "code",
   "execution_count": 133,
   "metadata": {},
   "outputs": [
    {
     "name": "stdout",
     "output_type": "stream",
     "text": [
      "[[7 7]\n",
      " [7 7]]\n"
     ]
    }
   ],
   "source": [
    "# Full array\n",
    "fullArray = np.full((2,2),7)\n",
    "print(fullArray)"
   ]
  },
  {
   "cell_type": "code",
   "execution_count": 134,
   "metadata": {},
   "outputs": [
    {
     "name": "stdout",
     "output_type": "stream",
     "text": [
      "[10 15 20]\n"
     ]
    }
   ],
   "source": [
    "# Array of evenly-spaced values\n",
    "evenSpacedArray = np.arange(10,25,5)\n",
    "print(evenSpacedArray)"
   ]
  },
  {
   "cell_type": "code",
   "execution_count": 137,
   "metadata": {},
   "outputs": [
    {
     "name": "stdout",
     "output_type": "stream",
     "text": [
      "[0.   0.25 0.5  0.75 1.   1.25 1.5  1.75 2.  ]\n"
     ]
    }
   ],
   "source": [
    "# Array of evenly-spaced values\n",
    "evenSpacedArray2 = np.linspace(0,2,9)\n",
    "print(evenSpacedArray2)"
   ]
  },
  {
   "cell_type": "code",
   "execution_count": 138,
   "metadata": {},
   "outputs": [],
   "source": [
    "# Save a numpy array into file\n",
    "x = np.arange(0.0,50.0,1.0)\n",
    "np.savetxt('data.out', x, delimiter=',')\n"
   ]
  },
  {
   "cell_type": "code",
   "execution_count": 139,
   "metadata": {},
   "outputs": [
    {
     "name": "stdout",
     "output_type": "stream",
     "text": [
      "[ 0.  1.  2.  3.  4.  5.  6.  7.  8.  9. 10. 11. 12. 13. 14. 15. 16. 17.\n",
      " 18. 19. 20. 21. 22. 23. 24. 25. 26. 27. 28. 29. 30. 31. 32. 33. 34. 35.\n",
      " 36. 37. 38. 39. 40. 41. 42. 43. 44. 45. 46. 47. 48. 49.]\n"
     ]
    }
   ],
   "source": [
    "# Loading numpy array from text\n",
    "z = np.loadtxt('data.out', unpack=True)\n",
    "print(z)"
   ]
  },
  {
   "cell_type": "code",
   "execution_count": 140,
   "metadata": {},
   "outputs": [
    {
     "name": "stdout",
     "output_type": "stream",
     "text": [
      "[ 1.  2.  3.  4.  5.  6.  7.  8.  9. 10. 11. 12. 13. 14. 15. 16. 17. 18.\n",
      " 19. 20. 21. 22. 23. 24. 25. 26. 27. 28. 29. 30. 31. 32. 33. 34. 35. 36.\n",
      " 37. 38. 39. 40. 41. 42. 43. 44. 45. 46. 47. 48. 49.]\n"
     ]
    }
   ],
   "source": [
    "# Loading numpy array using genfromtxt method\n",
    "my_array2 = np.genfromtxt('data.out',\n",
    "                      skip_header=1,\n",
    "                      filling_values=-999)\n",
    "print(my_array2)\n"
   ]
  },
  {
   "cell_type": "markdown",
   "metadata": {},
   "source": [
    "### Inspecting numpy arrays"
   ]
  },
  {
   "cell_type": "code",
   "execution_count": 141,
   "metadata": {},
   "outputs": [
    {
     "name": "stdout",
     "output_type": "stream",
     "text": [
      "2\n"
     ]
    }
   ],
   "source": [
    "# Print the number of `my2DArray`'s dimensions\n",
    "print(my2DArray.ndim)"
   ]
  },
  {
   "cell_type": "code",
   "execution_count": 142,
   "metadata": {},
   "outputs": [
    {
     "name": "stdout",
     "output_type": "stream",
     "text": [
      "12\n"
     ]
    }
   ],
   "source": [
    "# Print the number of `my2DArray`'s elements\n",
    "print(my2DArray.size)"
   ]
  },
  {
   "cell_type": "code",
   "execution_count": 143,
   "metadata": {},
   "outputs": [
    {
     "name": "stdout",
     "output_type": "stream",
     "text": [
      "  C_CONTIGUOUS : True\n",
      "  F_CONTIGUOUS : False\n",
      "  OWNDATA : True\n",
      "  WRITEABLE : True\n",
      "  ALIGNED : True\n",
      "  WRITEBACKIFCOPY : False\n",
      "  UPDATEIFCOPY : False\n",
      "\n"
     ]
    }
   ],
   "source": [
    "# Print information about `my2DArray`'s memory layout\n",
    "print(my2DArray.flags)"
   ]
  },
  {
   "cell_type": "code",
   "execution_count": 144,
   "metadata": {},
   "outputs": [
    {
     "name": "stdout",
     "output_type": "stream",
     "text": [
      "8\n"
     ]
    }
   ],
   "source": [
    "# Print the length of one array element in bytes\n",
    "print(my2DArray.itemsize)\n"
   ]
  },
  {
   "cell_type": "code",
   "execution_count": 145,
   "metadata": {},
   "outputs": [
    {
     "name": "stdout",
     "output_type": "stream",
     "text": [
      "96\n"
     ]
    }
   ],
   "source": [
    "# Print the total consumed bytes by `my2DArray`'s elements\n",
    "print(my2DArray.nbytes)\n"
   ]
  },
  {
   "cell_type": "markdown",
   "metadata": {},
   "source": [
    "###  Broadcasting in NumPy\n",
    "Broadcasting is a mechanism that permits `NumPy` to operate with arrays of different shapes when performing arithmetic operations."
   ]
  },
  {
   "cell_type": "code",
   "execution_count": 148,
   "metadata": {},
   "outputs": [
    {
     "name": "stdout",
     "output_type": "stream",
     "text": [
      "[[1. 1. 1. 1. 1. 1. 1. 1.]\n",
      " [1. 1. 1. 1. 1. 1. 1. 1.]\n",
      " [1. 1. 1. 1. 1. 1. 1. 1.]\n",
      " [1. 1. 1. 1. 1. 1. 1. 1.]\n",
      " [1. 1. 1. 1. 1. 1. 1. 1.]\n",
      " [1. 1. 1. 1. 1. 1. 1. 1.]]\n"
     ]
    }
   ],
   "source": [
    "# Rule 1: Two dimensions are operatable if they are equal\n",
    "# Create an array of two dimension\n",
    "A =np.ones((6, 8))\n",
    "print(A)"
   ]
  },
  {
   "cell_type": "code",
   "execution_count": 149,
   "metadata": {},
   "outputs": [
    {
     "name": "stdout",
     "output_type": "stream",
     "text": [
      "(6, 8)\n"
     ]
    }
   ],
   "source": [
    "# Shape of A\n",
    "print(A.shape)"
   ]
  },
  {
   "cell_type": "code",
   "execution_count": 151,
   "metadata": {},
   "outputs": [
    {
     "name": "stdout",
     "output_type": "stream",
     "text": [
      "[[0.92301219 0.98255511 0.1335502  0.63374757 0.09664004 0.04043333\n",
      "  0.95070538 0.78280087]\n",
      " [0.68831033 0.72591268 0.01308846 0.12186421 0.66616508 0.3629038\n",
      "  0.42340785 0.76853113]\n",
      " [0.87039717 0.32378119 0.79994612 0.54734375 0.34785455 0.4999201\n",
      "  0.79814496 0.43330294]\n",
      " [0.61070615 0.45630889 0.04209579 0.05284868 0.76352732 0.33396475\n",
      "  0.16628732 0.26030872]\n",
      " [0.82052901 0.92659326 0.45321864 0.02469154 0.99477453 0.82799434\n",
      "  0.63197912 0.74517901]\n",
      " [0.89760216 0.54989736 0.76368052 0.17444574 0.59694803 0.30942083\n",
      "  0.78113756 0.13847433]]\n"
     ]
    }
   ],
   "source": [
    "\n",
    "# Create another array\n",
    "B = np.random.random((6,8))\n",
    "print(B)"
   ]
  },
  {
   "cell_type": "code",
   "execution_count": 152,
   "metadata": {},
   "outputs": [
    {
     "name": "stdout",
     "output_type": "stream",
     "text": [
      "(6, 8)\n"
     ]
    }
   ],
   "source": [
    "# Shape of B\n",
    "print(B.shape)"
   ]
  },
  {
   "cell_type": "code",
   "execution_count": 153,
   "metadata": {},
   "outputs": [
    {
     "name": "stdout",
     "output_type": "stream",
     "text": [
      "[[1.92301219 1.98255511 1.1335502  1.63374757 1.09664004 1.04043333\n",
      "  1.95070538 1.78280087]\n",
      " [1.68831033 1.72591268 1.01308846 1.12186421 1.66616508 1.3629038\n",
      "  1.42340785 1.76853113]\n",
      " [1.87039717 1.32378119 1.79994612 1.54734375 1.34785455 1.4999201\n",
      "  1.79814496 1.43330294]\n",
      " [1.61070615 1.45630889 1.04209579 1.05284868 1.76352732 1.33396475\n",
      "  1.16628732 1.26030872]\n",
      " [1.82052901 1.92659326 1.45321864 1.02469154 1.99477453 1.82799434\n",
      "  1.63197912 1.74517901]\n",
      " [1.89760216 1.54989736 1.76368052 1.17444574 1.59694803 1.30942083\n",
      "  1.78113756 1.13847433]]\n"
     ]
    }
   ],
   "source": [
    "# Sum of A and B, here the shape of both the matrix is same.\n",
    "print(A + B)"
   ]
  },
  {
   "cell_type": "code",
   "execution_count": 154,
   "metadata": {},
   "outputs": [
    {
     "name": "stdout",
     "output_type": "stream",
     "text": [
      "[[1. 1. 1. 1.]\n",
      " [1. 1. 1. 1.]\n",
      " [1. 1. 1. 1.]]\n"
     ]
    }
   ],
   "source": [
    "# Rule 2: Two dimensions are also comptable when one of them is 1\n",
    "# Initialize `x`\n",
    "x = np.ones((3,4))\n",
    "print(x)"
   ]
  },
  {
   "cell_type": "code",
   "execution_count": 155,
   "metadata": {},
   "outputs": [
    {
     "name": "stdout",
     "output_type": "stream",
     "text": [
      "(3, 4)\n"
     ]
    }
   ],
   "source": [
    "# Check shape of `x`\n",
    "print(x.shape)"
   ]
  },
  {
   "cell_type": "code",
   "execution_count": 156,
   "metadata": {},
   "outputs": [
    {
     "name": "stdout",
     "output_type": "stream",
     "text": [
      "[0 1 2 3]\n"
     ]
    }
   ],
   "source": [
    "# Initialize `y`\n",
    "y = np.arange(4)\n",
    "print(y)"
   ]
  },
  {
   "cell_type": "code",
   "execution_count": 157,
   "metadata": {},
   "outputs": [
    {
     "name": "stdout",
     "output_type": "stream",
     "text": [
      "(4,)\n"
     ]
    }
   ],
   "source": [
    "# Check shape of `y`\n",
    "print(y.shape)"
   ]
  },
  {
   "cell_type": "code",
   "execution_count": 158,
   "metadata": {},
   "outputs": [
    {
     "data": {
      "text/plain": [
       "array([[ 1.,  0., -1., -2.],\n",
       "       [ 1.,  0., -1., -2.],\n",
       "       [ 1.,  0., -1., -2.]])"
      ]
     },
     "execution_count": 158,
     "metadata": {},
     "output_type": "execute_result"
    }
   ],
   "source": [
    "# Subtract `x` and `y`\n",
    "x - y"
   ]
  },
  {
   "cell_type": "code",
   "execution_count": 159,
   "metadata": {},
   "outputs": [
    {
     "name": "stdout",
     "output_type": "stream",
     "text": [
      "[[[1.99009303 1.26353579 1.33487238 1.81373543 1.3054921  1.0395167\n",
      "   1.76071269 1.29666119]\n",
      "  [1.99009303 1.26353579 1.33487238 1.81373543 1.3054921  1.0395167\n",
      "   1.76071269 1.29666119]\n",
      "  [1.99009303 1.26353579 1.33487238 1.81373543 1.3054921  1.0395167\n",
      "   1.76071269 1.29666119]\n",
      "  [1.99009303 1.26353579 1.33487238 1.81373543 1.3054921  1.0395167\n",
      "   1.76071269 1.29666119]\n",
      "  [1.99009303 1.26353579 1.33487238 1.81373543 1.3054921  1.0395167\n",
      "   1.76071269 1.29666119]\n",
      "  [1.99009303 1.26353579 1.33487238 1.81373543 1.3054921  1.0395167\n",
      "   1.76071269 1.29666119]]\n",
      "\n",
      " [[1.618312   1.94092363 1.41115001 1.82157772 1.58031951 1.91054876\n",
      "   1.1334008  1.47688254]\n",
      "  [1.618312   1.94092363 1.41115001 1.82157772 1.58031951 1.91054876\n",
      "   1.1334008  1.47688254]\n",
      "  [1.618312   1.94092363 1.41115001 1.82157772 1.58031951 1.91054876\n",
      "   1.1334008  1.47688254]\n",
      "  [1.618312   1.94092363 1.41115001 1.82157772 1.58031951 1.91054876\n",
      "   1.1334008  1.47688254]\n",
      "  [1.618312   1.94092363 1.41115001 1.82157772 1.58031951 1.91054876\n",
      "   1.1334008  1.47688254]\n",
      "  [1.618312   1.94092363 1.41115001 1.82157772 1.58031951 1.91054876\n",
      "   1.1334008  1.47688254]]\n",
      "\n",
      " [[1.1313237  1.56617552 1.03998038 1.05180306 1.88204493 1.0444108\n",
      "   1.19439869 1.3702145 ]\n",
      "  [1.1313237  1.56617552 1.03998038 1.05180306 1.88204493 1.0444108\n",
      "   1.19439869 1.3702145 ]\n",
      "  [1.1313237  1.56617552 1.03998038 1.05180306 1.88204493 1.0444108\n",
      "   1.19439869 1.3702145 ]\n",
      "  [1.1313237  1.56617552 1.03998038 1.05180306 1.88204493 1.0444108\n",
      "   1.19439869 1.3702145 ]\n",
      "  [1.1313237  1.56617552 1.03998038 1.05180306 1.88204493 1.0444108\n",
      "   1.19439869 1.3702145 ]\n",
      "  [1.1313237  1.56617552 1.03998038 1.05180306 1.88204493 1.0444108\n",
      "   1.19439869 1.3702145 ]]\n",
      "\n",
      " [[1.28547579 1.87472938 1.97247262 1.48249257 1.23981883 1.67196974\n",
      "   1.41498904 1.61833574]\n",
      "  [1.28547579 1.87472938 1.97247262 1.48249257 1.23981883 1.67196974\n",
      "   1.41498904 1.61833574]\n",
      "  [1.28547579 1.87472938 1.97247262 1.48249257 1.23981883 1.67196974\n",
      "   1.41498904 1.61833574]\n",
      "  [1.28547579 1.87472938 1.97247262 1.48249257 1.23981883 1.67196974\n",
      "   1.41498904 1.61833574]\n",
      "  [1.28547579 1.87472938 1.97247262 1.48249257 1.23981883 1.67196974\n",
      "   1.41498904 1.61833574]\n",
      "  [1.28547579 1.87472938 1.97247262 1.48249257 1.23981883 1.67196974\n",
      "   1.41498904 1.61833574]]\n",
      "\n",
      " [[1.37038383 1.20396646 1.93712221 1.19454423 1.73270675 1.85458253\n",
      "   1.94255244 1.83508015]\n",
      "  [1.37038383 1.20396646 1.93712221 1.19454423 1.73270675 1.85458253\n",
      "   1.94255244 1.83508015]\n",
      "  [1.37038383 1.20396646 1.93712221 1.19454423 1.73270675 1.85458253\n",
      "   1.94255244 1.83508015]\n",
      "  [1.37038383 1.20396646 1.93712221 1.19454423 1.73270675 1.85458253\n",
      "   1.94255244 1.83508015]\n",
      "  [1.37038383 1.20396646 1.93712221 1.19454423 1.73270675 1.85458253\n",
      "   1.94255244 1.83508015]\n",
      "  [1.37038383 1.20396646 1.93712221 1.19454423 1.73270675 1.85458253\n",
      "   1.94255244 1.83508015]]\n",
      "\n",
      " [[1.20095665 1.07020998 1.34297072 1.25531891 1.39854352 1.46381374\n",
      "   1.401046   1.97362861]\n",
      "  [1.20095665 1.07020998 1.34297072 1.25531891 1.39854352 1.46381374\n",
      "   1.401046   1.97362861]\n",
      "  [1.20095665 1.07020998 1.34297072 1.25531891 1.39854352 1.46381374\n",
      "   1.401046   1.97362861]\n",
      "  [1.20095665 1.07020998 1.34297072 1.25531891 1.39854352 1.46381374\n",
      "   1.401046   1.97362861]\n",
      "  [1.20095665 1.07020998 1.34297072 1.25531891 1.39854352 1.46381374\n",
      "   1.401046   1.97362861]\n",
      "  [1.20095665 1.07020998 1.34297072 1.25531891 1.39854352 1.46381374\n",
      "   1.401046   1.97362861]]\n",
      "\n",
      " [[1.36549083 1.05703972 1.59610983 1.87641409 1.87538177 1.514069\n",
      "   1.84843492 1.48934493]\n",
      "  [1.36549083 1.05703972 1.59610983 1.87641409 1.87538177 1.514069\n",
      "   1.84843492 1.48934493]\n",
      "  [1.36549083 1.05703972 1.59610983 1.87641409 1.87538177 1.514069\n",
      "   1.84843492 1.48934493]\n",
      "  [1.36549083 1.05703972 1.59610983 1.87641409 1.87538177 1.514069\n",
      "   1.84843492 1.48934493]\n",
      "  [1.36549083 1.05703972 1.59610983 1.87641409 1.87538177 1.514069\n",
      "   1.84843492 1.48934493]\n",
      "  [1.36549083 1.05703972 1.59610983 1.87641409 1.87538177 1.514069\n",
      "   1.84843492 1.48934493]]\n",
      "\n",
      " [[1.44506897 1.31105558 1.62770849 1.21562646 1.54495908 1.97545358\n",
      "   1.02523789 1.1009378 ]\n",
      "  [1.44506897 1.31105558 1.62770849 1.21562646 1.54495908 1.97545358\n",
      "   1.02523789 1.1009378 ]\n",
      "  [1.44506897 1.31105558 1.62770849 1.21562646 1.54495908 1.97545358\n",
      "   1.02523789 1.1009378 ]\n",
      "  [1.44506897 1.31105558 1.62770849 1.21562646 1.54495908 1.97545358\n",
      "   1.02523789 1.1009378 ]\n",
      "  [1.44506897 1.31105558 1.62770849 1.21562646 1.54495908 1.97545358\n",
      "   1.02523789 1.1009378 ]\n",
      "  [1.44506897 1.31105558 1.62770849 1.21562646 1.54495908 1.97545358\n",
      "   1.02523789 1.1009378 ]]\n",
      "\n",
      " [[1.32602515 1.41196244 1.89249348 1.62324349 1.26034116 1.01077904\n",
      "   1.33906552 1.08663193]\n",
      "  [1.32602515 1.41196244 1.89249348 1.62324349 1.26034116 1.01077904\n",
      "   1.33906552 1.08663193]\n",
      "  [1.32602515 1.41196244 1.89249348 1.62324349 1.26034116 1.01077904\n",
      "   1.33906552 1.08663193]\n",
      "  [1.32602515 1.41196244 1.89249348 1.62324349 1.26034116 1.01077904\n",
      "   1.33906552 1.08663193]\n",
      "  [1.32602515 1.41196244 1.89249348 1.62324349 1.26034116 1.01077904\n",
      "   1.33906552 1.08663193]\n",
      "  [1.32602515 1.41196244 1.89249348 1.62324349 1.26034116 1.01077904\n",
      "   1.33906552 1.08663193]]\n",
      "\n",
      " [[1.79195154 1.5320588  1.33541736 1.24015952 1.54203779 1.01017295\n",
      "   1.44503428 1.65691994]\n",
      "  [1.79195154 1.5320588  1.33541736 1.24015952 1.54203779 1.01017295\n",
      "   1.44503428 1.65691994]\n",
      "  [1.79195154 1.5320588  1.33541736 1.24015952 1.54203779 1.01017295\n",
      "   1.44503428 1.65691994]\n",
      "  [1.79195154 1.5320588  1.33541736 1.24015952 1.54203779 1.01017295\n",
      "   1.44503428 1.65691994]\n",
      "  [1.79195154 1.5320588  1.33541736 1.24015952 1.54203779 1.01017295\n",
      "   1.44503428 1.65691994]\n",
      "  [1.79195154 1.5320588  1.33541736 1.24015952 1.54203779 1.01017295\n",
      "   1.44503428 1.65691994]]]\n"
     ]
    }
   ],
   "source": [
    "# Rule 3: Arrays can be broadcasted together if they are compatible in all dimensions\n",
    "\n",
    "x = np.ones((6,8))\n",
    "y = np.random.random((10, 1, 8))\n",
    "print(x + y)"
   ]
  },
  {
   "cell_type": "code",
   "execution_count": 161,
   "metadata": {},
   "outputs": [],
   "source": [
    "\"\"\"# Numpy and mathematics at work\"\"\"\n",
    "\n",
    "# Basica operations (+, -, *, /, %)\n",
    "x = np.array([[1, 2, 3], [2, 3, 4]])\n",
    "y = np.array([[1, 4, 9], [2, 3, -2]])"
   ]
  },
  {
   "cell_type": "code",
   "execution_count": 162,
   "metadata": {},
   "outputs": [
    {
     "name": "stdout",
     "output_type": "stream",
     "text": [
      "[[ 2  6 12]\n",
      " [ 4  6  2]]\n"
     ]
    }
   ],
   "source": [
    "# Add two array\n",
    "add = np.add(x, y)\n",
    "print(add)"
   ]
  },
  {
   "cell_type": "code",
   "execution_count": 163,
   "metadata": {},
   "outputs": [
    {
     "name": "stdout",
     "output_type": "stream",
     "text": [
      "[[ 0 -2 -6]\n",
      " [ 0  0  6]]\n"
     ]
    }
   ],
   "source": [
    "# Subtract two array\n",
    "sub = np.subtract(x, y)\n",
    "print(sub)"
   ]
  },
  {
   "cell_type": "code",
   "execution_count": 164,
   "metadata": {},
   "outputs": [
    {
     "name": "stdout",
     "output_type": "stream",
     "text": [
      "[[ 1  8 27]\n",
      " [ 4  9 -8]]\n"
     ]
    }
   ],
   "source": [
    "# Multipley two array\n",
    "mul = np.multiply(x, y)\n",
    "print(mul)"
   ]
  },
  {
   "cell_type": "code",
   "execution_count": 165,
   "metadata": {},
   "outputs": [
    {
     "name": "stdout",
     "output_type": "stream",
     "text": [
      "[[ 1.          0.5         0.33333333]\n",
      " [ 1.          1.         -2.        ]]\n"
     ]
    }
   ],
   "source": [
    "# Divide x, y\n",
    "div = np.divide(x,y)\n",
    "print(div)"
   ]
  },
  {
   "cell_type": "code",
   "execution_count": 166,
   "metadata": {},
   "outputs": [
    {
     "name": "stdout",
     "output_type": "stream",
     "text": [
      "[[0 2 3]\n",
      " [0 0 0]]\n"
     ]
    }
   ],
   "source": [
    "# Calculated the remainder of x and y\n",
    "rem = np.remainder(x, y)\n",
    "print(rem)"
   ]
  },
  {
   "cell_type": "code",
   "execution_count": 167,
   "metadata": {},
   "outputs": [],
   "source": [
    "\"\"\"# Subset, Slice, And Index Arrays\"\"\"\n",
    "\n",
    "x = np.array([10, 20, 30, 40, 50])"
   ]
  },
  {
   "cell_type": "code",
   "execution_count": 168,
   "metadata": {},
   "outputs": [
    {
     "name": "stdout",
     "output_type": "stream",
     "text": [
      "[10 20]\n"
     ]
    }
   ],
   "source": [
    "# Select items at index 0 and 1\n",
    "print(x[0:2])"
   ]
  },
  {
   "cell_type": "code",
   "execution_count": 358,
   "metadata": {},
   "outputs": [
    {
     "name": "stdout",
     "output_type": "stream",
     "text": [
      "[[ 1  2  3  4]\n",
      " [ 9 10 11 12]]\n"
     ]
    }
   ],
   "source": [
    "# Select item at row 0 and 1 and column 1 from 2D array\n",
    "y = np.array([[ 1,  2,  3,  4], [ 9, 10, 11 ,12]])\n",
    "print(y)"
   ]
  },
  {
   "cell_type": "code",
   "execution_count": 359,
   "metadata": {},
   "outputs": [
    {
     "name": "stdout",
     "output_type": "stream",
     "text": [
      "[ 2 10]\n"
     ]
    }
   ],
   "source": [
    "print(y[0:2, 1])"
   ]
  },
  {
   "cell_type": "code",
   "execution_count": 356,
   "metadata": {},
   "outputs": [
    {
     "name": "stdout",
     "output_type": "stream",
     "text": [
      "[ 39.68512397  78.27185729 100.29779446 ...  50.86256567  71.81884728\n",
      "  61.88850645]\n"
     ]
    }
   ],
   "source": [
    "# Specifying conditions\n",
    "biggerThan2 = (y > 2)\n",
    "print(y[biggerThan2])"
   ]
  },
  {
   "cell_type": "code",
   "execution_count": null,
   "metadata": {},
   "outputs": [],
   "source": []
  },
  {
   "cell_type": "code",
   "execution_count": null,
   "metadata": {},
   "outputs": [],
   "source": []
  },
  {
   "cell_type": "code",
   "execution_count": null,
   "metadata": {},
   "outputs": [],
   "source": []
  },
  {
   "cell_type": "markdown",
   "metadata": {
    "colab_type": "text",
    "id": "uwAr9EqbpZwg"
   },
   "source": [
    "\n",
    "\n",
    "---\n",
    "\n",
    "\n",
    "\n",
    "---\n",
    "\n",
    "\n",
    "\n",
    "> > > > > > > > > © 2019 Institute of Data\n",
    "\n",
    "\n",
    "---\n",
    "\n",
    "\n",
    "\n",
    "---\n",
    "\n",
    "\n",
    "\n"
   ]
  }
 ],
 "metadata": {
  "colab": {
   "collapsed_sections": [],
   "name": "Lab 1.2.1 Numpy Lab.ipynb",
   "provenance": [
    {
     "file_id": "https://github.com/ikfaisal/dsia/blob/master/Numpy01.ipynb",
     "timestamp": 1552620043198
    }
   ]
  },
  "kernelspec": {
   "display_name": "Python 3",
   "language": "python",
   "name": "python3"
  },
  "language_info": {
   "codemirror_mode": {
    "name": "ipython",
    "version": 3
   },
   "file_extension": ".py",
   "mimetype": "text/x-python",
   "name": "python",
   "nbconvert_exporter": "python",
   "pygments_lexer": "ipython3",
   "version": "3.8.3"
  }
 },
 "nbformat": 4,
 "nbformat_minor": 1
}
