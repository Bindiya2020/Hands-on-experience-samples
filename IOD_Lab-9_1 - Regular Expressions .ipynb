{
 "cells": [
  {
   "cell_type": "markdown",
   "metadata": {
    "colab_type": "text",
    "id": "4hbPgptrMKl-"
   },
   "source": [
    "<div>\n",
    "<img src=https://www.institutedata.com/wp-content/uploads/2019/10/iod_h_tp_primary_c.svg width=\"300\">\n",
    "</div>"
   ]
  },
  {
   "cell_type": "markdown",
   "metadata": {
    "colab_type": "text",
    "id": "5YFCF9NXMKmB"
   },
   "source": [
    "# Lab 9.1: Regular Expressions\n",
    "INSTRUCTIONS:\n",
    "- Read the guides and [hints](https://www.w3schools.com/python/python_regex.asp), then create the necessary analysis and code to find an answer and conclusion for the task below.\n",
    "- Complete `DSIA Demo-9_2` first"
   ]
  },
  {
   "cell_type": "markdown",
   "metadata": {
    "colab_type": "text",
    "id": "7HixmqcIMKmF"
   },
   "source": [
    "## 0. Import the necessary libraries\n",
    "\n",
    "Please use Python's built-in package called `re` to work with Regular Expressions."
   ]
  },
  {
   "cell_type": "code",
   "execution_count": 17,
   "metadata": {
    "colab": {},
    "colab_type": "code",
    "id": "zvHNnovVcwu0"
   },
   "outputs": [],
   "source": [
    "# Import Libraries\n",
    "import re"
   ]
  },
  {
   "cell_type": "markdown",
   "metadata": {
    "colab_type": "text",
    "id": "uyj2kaYeMKmI"
   },
   "source": [
    "## 1. Extract the `user id`, `domain name` and `suffix` from the following email addresses\n",
    "**Hint**: Use groups with `()`. There are more sophisticated patterns for matching the email domain and suffix. This is just one version of the answer."
   ]
  },
  {
   "cell_type": "code",
   "execution_count": 36,
   "metadata": {
    "colab": {},
    "colab_type": "code",
    "id": "RyB5pa2iMKmL"
   },
   "outputs": [
    {
     "name": "stdout",
     "output_type": "stream",
     "text": [
      "[('zuck26', 'facebook', 'com'), ('page33', 'google', 'com'), ('jeff42', 'amazon', 'com')]\n"
     ]
    }
   ],
   "source": [
    "emails = '''zuck26@facebook.com\n",
    "page33@google.com\n",
    "jeff42@amazon.com'''\n",
    "\n",
    "desired_output = [\n",
    "    ('zuck26', 'facebook', 'com'),\n",
    "    ('page33', 'google', 'com'),\n",
    "    ('jeff42', 'amazon', 'com')\n",
    "]\n",
    "\n",
    "pattern = r'(\\w+)@([A-Z0-9]+)\\.([A-Z]{2,4})'\n",
    "flags = re.IGNORECASE\n",
    "\n",
    "Result = re.findall(pattern, emails, flags = flags)\n",
    "print(Result)\n",
    "assert Result == desired_output, 'Not equal!'\n",
    "\n"
   ]
  },
  {
   "cell_type": "markdown",
   "metadata": {
    "colab_type": "text",
    "id": "x5VnTr9ZMKmV"
   },
   "source": [
    "## 2. Retrieve all the words starting with 'b' or 'B' from the following text\n",
    "`\\b` mandates the left of `B` is a word boundary, effectively requiring the word to start with `B`.\n",
    "\n",
    "Setting `flags` arg to `re.IGNORECASE` makes the pattern case insensitive."
   ]
  },
  {
   "cell_type": "code",
   "execution_count": 39,
   "metadata": {
    "colab": {},
    "colab_type": "code",
    "id": "mL5R80-xMKmX"
   },
   "outputs": [
    {
     "name": "stdout",
     "output_type": "stream",
     "text": [
      "['Betty', 'bought', 'bit', 'butter', 'But', 'butter', 'bitter', 'bought', 'better', 'butter', 'bitter', 'butter', 'better']\n"
     ]
    }
   ],
   "source": [
    "text = 'Betty bought a bit of butter, But the butter was so bitter, So she bought some better butter, To make the bitter butter better.'\n",
    "\n",
    "desired_output = [\n",
    "    'Betty', 'bought', 'bit', 'butter', 'But', \n",
    "    'butter', 'bitter', 'bought', 'better', \n",
    "    'butter', 'bitter', 'butter', 'better'\n",
    "]\n",
    "\n",
    "pattern = r'\\bB\\w+'\n",
    "flags = re.IGNORECASE\n",
    "\n",
    "output = re.findall(pattern, text, flags = flags)\n",
    "print(output)\n",
    "\n",
    "assert output == desired_output, 'Not equal!'"
   ]
  },
  {
   "cell_type": "markdown",
   "metadata": {
    "colab_type": "text",
    "id": "Dhzd73XzMKmb"
   },
   "source": [
    "## 3. Split the following irregular sentence into words\n",
    "Add more delimiters into the pattern as needed."
   ]
  },
  {
   "cell_type": "code",
   "execution_count": 43,
   "metadata": {
    "colab": {},
    "colab_type": "code",
    "id": "RCILkx5rMKmd"
   },
   "outputs": [
    {
     "name": "stdout",
     "output_type": "stream",
     "text": [
      "A very very irregular sentence\n"
     ]
    }
   ],
   "source": [
    "sentence = 'A, very   very; irregular_sentence'\n",
    "\n",
    "desired_output = 'A very very irregular sentence'\n",
    "\n",
    "pattern = r'[;,\\s_]+'\n",
    "\n",
    "output = ' '.join(re.split(pattern, sentence))\n",
    "print(output)\n",
    "assert output == desired_output, 'Not equal!'"
   ]
  },
  {
   "cell_type": "markdown",
   "metadata": {
    "colab_type": "text",
    "id": "YJoo9KuFMKmh"
   },
   "source": [
    "## 4. Clean up the following tweet so that it contains only the user’s message\n",
    "That is, remove all URLs, hashtags, mentions, punctuations, RTs and CCs."
   ]
  },
  {
   "cell_type": "markdown",
   "metadata": {},
   "source": [
    "Regular Expressions Syntax\n",
    "Basic Syntax\n",
    ".          One character except new line\n",
    "\\.         A period. \\ escapes a special character.\n",
    "\\d         One digit\n",
    "\\D         One non-digit\n",
    "\\w         One word character including digits\n",
    "\\W         One non-word character\n",
    "\\s         One whitespace\n",
    "\\S         One non-whitespace\n",
    "\\b         Word boundary\n",
    "\\n         Newline\n",
    "\\t         Tab\n",
    "Modifiers\n",
    "$          End of string\n",
    "^          Start of string\n",
    "ab|cd      Matches ab or de.\n",
    "[ab-d]     One character of: a, b, c, d\n",
    "[^ab-d]    One character except: a, b, c, d\n",
    "()         Items within parenthesis are retrieved\n",
    "(a(bc))    Items within the sub-parenthesis are retrieved\n",
    "Repetitions\n",
    "[ab]{2}    Exactly 2 continuous occurrences of a or b\n",
    "[ab]{2,5}  2 to 5 continuous occurrences of a or b\n",
    "[ab]{2,}   2 or more continuous occurrences of a or b\n",
    "+          One or more\n",
    "*          Zero or more\n",
    "?          0 or 1"
   ]
  },
  {
   "cell_type": "code",
   "execution_count": 49,
   "metadata": {
    "colab": {},
    "colab_type": "code",
    "id": "02JgjxPTMKmi"
   },
   "outputs": [
    {
     "name": "stdout",
     "output_type": "stream",
     "text": [
      "Good advice What I would do differently if I was learning to code today\n"
     ]
    }
   ],
   "source": [
    "tweet = 'Good advice! RT @TheNextWeb: What I would do differently if I was learning to code today http://t.co/lbwej0pxOd cc: @garybernhardt #rstats'\n",
    "\n",
    "desired_output = 'Good advice What I would do differently if I was learning to code today'\n",
    "\n",
    "def clean_tweet(tweet):\n",
    "    # remove URLs\n",
    "    tweet = re.sub(r'http\\S+\\s*', '', tweet)\n",
    "    # remove RT and cc\n",
    "    tweet = re.sub(r'RT|cc', '', tweet)\n",
    "    # remove hashtags\n",
    "    tweet = re.sub(r'#\\S+', '', tweet)\n",
    "    # remove mentions\n",
    "    tweet = re.sub(r'@\\S+', '', tweet)\n",
    "    # remove punctuations\n",
    "    tweet = re.sub('[!\"#\\$%&\\'()*+,-./:;<=>?@[\\\\]^_`{|}~]', '', tweet)\n",
    "    # remove extra whitespace\n",
    "    tweet = re.sub(r'\\s+', ' ', tweet)\n",
    "    # remove extra whitespace\n",
    "    tweet = re.sub(r'\\s+$', '', tweet)\n",
    "    \n",
    "    return tweet\n",
    "\n",
    "output = clean_tweet(tweet)\n",
    "assert output == desired_output, 'Not equal!'\n",
    "print(output)\n"
   ]
  },
  {
   "cell_type": "markdown",
   "metadata": {
    "colab_type": "text",
    "id": "RERADKgNFq9T"
   },
   "source": [
    "\n",
    "\n",
    "---\n",
    "\n",
    "\n",
    "\n",
    "---\n",
    "\n",
    "\n",
    "\n",
    "> > > > > > > > > © 2019 Institute of Data\n",
    "\n",
    "\n",
    "---\n",
    "\n",
    "\n",
    "\n",
    "---\n",
    "\n",
    "\n",
    "\n"
   ]
  },
  {
   "cell_type": "code",
   "execution_count": 0,
   "metadata": {
    "colab": {},
    "colab_type": "code",
    "id": "a0SDmzsZfn0p"
   },
   "outputs": [],
   "source": []
  }
 ],
 "metadata": {
  "colab": {
   "collapsed_sections": [],
   "name": "DSIA Lab-9_1.ipynb",
   "provenance": []
  },
  "kernelspec": {
   "display_name": "Python 3",
   "language": "python",
   "name": "python3"
  },
  "language_info": {
   "codemirror_mode": {
    "name": "ipython",
    "version": 3
   },
   "file_extension": ".py",
   "mimetype": "text/x-python",
   "name": "python",
   "nbconvert_exporter": "python",
   "pygments_lexer": "ipython3",
   "version": "3.8.3"
  }
 },
 "nbformat": 4,
 "nbformat_minor": 1
}
